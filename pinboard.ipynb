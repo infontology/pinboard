{
 "cells": [
  {
   "cell_type": "code",
   "execution_count": 168,
   "metadata": {},
   "outputs": [],
   "source": [
    "from credentials import *\n",
    "import pinboard\n",
    "import numpy as np"
   ]
  },
  {
   "cell_type": "code",
   "execution_count": 169,
   "metadata": {},
   "outputs": [],
   "source": [
    "pb = pinboard.Pinboard(api_token)"
   ]
  },
  {
   "cell_type": "markdown",
   "metadata": {},
   "source": [
    "Först lite allmän koll på bokmärkena och metadata. Läs in alla taggar och räkna dem:"
   ]
  },
  {
   "cell_type": "code",
   "execution_count": 170,
   "metadata": {},
   "outputs": [
    {
     "data": {
      "text/plain": [
       "520"
      ]
     },
     "execution_count": 170,
     "metadata": {},
     "output_type": "execute_result"
    }
   ],
   "source": [
    "tags = pb.tags.get()\n",
    "len(tags)"
   ]
  },
  {
   "cell_type": "markdown",
   "metadata": {},
   "source": [
    "Hitta hur många det finns av varje tagg:"
   ]
  },
  {
   "cell_type": "code",
   "execution_count": 171,
   "metadata": {},
   "outputs": [
    {
     "data": {
      "text/plain": [
       "[<Tag name=\"\"relationship\"\" count=15>,\n",
       " <Tag name=\"3d\" count=346>,\n",
       " <Tag name=\"9\" count=14>,\n",
       " <Tag name=\"Trends\" count=1>,\n",
       " <Tag name=\"abduction\" count=1>]"
      ]
     },
     "execution_count": 171,
     "metadata": {},
     "output_type": "execute_result"
    }
   ],
   "source": [
    "tags[:5]"
   ]
  },
  {
   "cell_type": "code",
   "execution_count": 172,
   "metadata": {},
   "outputs": [
    {
     "data": {
      "text/plain": [
       "array([['\"relationship\"', '15'],\n",
       "       ['3d', '346'],\n",
       "       ['9', '14'],\n",
       "       ['Trends', '1'],\n",
       "       ['abduction', '1']], dtype='<U29')"
      ]
     },
     "execution_count": 172,
     "metadata": {},
     "output_type": "execute_result"
    }
   ],
   "source": [
    "taggarna = np.array([[tag.name, tag.count] for tag in tags])\n",
    "taggarna[:5]"
   ]
  },
  {
   "cell_type": "code",
   "execution_count": null,
   "metadata": {},
   "outputs": [],
   "source": []
  },
  {
   "cell_type": "code",
   "execution_count": 173,
   "metadata": {},
   "outputs": [
    {
     "data": {
      "text/plain": [
       "(array([  3,   4,   9,  18,  23,  24,  26,  33,  38,  39,  42,  45,  49,\n",
       "         63,  71,  73,  78,  80,  97, 101, 103, 104, 106, 113, 116, 120,\n",
       "        124, 129, 131, 133, 136, 137, 142, 146, 149, 151, 152, 158, 160,\n",
       "        164, 170, 172, 178, 179, 181, 183, 185, 190, 193, 196, 198, 201,\n",
       "        205, 214, 216, 228, 230, 237, 246, 251, 260, 265, 270, 282, 284,\n",
       "        289, 291, 297, 299, 300, 303, 304, 311, 318, 324, 326, 329, 333,\n",
       "        336, 341, 342, 350, 357, 362, 369, 374, 378, 380, 382, 386, 389,\n",
       "        390, 391, 397, 398, 401, 407, 416, 431, 432, 433, 444, 447, 451,\n",
       "        452, 455, 458, 459, 468, 472, 479, 487, 488, 493, 494, 496, 498,\n",
       "        506, 513, 515, 518]),\n",
       " array([1, 1, 1, 1, 1, 1, 1, 1, 1, 1, 1, 1, 1, 1, 1, 1, 1, 1, 1, 1, 1, 1,\n",
       "        1, 1, 1, 1, 1, 1, 1, 1, 1, 1, 1, 1, 1, 1, 1, 1, 1, 1, 1, 1, 1, 1,\n",
       "        1, 1, 1, 1, 1, 1, 1, 1, 1, 1, 1, 1, 1, 1, 1, 1, 1, 1, 1, 1, 1, 1,\n",
       "        1, 1, 1, 1, 1, 1, 1, 1, 1, 1, 1, 1, 1, 1, 1, 1, 1, 1, 1, 1, 1, 1,\n",
       "        1, 1, 1, 1, 1, 1, 1, 1, 1, 1, 1, 1, 1, 1, 1, 1, 1, 1, 1, 1, 1, 1,\n",
       "        1, 1, 1, 1, 1, 1, 1, 1, 1, 1, 1]))"
      ]
     },
     "execution_count": 173,
     "metadata": {},
     "output_type": "execute_result"
    }
   ],
   "source": [
    "ensam = np.where(taggarna == '1')\n",
    "ensam"
   ]
  },
  {
   "cell_type": "code",
   "execution_count": 174,
   "metadata": {},
   "outputs": [
    {
     "data": {
      "text/plain": [
       "array([['Trends', '1'],\n",
       "       ['abduction', '1'],\n",
       "       ['adversarial', '1'],\n",
       "       ['algorithmic_decisionmaking', '1'],\n",
       "       ['amplification', '1'],\n",
       "       ['analysis', '1'],\n",
       "       ['anthropomorphism', '1'],\n",
       "       ['artificial_agents', '1'],\n",
       "       ['attribution', '1'],\n",
       "       ['auctions', '1'],\n",
       "       ['autism', '1'],\n",
       "       ['balkenius', '1'],\n",
       "       ['beyond_fiction', '1'],\n",
       "       ['bruce_sterling', '1'],\n",
       "       ['choice', '1'],\n",
       "       ['citizen_science', '1'],\n",
       "       ['co-production', '1'],\n",
       "       ['cognitive_surplus', '1'],\n",
       "       ['continent', '1'],\n",
       "       ['coordination', '1'],\n",
       "       ['correspondance', '1'],\n",
       "       ['could_have_been_killed', '1'],\n",
       "       ['creation', '1'],\n",
       "       ['crypto_currencies', '1'],\n",
       "       ['csr', '1'],\n",
       "       ['curiosity', '1'],\n",
       "       ['data', '1'],\n",
       "       ['dead_link', '1'],\n",
       "       ['deliberation', '1'],\n",
       "       ['depth', '1'],\n",
       "       ['destroy_win', '1'],\n",
       "       ['determinism', '1'],\n",
       "       ['digital_divide', '1'],\n",
       "       ['dignity', '1'],\n",
       "       ['disruptive_technology', '1'],\n",
       "       ['distinction', '1'],\n",
       "       ['diversity', '1'],\n",
       "       ['ecologism', '1'],\n",
       "       ['emergence', '1'],\n",
       "       ['encryption', '1'],\n",
       "       ['escher', '1'],\n",
       "       ['etiquette', '1'],\n",
       "       ['explorable_explanations', '1'],\n",
       "       ['extension_of_self', '1'],\n",
       "       ['faith_in_technology', '1'],\n",
       "       ['feature_creep', '1'],\n",
       "       ['fire', '1'],\n",
       "       ['for_the_lulz', '1'],\n",
       "       ['fractals', '1'],\n",
       "       ['friction', '1'],\n",
       "       ['fungi', '1'],\n",
       "       ['gait_recognition', '1'],\n",
       "       ['geeks', '1'],\n",
       "       ['gift_economy', '1'],\n",
       "       ['gnothi_seauton', '1'],\n",
       "       ['how_stuff_works', '1'],\n",
       "       ['human_computing', '1'],\n",
       "       ['ideals', '1'],\n",
       "       ['inefficiency', '1'],\n",
       "       ['information_dissemination', '1'],\n",
       "       ['intuition', '1'],\n",
       "       ['kevin_kelly', '1'],\n",
       "       ['legislation', '1'],\n",
       "       ['machinima', '1'],\n",
       "       ['manifest', '1'],\n",
       "       ['mcgilchrist', '1'],\n",
       "       ['measurement', '1'],\n",
       "       ['metabolic_rift', '1'],\n",
       "       ['metadesign', '1'],\n",
       "       ['methods', '1'],\n",
       "       ['micropublishing', '1'],\n",
       "       ['migragion', '1'],\n",
       "       ['modernism', '1'],\n",
       "       ['multitasking', '1'],\n",
       "       ['negotiation', '1'],\n",
       "       ['neo-feudalism', '1'],\n",
       "       ['neurotheology', '1'],\n",
       "       ['obscenity', '1'],\n",
       "       ['omnipotence', '1'],\n",
       "       ['outsourcing', '1'],\n",
       "       ['own_data', '1'],\n",
       "       ['persistence', '1'],\n",
       "       ['phrenology', '1'],\n",
       "       ['piggybacking', '1'],\n",
       "       ['post_factum', '1'],\n",
       "       ['price_discrimination', '1'],\n",
       "       ['processes', '1'],\n",
       "       ['prosocial', '1'],\n",
       "       ['public_alert', '1'],\n",
       "       ['quantitative_regimes', '1'],\n",
       "       ['ransomware', '1'],\n",
       "       ['rasmus_fleischer', '1'],\n",
       "       ['ratings', '1'],\n",
       "       ['reenchantment', '1'],\n",
       "       ['references', '1'],\n",
       "       ['remix', '1'],\n",
       "       ['retail', '1'],\n",
       "       ['schelling', '1'],\n",
       "       ['sitting', '1'],\n",
       "       ['situated_cognition', '1'],\n",
       "       ['skepticism', '1'],\n",
       "       ['socio_technical_systems', '1'],\n",
       "       ['soul', '1'],\n",
       "       ['språk', '1'],\n",
       "       ['standardization', '1'],\n",
       "       ['superstition', '1'],\n",
       "       ['synthetic_biology', '1'],\n",
       "       ['systems', '1'],\n",
       "       ['test', '1'],\n",
       "       ['theories', '1'],\n",
       "       ['training_data', '1'],\n",
       "       ['turing_test', '1'],\n",
       "       ['turkle', '1'],\n",
       "       ['uncanny_valley', '1'],\n",
       "       ['unevenly_distributed_future', '1'],\n",
       "       ['unplugging', '1'],\n",
       "       ['unrequested_information', '1'],\n",
       "       ['violence', '1'],\n",
       "       ['women', '1'],\n",
       "       ['workflow', '1'],\n",
       "       ['wylie', '1']], dtype='<U29')"
      ]
     },
     "execution_count": 174,
     "metadata": {},
     "output_type": "execute_result"
    }
   ],
   "source": [
    "taggarna[ensam[0]]"
   ]
  },
  {
   "cell_type": "code",
   "execution_count": 175,
   "metadata": {},
   "outputs": [
    {
     "data": {
      "text/plain": [
       "array(['Trends', '1'], dtype='<U29')"
      ]
     },
     "execution_count": 175,
     "metadata": {},
     "output_type": "execute_result"
    }
   ],
   "source": [
    "tag = taggarna[ensam[0]][0]\n",
    "tag"
   ]
  },
  {
   "cell_type": "code",
   "execution_count": 176,
   "metadata": {},
   "outputs": [
    {
     "data": {
      "text/plain": [
       "121"
      ]
     },
     "execution_count": 176,
     "metadata": {},
     "output_type": "execute_result"
    }
   ],
   "source": [
    "len(ensam[0])"
   ]
  },
  {
   "cell_type": "code",
   "execution_count": 33,
   "metadata": {},
   "outputs": [
    {
     "name": "stdout",
     "output_type": "stream",
     "text": [
      "http://bits.blogs.nytimes.com/2012/08/07/one-on-one-steve-mann-wearable-computing-pioneer/ One on One: Steve Mann, Wearable Computing Pioneer - NYTimes.com ['Glass' '1'] ['cyborgs', 'Glass', 'future'] [{'popular': ['cyborgs', 'future']}, {'recommended': ['Bits', 'cyborgs', 'future', 'Glass', 'interview', 'NYT']}]\n",
      "http://www.expressen.se/ledare/att-spela-datorspel-ar-inte-en-sjukdom/ Att spela datorspel är inte en sjukdom | Ledare ['Trends' '1'] ['Trends', 'games', 'health_care'] [{'popular': ['games', 'health_care']}, {'recommended': ['games', 'health_care', 'Trends']}]\n",
      "https://www.fastcodesign.com/90155089/how-mit-students-fooled-a-google-algorithm How MIT Students Fooled A Google Algorithm ['adversarial' '1'] ['adversarial', 'fake_facts', 'machine_learning'] [{'popular': ['adversarial', 'fake_facts', 'machine_learning']}, {'recommended': ['adversarial', 'fake_facts', 'machine_learning']}]\n",
      "http://papers.ssrn.com/sol3/papers.cfm?abstract_id=2801251 Data-Driven Discrimination at Work by Pauline T. Kim :: SSRN ['algorithmic_bias' '1'] ['algorithmic_bias'] [{'popular': ['algorithmic_bias']}, {'recommended': ['algorithmic_bias']}]\n",
      "https://www.youtube.com/watch?v=3rWycBEHn3s MIT Computer Program Reveals Invisible Motion in Video | The New York Times - YouTube ['amplification' '1'] ['video', 'tracking', 'body', 'amplification', 'sensory_experience'] [{'popular': ['amplification', 'body', 'sensory_experience', 'tracking', 'video']}, {'recommended': ['amplification', 'body', 'sensory_experience', 'tracking', 'video']}]\n",
      "http://mashable.com/2010/08/20/social-media-monitoring-tools-smarter/ Why Social Media Monitoring Tools Are About to Get Smarter ['analysis' '1'] ['analysis'] [{'popular': ['analysis']}, {'recommended': ['socialmedia', 'analysis', 'analytics', 'monitoring', 'semantic', 'social', 'measurement', 'metrics', 'tools', 'tracking']}]\n",
      "http://videos.theconference.se/kate-darling-robots-humans-and Kate Darling - Robots, humans and artificial intelligence - Video Archive - The Conference by Media Evolution ['anthropomorphism' '1'] ['robots', 'emotions', 'anthropomorphism'] [{'popular': ['anthropomorphism', 'emotions', 'robots']}, {'recommended': ['robots', 'anthropomorphism', 'emotions']}]\n",
      "http://www.artlaboratory-berlin.org/html/eng-event-40.htm artlaboratory-berlin.org Interdisciplinary Conference: Nonhuman Agents in Art, Culture and Theory ['artificial_agents' '1'] ['artificial_agents'] [{'popular': ['artificial_agents']}, {'recommended': ['artificial_agents']}]\n",
      "http://datadrivenjournalism.net/news_and_analysis/when_data_writeswho_is_the_author When data writes…who is the author? | News & Analysis | Data Driven Journalism ['attribution' '1'] ['attribution', 'substitution_of_humans', 'bots', 'media_war'] [{'popular': ['attribution', 'bots', 'media_war', 'substitution_of_humans']}, {'recommended': ['attribution', 'bots', 'media_war', 'substitution_of_humans']}]\n",
      "http://computersweden.idg.se/ArticlePages/200510/17/20051017135648_CS996/20051017135648_CS996.dbp.asp?s=022222222222222233333333333333001222222222222223333333333333301111111111111110 Prischock i Göteborg tack vare e-auktion - Computer Sweden - En del av IDG.se ['auctions' '1'] ['auctions', 'persuasive_technology'] [{'popular': ['auctions', 'persuasive_technology']}, {'recommended': ['auctions', 'persuasive_technology']}]\n",
      "https://www.theguardian.com/society/2017/oct/09/autism-working-spectrum-capable-employees-talent Working with autism: ‘We need people who dare to think differently' | Society | The Guardian ['autism' '1'] ['jobs', 'culture', 'autism', 'sensory_experience', 'mental_models'] [{'popular': ['autism', 'culture', 'jobs', 'mental_models', 'sensory_experience']}, {'recommended': ['autism', 'culture', 'jobs', 'mental_models', 'sensory_experience']}]\n",
      "http://www.idrottensaffarer.se/affarer/2015/04/de-skapar-ny-sportjournalistik De skapar ny sportjournalistik | Idrottens Affärer ['balkenius' '1'] ['substitution_of_humans', 'balkenius', 'data_journalism'] [{'popular': ['balkenius', 'data_journalism', 'substitution_of_humans']}, {'recommended': ['balkenius', 'data_journalism', 'substitution_of_humans']}]\n",
      "http://www.theguardian.com/technology/2016/jan/25/donald-rumsfeld-releases-solitaire-app?CMP=fb_gu Donald Rumsfeld releases solitaire app | Technology | The Guardian ['beyond_fiction' '1'] ['culture', 'politics', 'beyond_fiction'] [{'popular': ['beyond_fiction', 'culture', 'politics']}, {'recommended': ['beyond_fiction', 'culture', 'politics']}]\n",
      "http://boingboing.net/2017/03/18/ive-seen-the-future-baby-it-is.html Bruce Sterling's SXSW 2017 keynote: what should humans do? / Boing Boing ['bruce_sterling' '1'] ['bruce_sterling'] [{'popular': ['bruce_sterling']}, {'recommended': ['IFTTT', '#_listen', 'book4', 'bruce_sterling', 'Feedly', 'interesting', 'miniflux', 'Pocket', 'Unread']}]\n"
     ]
    },
    {
     "ename": "KeyboardInterrupt",
     "evalue": "",
     "output_type": "error",
     "traceback": [
      "\u001b[0;31m---------------------------------------------------------------------------\u001b[0m",
      "\u001b[0;31mKeyboardInterrupt\u001b[0m                         Traceback (most recent call last)",
      "\u001b[0;32m<ipython-input-33-a0c96feb40d8>\u001b[0m in \u001b[0;36m<module>\u001b[0;34m()\u001b[0m\n\u001b[1;32m      1\u001b[0m \u001b[0;32mfor\u001b[0m \u001b[0mtag\u001b[0m \u001b[0;32min\u001b[0m \u001b[0mtaggarna\u001b[0m\u001b[0;34m[\u001b[0m\u001b[0mensam\u001b[0m\u001b[0;34m[\u001b[0m\u001b[0;36m0\u001b[0m\u001b[0;34m]\u001b[0m\u001b[0;34m]\u001b[0m\u001b[0;34m:\u001b[0m\u001b[0;34m\u001b[0m\u001b[0m\n\u001b[1;32m      2\u001b[0m     \u001b[0mpost\u001b[0m \u001b[0;34m=\u001b[0m \u001b[0mpb\u001b[0m\u001b[0;34m.\u001b[0m\u001b[0mposts\u001b[0m\u001b[0;34m.\u001b[0m\u001b[0mall\u001b[0m\u001b[0;34m(\u001b[0m\u001b[0mtag\u001b[0m\u001b[0;34m=\u001b[0m\u001b[0mtag\u001b[0m\u001b[0;34m[\u001b[0m\u001b[0;36m0\u001b[0m\u001b[0;34m]\u001b[0m\u001b[0;34m)\u001b[0m\u001b[0;34m\u001b[0m\u001b[0m\n\u001b[0;32m----> 3\u001b[0;31m     \u001b[0mprint\u001b[0m \u001b[0;34m(\u001b[0m\u001b[0mpost\u001b[0m\u001b[0;34m[\u001b[0m\u001b[0;36m0\u001b[0m\u001b[0;34m]\u001b[0m\u001b[0;34m.\u001b[0m\u001b[0murl\u001b[0m\u001b[0;34m,\u001b[0m \u001b[0mpost\u001b[0m\u001b[0;34m[\u001b[0m\u001b[0;36m0\u001b[0m\u001b[0;34m]\u001b[0m\u001b[0;34m.\u001b[0m\u001b[0mdescription\u001b[0m\u001b[0;34m,\u001b[0m \u001b[0mtag\u001b[0m\u001b[0;34m,\u001b[0m \u001b[0mpost\u001b[0m\u001b[0;34m[\u001b[0m\u001b[0;36m0\u001b[0m\u001b[0;34m]\u001b[0m\u001b[0;34m.\u001b[0m\u001b[0mtags\u001b[0m\u001b[0;34m,\u001b[0m \u001b[0mpb\u001b[0m\u001b[0;34m.\u001b[0m\u001b[0mposts\u001b[0m\u001b[0;34m.\u001b[0m\u001b[0msuggest\u001b[0m\u001b[0;34m(\u001b[0m\u001b[0murl\u001b[0m\u001b[0;34m=\u001b[0m\u001b[0mpost\u001b[0m\u001b[0;34m[\u001b[0m\u001b[0;36m0\u001b[0m\u001b[0;34m]\u001b[0m\u001b[0;34m.\u001b[0m\u001b[0murl\u001b[0m\u001b[0;34m)\u001b[0m\u001b[0;34m)\u001b[0m\u001b[0;34m\u001b[0m\u001b[0m\n\u001b[0m\u001b[1;32m      4\u001b[0m \u001b[0;34m\u001b[0m\u001b[0m\n\u001b[1;32m      5\u001b[0m \u001b[0;34m\u001b[0m\u001b[0m\n",
      "\u001b[0;32m~/anaconda/lib/python3.6/site-packages/pinboard/pinboard.py\u001b[0m in \u001b[0;36m__call__\u001b[0;34m(self, *args, **kwargs)\u001b[0m\n\u001b[1;32m    181\u001b[0m             \u001b[0mrequest\u001b[0m \u001b[0;34m=\u001b[0m \u001b[0murllib\u001b[0m\u001b[0;34m.\u001b[0m\u001b[0mrequest\u001b[0m\u001b[0;34m.\u001b[0m\u001b[0mRequest\u001b[0m\u001b[0;34m(\u001b[0m\u001b[0mfinal_url\u001b[0m\u001b[0;34m)\u001b[0m\u001b[0;34m\u001b[0m\u001b[0m\n\u001b[1;32m    182\u001b[0m             \u001b[0mopener\u001b[0m \u001b[0;34m=\u001b[0m \u001b[0murllib\u001b[0m\u001b[0;34m.\u001b[0m\u001b[0mrequest\u001b[0m\u001b[0;34m.\u001b[0m\u001b[0mbuild_opener\u001b[0m\u001b[0;34m(\u001b[0m\u001b[0murllib\u001b[0m\u001b[0;34m.\u001b[0m\u001b[0mrequest\u001b[0m\u001b[0;34m.\u001b[0m\u001b[0mHTTPSHandler\u001b[0m\u001b[0;34m)\u001b[0m\u001b[0;34m\u001b[0m\u001b[0m\n\u001b[0;32m--> 183\u001b[0;31m             \u001b[0mresponse\u001b[0m \u001b[0;34m=\u001b[0m \u001b[0mopener\u001b[0m\u001b[0;34m.\u001b[0m\u001b[0mopen\u001b[0m\u001b[0;34m(\u001b[0m\u001b[0mrequest\u001b[0m\u001b[0;34m)\u001b[0m\u001b[0;34m\u001b[0m\u001b[0m\n\u001b[0m\u001b[1;32m    184\u001b[0m         \u001b[0;32mexcept\u001b[0m \u001b[0murllib\u001b[0m\u001b[0;34m.\u001b[0m\u001b[0merror\u001b[0m\u001b[0;34m.\u001b[0m\u001b[0mHTTPError\u001b[0m \u001b[0;32mas\u001b[0m \u001b[0me\u001b[0m\u001b[0;34m:\u001b[0m\u001b[0;34m\u001b[0m\u001b[0m\n\u001b[1;32m    185\u001b[0m             error_mappings = {\n",
      "\u001b[0;32m~/anaconda/lib/python3.6/urllib/request.py\u001b[0m in \u001b[0;36mopen\u001b[0;34m(self, fullurl, data, timeout)\u001b[0m\n\u001b[1;32m    524\u001b[0m             \u001b[0mreq\u001b[0m \u001b[0;34m=\u001b[0m \u001b[0mmeth\u001b[0m\u001b[0;34m(\u001b[0m\u001b[0mreq\u001b[0m\u001b[0;34m)\u001b[0m\u001b[0;34m\u001b[0m\u001b[0m\n\u001b[1;32m    525\u001b[0m \u001b[0;34m\u001b[0m\u001b[0m\n\u001b[0;32m--> 526\u001b[0;31m         \u001b[0mresponse\u001b[0m \u001b[0;34m=\u001b[0m \u001b[0mself\u001b[0m\u001b[0;34m.\u001b[0m\u001b[0m_open\u001b[0m\u001b[0;34m(\u001b[0m\u001b[0mreq\u001b[0m\u001b[0;34m,\u001b[0m \u001b[0mdata\u001b[0m\u001b[0;34m)\u001b[0m\u001b[0;34m\u001b[0m\u001b[0m\n\u001b[0m\u001b[1;32m    527\u001b[0m \u001b[0;34m\u001b[0m\u001b[0m\n\u001b[1;32m    528\u001b[0m         \u001b[0;31m# post-process response\u001b[0m\u001b[0;34m\u001b[0m\u001b[0;34m\u001b[0m\u001b[0m\n",
      "\u001b[0;32m~/anaconda/lib/python3.6/urllib/request.py\u001b[0m in \u001b[0;36m_open\u001b[0;34m(self, req, data)\u001b[0m\n\u001b[1;32m    542\u001b[0m         \u001b[0mprotocol\u001b[0m \u001b[0;34m=\u001b[0m \u001b[0mreq\u001b[0m\u001b[0;34m.\u001b[0m\u001b[0mtype\u001b[0m\u001b[0;34m\u001b[0m\u001b[0m\n\u001b[1;32m    543\u001b[0m         result = self._call_chain(self.handle_open, protocol, protocol +\n\u001b[0;32m--> 544\u001b[0;31m                                   '_open', req)\n\u001b[0m\u001b[1;32m    545\u001b[0m         \u001b[0;32mif\u001b[0m \u001b[0mresult\u001b[0m\u001b[0;34m:\u001b[0m\u001b[0;34m\u001b[0m\u001b[0m\n\u001b[1;32m    546\u001b[0m             \u001b[0;32mreturn\u001b[0m \u001b[0mresult\u001b[0m\u001b[0;34m\u001b[0m\u001b[0m\n",
      "\u001b[0;32m~/anaconda/lib/python3.6/urllib/request.py\u001b[0m in \u001b[0;36m_call_chain\u001b[0;34m(self, chain, kind, meth_name, *args)\u001b[0m\n\u001b[1;32m    502\u001b[0m         \u001b[0;32mfor\u001b[0m \u001b[0mhandler\u001b[0m \u001b[0;32min\u001b[0m \u001b[0mhandlers\u001b[0m\u001b[0;34m:\u001b[0m\u001b[0;34m\u001b[0m\u001b[0m\n\u001b[1;32m    503\u001b[0m             \u001b[0mfunc\u001b[0m \u001b[0;34m=\u001b[0m \u001b[0mgetattr\u001b[0m\u001b[0;34m(\u001b[0m\u001b[0mhandler\u001b[0m\u001b[0;34m,\u001b[0m \u001b[0mmeth_name\u001b[0m\u001b[0;34m)\u001b[0m\u001b[0;34m\u001b[0m\u001b[0m\n\u001b[0;32m--> 504\u001b[0;31m             \u001b[0mresult\u001b[0m \u001b[0;34m=\u001b[0m \u001b[0mfunc\u001b[0m\u001b[0;34m(\u001b[0m\u001b[0;34m*\u001b[0m\u001b[0margs\u001b[0m\u001b[0;34m)\u001b[0m\u001b[0;34m\u001b[0m\u001b[0m\n\u001b[0m\u001b[1;32m    505\u001b[0m             \u001b[0;32mif\u001b[0m \u001b[0mresult\u001b[0m \u001b[0;32mis\u001b[0m \u001b[0;32mnot\u001b[0m \u001b[0;32mNone\u001b[0m\u001b[0;34m:\u001b[0m\u001b[0;34m\u001b[0m\u001b[0m\n\u001b[1;32m    506\u001b[0m                 \u001b[0;32mreturn\u001b[0m \u001b[0mresult\u001b[0m\u001b[0;34m\u001b[0m\u001b[0m\n",
      "\u001b[0;32m~/anaconda/lib/python3.6/urllib/request.py\u001b[0m in \u001b[0;36mhttps_open\u001b[0;34m(self, req)\u001b[0m\n\u001b[1;32m   1359\u001b[0m         \u001b[0;32mdef\u001b[0m \u001b[0mhttps_open\u001b[0m\u001b[0;34m(\u001b[0m\u001b[0mself\u001b[0m\u001b[0;34m,\u001b[0m \u001b[0mreq\u001b[0m\u001b[0;34m)\u001b[0m\u001b[0;34m:\u001b[0m\u001b[0;34m\u001b[0m\u001b[0m\n\u001b[1;32m   1360\u001b[0m             return self.do_open(http.client.HTTPSConnection, req,\n\u001b[0;32m-> 1361\u001b[0;31m                 context=self._context, check_hostname=self._check_hostname)\n\u001b[0m\u001b[1;32m   1362\u001b[0m \u001b[0;34m\u001b[0m\u001b[0m\n\u001b[1;32m   1363\u001b[0m         \u001b[0mhttps_request\u001b[0m \u001b[0;34m=\u001b[0m \u001b[0mAbstractHTTPHandler\u001b[0m\u001b[0;34m.\u001b[0m\u001b[0mdo_request_\u001b[0m\u001b[0;34m\u001b[0m\u001b[0m\n",
      "\u001b[0;32m~/anaconda/lib/python3.6/urllib/request.py\u001b[0m in \u001b[0;36mdo_open\u001b[0;34m(self, http_class, req, **http_conn_args)\u001b[0m\n\u001b[1;32m   1319\u001b[0m             \u001b[0;32mexcept\u001b[0m \u001b[0mOSError\u001b[0m \u001b[0;32mas\u001b[0m \u001b[0merr\u001b[0m\u001b[0;34m:\u001b[0m \u001b[0;31m# timeout error\u001b[0m\u001b[0;34m\u001b[0m\u001b[0m\n\u001b[1;32m   1320\u001b[0m                 \u001b[0;32mraise\u001b[0m \u001b[0mURLError\u001b[0m\u001b[0;34m(\u001b[0m\u001b[0merr\u001b[0m\u001b[0;34m)\u001b[0m\u001b[0;34m\u001b[0m\u001b[0m\n\u001b[0;32m-> 1321\u001b[0;31m             \u001b[0mr\u001b[0m \u001b[0;34m=\u001b[0m \u001b[0mh\u001b[0m\u001b[0;34m.\u001b[0m\u001b[0mgetresponse\u001b[0m\u001b[0;34m(\u001b[0m\u001b[0;34m)\u001b[0m\u001b[0;34m\u001b[0m\u001b[0m\n\u001b[0m\u001b[1;32m   1322\u001b[0m         \u001b[0;32mexcept\u001b[0m\u001b[0;34m:\u001b[0m\u001b[0;34m\u001b[0m\u001b[0m\n\u001b[1;32m   1323\u001b[0m             \u001b[0mh\u001b[0m\u001b[0;34m.\u001b[0m\u001b[0mclose\u001b[0m\u001b[0;34m(\u001b[0m\u001b[0;34m)\u001b[0m\u001b[0;34m\u001b[0m\u001b[0m\n",
      "\u001b[0;32m~/anaconda/lib/python3.6/http/client.py\u001b[0m in \u001b[0;36mgetresponse\u001b[0;34m(self)\u001b[0m\n\u001b[1;32m   1329\u001b[0m         \u001b[0;32mtry\u001b[0m\u001b[0;34m:\u001b[0m\u001b[0;34m\u001b[0m\u001b[0m\n\u001b[1;32m   1330\u001b[0m             \u001b[0;32mtry\u001b[0m\u001b[0;34m:\u001b[0m\u001b[0;34m\u001b[0m\u001b[0m\n\u001b[0;32m-> 1331\u001b[0;31m                 \u001b[0mresponse\u001b[0m\u001b[0;34m.\u001b[0m\u001b[0mbegin\u001b[0m\u001b[0;34m(\u001b[0m\u001b[0;34m)\u001b[0m\u001b[0;34m\u001b[0m\u001b[0m\n\u001b[0m\u001b[1;32m   1332\u001b[0m             \u001b[0;32mexcept\u001b[0m \u001b[0mConnectionError\u001b[0m\u001b[0;34m:\u001b[0m\u001b[0;34m\u001b[0m\u001b[0m\n\u001b[1;32m   1333\u001b[0m                 \u001b[0mself\u001b[0m\u001b[0;34m.\u001b[0m\u001b[0mclose\u001b[0m\u001b[0;34m(\u001b[0m\u001b[0;34m)\u001b[0m\u001b[0;34m\u001b[0m\u001b[0m\n",
      "\u001b[0;32m~/anaconda/lib/python3.6/http/client.py\u001b[0m in \u001b[0;36mbegin\u001b[0;34m(self)\u001b[0m\n\u001b[1;32m    295\u001b[0m         \u001b[0;31m# read until we get a non-100 response\u001b[0m\u001b[0;34m\u001b[0m\u001b[0;34m\u001b[0m\u001b[0m\n\u001b[1;32m    296\u001b[0m         \u001b[0;32mwhile\u001b[0m \u001b[0;32mTrue\u001b[0m\u001b[0;34m:\u001b[0m\u001b[0;34m\u001b[0m\u001b[0m\n\u001b[0;32m--> 297\u001b[0;31m             \u001b[0mversion\u001b[0m\u001b[0;34m,\u001b[0m \u001b[0mstatus\u001b[0m\u001b[0;34m,\u001b[0m \u001b[0mreason\u001b[0m \u001b[0;34m=\u001b[0m \u001b[0mself\u001b[0m\u001b[0;34m.\u001b[0m\u001b[0m_read_status\u001b[0m\u001b[0;34m(\u001b[0m\u001b[0;34m)\u001b[0m\u001b[0;34m\u001b[0m\u001b[0m\n\u001b[0m\u001b[1;32m    298\u001b[0m             \u001b[0;32mif\u001b[0m \u001b[0mstatus\u001b[0m \u001b[0;34m!=\u001b[0m \u001b[0mCONTINUE\u001b[0m\u001b[0;34m:\u001b[0m\u001b[0;34m\u001b[0m\u001b[0m\n\u001b[1;32m    299\u001b[0m                 \u001b[0;32mbreak\u001b[0m\u001b[0;34m\u001b[0m\u001b[0m\n",
      "\u001b[0;32m~/anaconda/lib/python3.6/http/client.py\u001b[0m in \u001b[0;36m_read_status\u001b[0;34m(self)\u001b[0m\n\u001b[1;32m    256\u001b[0m \u001b[0;34m\u001b[0m\u001b[0m\n\u001b[1;32m    257\u001b[0m     \u001b[0;32mdef\u001b[0m \u001b[0m_read_status\u001b[0m\u001b[0;34m(\u001b[0m\u001b[0mself\u001b[0m\u001b[0;34m)\u001b[0m\u001b[0;34m:\u001b[0m\u001b[0;34m\u001b[0m\u001b[0m\n\u001b[0;32m--> 258\u001b[0;31m         \u001b[0mline\u001b[0m \u001b[0;34m=\u001b[0m \u001b[0mstr\u001b[0m\u001b[0;34m(\u001b[0m\u001b[0mself\u001b[0m\u001b[0;34m.\u001b[0m\u001b[0mfp\u001b[0m\u001b[0;34m.\u001b[0m\u001b[0mreadline\u001b[0m\u001b[0;34m(\u001b[0m\u001b[0m_MAXLINE\u001b[0m \u001b[0;34m+\u001b[0m \u001b[0;36m1\u001b[0m\u001b[0;34m)\u001b[0m\u001b[0;34m,\u001b[0m \u001b[0;34m\"iso-8859-1\"\u001b[0m\u001b[0;34m)\u001b[0m\u001b[0;34m\u001b[0m\u001b[0m\n\u001b[0m\u001b[1;32m    259\u001b[0m         \u001b[0;32mif\u001b[0m \u001b[0mlen\u001b[0m\u001b[0;34m(\u001b[0m\u001b[0mline\u001b[0m\u001b[0;34m)\u001b[0m \u001b[0;34m>\u001b[0m \u001b[0m_MAXLINE\u001b[0m\u001b[0;34m:\u001b[0m\u001b[0;34m\u001b[0m\u001b[0m\n\u001b[1;32m    260\u001b[0m             \u001b[0;32mraise\u001b[0m \u001b[0mLineTooLong\u001b[0m\u001b[0;34m(\u001b[0m\u001b[0;34m\"status line\"\u001b[0m\u001b[0;34m)\u001b[0m\u001b[0;34m\u001b[0m\u001b[0m\n",
      "\u001b[0;32m~/anaconda/lib/python3.6/socket.py\u001b[0m in \u001b[0;36mreadinto\u001b[0;34m(self, b)\u001b[0m\n\u001b[1;32m    584\u001b[0m         \u001b[0;32mwhile\u001b[0m \u001b[0;32mTrue\u001b[0m\u001b[0;34m:\u001b[0m\u001b[0;34m\u001b[0m\u001b[0m\n\u001b[1;32m    585\u001b[0m             \u001b[0;32mtry\u001b[0m\u001b[0;34m:\u001b[0m\u001b[0;34m\u001b[0m\u001b[0m\n\u001b[0;32m--> 586\u001b[0;31m                 \u001b[0;32mreturn\u001b[0m \u001b[0mself\u001b[0m\u001b[0;34m.\u001b[0m\u001b[0m_sock\u001b[0m\u001b[0;34m.\u001b[0m\u001b[0mrecv_into\u001b[0m\u001b[0;34m(\u001b[0m\u001b[0mb\u001b[0m\u001b[0;34m)\u001b[0m\u001b[0;34m\u001b[0m\u001b[0m\n\u001b[0m\u001b[1;32m    587\u001b[0m             \u001b[0;32mexcept\u001b[0m \u001b[0mtimeout\u001b[0m\u001b[0;34m:\u001b[0m\u001b[0;34m\u001b[0m\u001b[0m\n\u001b[1;32m    588\u001b[0m                 \u001b[0mself\u001b[0m\u001b[0;34m.\u001b[0m\u001b[0m_timeout_occurred\u001b[0m \u001b[0;34m=\u001b[0m \u001b[0;32mTrue\u001b[0m\u001b[0;34m\u001b[0m\u001b[0m\n",
      "\u001b[0;32m~/anaconda/lib/python3.6/ssl.py\u001b[0m in \u001b[0;36mrecv_into\u001b[0;34m(self, buffer, nbytes, flags)\u001b[0m\n\u001b[1;32m   1000\u001b[0m                   \u001b[0;34m\"non-zero flags not allowed in calls to recv_into() on %s\"\u001b[0m \u001b[0;34m%\u001b[0m\u001b[0;34m\u001b[0m\u001b[0m\n\u001b[1;32m   1001\u001b[0m                   self.__class__)\n\u001b[0;32m-> 1002\u001b[0;31m             \u001b[0;32mreturn\u001b[0m \u001b[0mself\u001b[0m\u001b[0;34m.\u001b[0m\u001b[0mread\u001b[0m\u001b[0;34m(\u001b[0m\u001b[0mnbytes\u001b[0m\u001b[0;34m,\u001b[0m \u001b[0mbuffer\u001b[0m\u001b[0;34m)\u001b[0m\u001b[0;34m\u001b[0m\u001b[0m\n\u001b[0m\u001b[1;32m   1003\u001b[0m         \u001b[0;32melse\u001b[0m\u001b[0;34m:\u001b[0m\u001b[0;34m\u001b[0m\u001b[0m\n\u001b[1;32m   1004\u001b[0m             \u001b[0;32mreturn\u001b[0m \u001b[0msocket\u001b[0m\u001b[0;34m.\u001b[0m\u001b[0mrecv_into\u001b[0m\u001b[0;34m(\u001b[0m\u001b[0mself\u001b[0m\u001b[0;34m,\u001b[0m \u001b[0mbuffer\u001b[0m\u001b[0;34m,\u001b[0m \u001b[0mnbytes\u001b[0m\u001b[0;34m,\u001b[0m \u001b[0mflags\u001b[0m\u001b[0;34m)\u001b[0m\u001b[0;34m\u001b[0m\u001b[0m\n",
      "\u001b[0;32m~/anaconda/lib/python3.6/ssl.py\u001b[0m in \u001b[0;36mread\u001b[0;34m(self, len, buffer)\u001b[0m\n\u001b[1;32m    863\u001b[0m             \u001b[0;32mraise\u001b[0m \u001b[0mValueError\u001b[0m\u001b[0;34m(\u001b[0m\u001b[0;34m\"Read on closed or unwrapped SSL socket.\"\u001b[0m\u001b[0;34m)\u001b[0m\u001b[0;34m\u001b[0m\u001b[0m\n\u001b[1;32m    864\u001b[0m         \u001b[0;32mtry\u001b[0m\u001b[0;34m:\u001b[0m\u001b[0;34m\u001b[0m\u001b[0m\n\u001b[0;32m--> 865\u001b[0;31m             \u001b[0;32mreturn\u001b[0m \u001b[0mself\u001b[0m\u001b[0;34m.\u001b[0m\u001b[0m_sslobj\u001b[0m\u001b[0;34m.\u001b[0m\u001b[0mread\u001b[0m\u001b[0;34m(\u001b[0m\u001b[0mlen\u001b[0m\u001b[0;34m,\u001b[0m \u001b[0mbuffer\u001b[0m\u001b[0;34m)\u001b[0m\u001b[0;34m\u001b[0m\u001b[0m\n\u001b[0m\u001b[1;32m    866\u001b[0m         \u001b[0;32mexcept\u001b[0m \u001b[0mSSLError\u001b[0m \u001b[0;32mas\u001b[0m \u001b[0mx\u001b[0m\u001b[0;34m:\u001b[0m\u001b[0;34m\u001b[0m\u001b[0m\n\u001b[1;32m    867\u001b[0m             \u001b[0;32mif\u001b[0m \u001b[0mx\u001b[0m\u001b[0;34m.\u001b[0m\u001b[0margs\u001b[0m\u001b[0;34m[\u001b[0m\u001b[0;36m0\u001b[0m\u001b[0;34m]\u001b[0m \u001b[0;34m==\u001b[0m \u001b[0mSSL_ERROR_EOF\u001b[0m \u001b[0;32mand\u001b[0m \u001b[0mself\u001b[0m\u001b[0;34m.\u001b[0m\u001b[0msuppress_ragged_eofs\u001b[0m\u001b[0;34m:\u001b[0m\u001b[0;34m\u001b[0m\u001b[0m\n",
      "\u001b[0;32m~/anaconda/lib/python3.6/ssl.py\u001b[0m in \u001b[0;36mread\u001b[0;34m(self, len, buffer)\u001b[0m\n\u001b[1;32m    623\u001b[0m         \"\"\"\n\u001b[1;32m    624\u001b[0m         \u001b[0;32mif\u001b[0m \u001b[0mbuffer\u001b[0m \u001b[0;32mis\u001b[0m \u001b[0;32mnot\u001b[0m \u001b[0;32mNone\u001b[0m\u001b[0;34m:\u001b[0m\u001b[0;34m\u001b[0m\u001b[0m\n\u001b[0;32m--> 625\u001b[0;31m             \u001b[0mv\u001b[0m \u001b[0;34m=\u001b[0m \u001b[0mself\u001b[0m\u001b[0;34m.\u001b[0m\u001b[0m_sslobj\u001b[0m\u001b[0;34m.\u001b[0m\u001b[0mread\u001b[0m\u001b[0;34m(\u001b[0m\u001b[0mlen\u001b[0m\u001b[0;34m,\u001b[0m \u001b[0mbuffer\u001b[0m\u001b[0;34m)\u001b[0m\u001b[0;34m\u001b[0m\u001b[0m\n\u001b[0m\u001b[1;32m    626\u001b[0m         \u001b[0;32melse\u001b[0m\u001b[0;34m:\u001b[0m\u001b[0;34m\u001b[0m\u001b[0m\n\u001b[1;32m    627\u001b[0m             \u001b[0mv\u001b[0m \u001b[0;34m=\u001b[0m \u001b[0mself\u001b[0m\u001b[0;34m.\u001b[0m\u001b[0m_sslobj\u001b[0m\u001b[0;34m.\u001b[0m\u001b[0mread\u001b[0m\u001b[0;34m(\u001b[0m\u001b[0mlen\u001b[0m\u001b[0;34m)\u001b[0m\u001b[0;34m\u001b[0m\u001b[0m\n",
      "\u001b[0;31mKeyboardInterrupt\u001b[0m: "
     ]
    }
   ],
   "source": [
    "for tag in taggarna[ensam[0]]:\n",
    "    post = pb.posts.all(tag=tag[0])\n",
    "    print (post[0].url, post[0].description, tag, post[0].tags, pb.posts.suggest(url=post[0].url))\n",
    "    \n",
    "    \n",
    "    "
   ]
  },
  {
   "cell_type": "code",
   "execution_count": 59,
   "metadata": {},
   "outputs": [
    {
     "name": "stdout",
     "output_type": "stream",
     "text": [
      "AI at Google: our principles https://www.blog.google/technology/ai/ai-principles/\n",
      "While We Remain by John C. Havens — Spring 2018: Living with Artificial Intelligence | The Wilson Quarterly https://wilsonquarterly.com/quarterly/living-with-artificial-intelligence/while-we-remain/\n",
      "Thermostats, Locks and Lights: Digital Tools of Domestic Abuse - The New York Times https://www.nytimes.com/2018/06/23/technology/smart-home-devices-domestic-abuse.html\n",
      "Students Not Smiling At School Will Be Punished, Say Teachers https://www.yahoo.com/news/students-not-smiling-school-punished-135527250.html?guccounter=1\n",
      "Critiquing the Reasons for Making Artificial Moral Agents | SpringerLink https://link.springer.com/article/10.1007%2Fs11948-018-0030-8\n",
      "Robots Should Be Slaves http://www.cs.bath.ac.uk/~jjb/ftp/Bryson-Slaves-Book09.html\n",
      "The Ethics and Governance of Artificial Intelligence https://h2o.law.harvard.edu/playlists/53282\n",
      "Amazon Alexa to reward kids who say: 'Please' - BBC News http://www.bbc.com/news/technology-43897516\n",
      "Wanted at Chinese Start-Ups: Attractive Women to Ease Coders’ Stress - The New York Times https://www.nytimes.com/2018/04/24/business/china-women-technology.html\n",
      "Specification gaming examples in AI | Deep Safety https://vkrakovna.wordpress.com/2018/04/02/specification-gaming-examples-in-ai/\n",
      "Child abuse imagery found within bitcoin's blockchain | Technology | The Guardian https://www.theguardian.com/technology/2018/mar/20/child-abuse-imagery-bitcoin-blockchain-illegal-content\n",
      "Lundaforskare om riskerna med artificiell intelligens | Lunds universitet https://www.lu.se/article/lundaforskare-om-riskerna-med-artificiell-intelligens\n",
      "The Ethics and Governance of Artificial Intelligence — MIT Media Lab https://www.media.mit.edu/courses/the-ethics-and-governance-of-artificial-intelligence/\n",
      "Top priest shares 'The Ten Commandments of A.I.' for ethical computing | Internet of Business https://internetofbusiness.com/senior-clergyman-proposes-ten-commandments-i/\n",
      "Self-driving cars' Trolley Problem: Philosophers are building ethical algorithms to solve the problem — Quartz https://qz.com/1204395/self-driving-cars-trolley-problem-philosophers-are-building-ethical-algorithms-to-solve-the-problem/\n",
      "Autonomous Vehicles Ethics: Stock or Custom? Sally Applin, Ph.D. http://posr.org/w/images/c/cb/Applin_S_AV_Ethics.pdf\n",
      "Lesser-Known Trolley Problem Variations - McSweeney’s Internet Tendency https://www.mcsweeneys.net/articles/lesser-known-trolley-problem-variations\n",
      "Det okända spelmissbruket - Politism http://www.politism.se/kawa-zolfagary/det-okanda-spelmissbruket/#post-55949\n",
      "This year the world woke up to the society-shifting power of artificial intelligence — Quartz https://qz.com/1156957/this-year-the-world-woke-up-to-the-society-shifting-power-of-artificial-intelligence/\n",
      "Ethics of Artificial Intelligence on Livestream https://livestream.com/nyu-tv/ethicsofAI/videos/138930862\n",
      "Moral Deskilling and Upskilling in a New Machine Age: Reflections on the Ambiguous Future of Character | SpringerLink https://link.springer.com/article/10.1007%2Fs13347-014-0156-9\n",
      "YouTube and Facebook Are Removing Evidence of Atrocities, Jeopardizing Cases Against War Criminals https://theintercept.com/2017/11/02/war-crimes-youtube-facebook-syria-rohingya/\n",
      "What would the average human do? | The Outline https://theoutline.com/post/2401/what-would-the-average-human-do\n",
      "Having sex with a robot doesn't count as cheating, lawyer says | Metro News http://metro.co.uk/2017/10/12/having-sex-with-a-robot-doesnt-count-as-cheating-lawyer-says-6994719/\n",
      "The Copenhagen Letter, 2017 https://copenhagenletter.org/\n",
      "The invention of AI ‘gaydar’ could be the start of something much worse - The Verge https://www.theverge.com/2017/9/21/16332760/ai-sexuality-gaydar-photo-physiognomy\n",
      "Tinder Began Exposing Our Ugly Dating Habits Five Years Ago | Inverse https://www.inverse.com/article/36379-tinder-black-women-asian-men-racism\n",
      "guest post: artificial intelligence discovers gayface. sigh. – scatterplot https://scatter.wordpress.com/2017/09/10/guest-post-artificial-intelligence-discovers-gayface-sigh/\n",
      "Do Artifacts Have Ethics? | L.M. Sacasas https://thefrailestthing.com/2014/11/29/do-artifacts-have-ethics/\n",
      "IT och etik Iordanis Kavathatzopoulos https://www.it.uu.se/edu/course/homepage/cogpsych/vt08/etik.pdf\n",
      "Kohlbergs stadier av moralisk utveckling | Komplexitet.se http://komplexitet.se/lashornan/kohlbergs-stadier-av-moraliska-utveckling/\n",
      "Facebook recommended that this psychiatrist's patients friend each other http://splinternews.com/facebook-recommended-that-this-psychiatrists-patients-f-1793861472\n",
      "ETHICS COMMISSION AUTOMATED AND CONNECTED DRIVING https://www.bmvi.de/SharedDocs/EN/Documents/G/ethic-commission-report.pdf?__blob=publicationFile\n",
      "'Care-bots' for the elderly are dangerous, warns artificial intelligence professor   http://www.telegraph.co.uk/science/2016/05/30/care-bots-for-the-elderly-are-dangerous-warns-artificial-intelli/\n",
      "Ulla Andrén, ordförande på Transparency International: Uppenbart att it-skandalen på Transportstyrelsen inte skulle komma ut - DN.SE http://www.dn.se/nyheter/sverige/uppenbart-att-it-skandalen-inte-skulle-komma-ut/\n",
      "Kalashnikov develops fully automated neural network-based combat module — RT News https://www.rt.com/news/395375-kalashnikov-automated-neural-network-gun/\n",
      "Design in the Era of the Algorithm | Big Medium https://bigmedium.com/speaking/design-in-the-era-of-the-algorithm.html\n",
      "Roboten – din intimaste vän? - Digital Life http://digitallife.se/kronikor/roboten-din-intimaste-van/\n",
      "Harvard withdraws 10 acceptances for ‘offensive’ memes in private group chat - The Washington Post https://www.washingtonpost.com/news/morning-mix/wp/2017/06/05/harvard-withdraws-10-acceptances-for-offensive-memes-in-private-chat/\n",
      "Borde robotbetjänten slå tillbaka? | Ny Teknik http://www.nyteknik.se/teknikrevyn/borde-robotbetjanten-sla-tillbaka-6852187\n",
      "Stanford professors discuss ethics involving driverless cars | Stanford News http://news.stanford.edu/2017/05/22/stanford-scholars-researchers-discuss-key-ethical-questions-self-driving-cars-present/\n",
      "De fick lägga tågbiljetten under huden | Ny Teknik http://www.nyteknik.se/digitalisering/de-fick-lagga-tagbiljetten-under-huden-6849401\n",
      "Sorry, Dave, I can't code that: AI's prejudice problem • The Register https://www.theregister.co.uk/2017/05/08/algorithmic_bias/?mt=1494584650228\n",
      "Mark Bernstein: Infamous http://www.markbernstein.org/Jan15/Infamous.html\n",
      "Wrap your head around this trolley problem! - Kristoffer Åberg https://www.facebook.com/TrolleyProblemMemes/photos/a.250373635311569.1073741827.250353181980281/449935938688670/?type=3&theater\n",
      "PeatWorrier på Twitter: \"When bureaucracy enters its unthinkably obscene phase. https://t.co/DyIeQDnTi5\" https://twitter.com/PeatWorrier/status/849933766277693440\n",
      "Solidarity and the root of the ethical, Wiggins https://kuscholarworks.ku.edu/bitstream/handle/1808/12420/Solidarity%20and%20the%20Root%20of%20the%20Ethical-2008.pdf?sequence=1\n",
      "Laws and Ethics for Autonomous Cars https://futurism.com/images/laws-and-ethics-for-autonomous-cars/\n",
      "The social dilemma of autonomous vehicles - The Washington Post https://www.washingtonpost.com/news/innovations/wp/2017/02/20/the-big-moral-dilemma-facing-self-driving-cars/?postshare=1571487815915395&tid=ss_tw\n",
      "Critical Algorithm Studies: a Reading List | Social Media Collective https://socialmediacollective.org/reading-lists/critical-algorithm-studies/\n",
      "Tech billionaires donate $20m to fund set up to protect society from AI | Technology | The Guardian https://www.theguardian.com/technology/2017/jan/11/linkedin-ebay-founders-reid-hoffman-pierre-omidyar-donate-research-ai-safety?CMP=Share_AndroidApp_Tweet\n",
      "SSRN Top Downloads https://papers.ssrn.com/sol3/topten/topTenResults.cfm?groupingId=2874401&netorjrnl=jrnl\n",
      "IEEE puts out a first draft guide for how tech can achieve ethical AI design | TechCrunch https://techcrunch.com/2016/12/13/ieee-puts-out-a-first-draft-guide-for-how-tech-can-achieve-ethical-ai-design/\n",
      "Biosensors to monitor students' attentiveness - tribunedigital-chicagotribune http://articles.chicagotribune.com/2012-06-12/news/sns-rt-us-usa-education-gatesbre85c018-20120612_1_gates-foundation-veteran-english-teacher-teachers-feedback\n",
      "Westworld's Real Lesson? Screw or Kill All the Robots You Want - Hit & Run : Reason.com http://reason.com/blog/2016/12/05/west-worlds-lesson#fold\n",
      "The ethics of algorithms: Mapping the debate | Big Data & Society http://bds.sagepub.com/content/3/2/2053951716679679\n",
      "The Laborers Who Keep Dick Pics and Beheadings Out of Your Facebook Feed | WIRED https://www.wired.com/2014/10/content-moderation/\n",
      "Lifelike child sex dolls created to 'stop paedophiles committing crimes' - Mirror Online http://www.mirror.co.uk/news/world-news/lifelike-child-sex-dolls-created-7177869\n",
      "The code I’m still ashamed of https://medium.freecodecamp.com/the-code-im-still-ashamed-of-e4c021dff55e#.xhxivbycw\n",
      "Programmers are having a huge discussion about the unethical and illegal things they’ve been asked to do - Business Insider Nordic http://nordic.businessinsider.com/programmers-confess-unethical-illegal-tasks-asked-of-them-2016-11\n",
      "First self-driving cars will be unmarked so that other drivers don’t try to bully them | Technology | The Guardian https://www.theguardian.com/technology/2016/oct/30/volvo-self-driving-car-autonomous\n",
      "Elza Dunkels utsattes för så mycket näthat att hon gick in i väggen - DN.SE http://www.dn.se/insidan/hatet-gor-att-jag-undviker-att-ta-vissa-debatter/\n",
      "Andy Samberg Asked Neil deGrasse Tyson About Robot Sex | Nerdist http://nerdist.com/andy-samberg-asked-neil-degrasse-tyson-about-robot-sex/\n",
      "Ethical Machines http://ethicalmachines.com/\n",
      "Theme issue ‘The ethical impact of data science’ compiled and edited by Mariarosaria Taddeo and Luciano Floridi - Table of Contents — December 28, 2016, 374 (2083) | Philosophical Transactions of the Royal Society of London A: Mathematical, Physical http://rsta.royalsocietypublishing.org/content/374/2083\n",
      "How disgust made humans cooperate to build civilisations | Aeon Essays https://aeon.co/essays/how-disgust-made-humans-cooperate-to-build-civilisations\n",
      "Why Robots Need to Feel Pain | Motherboard http://motherboard.vice.com/read/why-robots-need-to-feel-pain\n",
      "Eliten saknar moralisk kompass: låt etik ingår i alla högskoleutbildningar - DN.SE http://www.dn.se/debatt/gor-etik-obligatoriskt-i-all-hogre-utbildning/\n",
      "A two-year-old's solution to the trolley problem - YouTube https://www.youtube.com/watch?v=-N_RZJUAQY4\n",
      "Mercedes autonomous cars will protect occupants before pedestrians | Auto Express http://www.autoexpress.co.uk/mercedes/97345/mercedes-autonomous-cars-will-protect-occupants-before-pedestrians\n",
      "UR Samtiden - Robotdagen 2015: Vems är skulden när en robot gör fel? - UR Skola http://urskola.se/Produkter/192876-UR-Samtiden-Robotdagen-2015-Vems-ar-skulden-nar-en-robot-gor-fel\n",
      "Tourist fell to her death from balcony in Australia 'trying to escape Tinder date'  http://www.telegraph.co.uk/news/2016/10/10/tourist-fell-to-her-death-after-trying-to-escape-tinder-date/\n",
      "Hanna Hellquist: Tinder är som en stödgrupp för singlar - DN.SE http://www.dn.se/kultur-noje/hanna-hellquist-tinder-ar-som-en-stodgrupp-for-singlar/\n",
      "Do no harm, don't discriminate: official guidance issued on robot ethics | Technology | The Guardian https://www.theguardian.com/technology/2016/sep/18/official-guidance-robot-ethics-british-standards-institute?CMP=share_btn_tw\n",
      "Racist Social Media Users Have A New Code To Avoid Censorship - BuzzFeed News https://www.buzzfeed.com/alexkantrowitz/racist-social-media-users-have-a-new-code-to-avoid-censorshi#.ryzkbyE1G8\n",
      "”Lagen borde vara lika för intimkirurgi och könsstympning” - DN.SE http://www.dn.se/nyheter/sverige/lagen-borde-vara-lika-for-intimkirurgi-och-konsstympning/\n",
      "Autonomous Weapons Are Already Here | Popular Science http://www.popsci.com/autonomous-weapons-are-already-here?src=SOC&dom=fb\n",
      "'This is awful': robot can keep children occupied for hours without supervision | Technology | The Guardian https://www.theguardian.com/technology/2016/sep/29/ipal-robot-childcare-robobusiness-san-jose?CMP=twt_a-technology_b-gdntech\n",
      "Passengers in Uber's self-driving cars waived right to sue for injury or death | Technology | The Guardian https://www.theguardian.com/technology/2016/sep/26/uber-self-driving-passengers-pittsburgh-injury-death-waiver?CMP=twt_a-technology_b-gdntech\n",
      "How Morality Changes in a Foreign Language - Scientific American http://www.scientificamerican.com/article/how-morality-changes-in-a-foreign-language/?WT.mc_id=SA_FB_MB_NEWS#\n",
      "Modern morality is just exhibitionism | Life and style | The Guardian https://www.theguardian.com/lifeandstyle/2016/sep/09/modern-morality-is-just-exhibitionism?CMP=share_btn_tw\n",
      "Moral Machine from MIT poses self-driving car thought experiments. http://www.slate.com/blogs/future_tense/2016/08/11/moral_machine_from_mit_poses_self_driving_car_thought_experiments.html\n",
      "Moral Machine http://moralmachine.mit.edu/\n",
      "Saturday Morning Breakfast Cereal - Self-Driving Car Ethics http://www.smbc-comics.com/comic/self-driving-car-ethics\n",
      "Study finds catch-22 ethical dilemma at heart of self-driving car safety | Technology | The Guardian https://www.theguardian.com/technology/2016/jun/23/self-driving-car-safety-study-pedestrian-crashes\n",
      "The Machine Made me Do It: Human responsibility in an era of machine-mediated agency http://ieet.org/index.php/IEET/more/Danaher20160706\n",
      "Elevers tankar kring Periscope i skolan, smygfilmning av lärare och livesändning. - Sara Bruun http://lrbloggar.se/sarabruun/elevers-tankar-kring-periscope-i-skolan-smygfilmning-av-larare-och-livesandning/\n",
      "9 moralfilosofiska frågor i informationsåldern -- Ågren, Per-Olof http://umu.diva-portal.org/smash/get/diva2:889972/FULLTEXT01.pdf\n",
      "Sixth Annual International Symposium on Digital Ethics - Center for Digital Ethics and Policy | Loyola University Chicago http://digitalethics.org/events/sixth-annual-international-symposium-on-digital-ethics/\n",
      "Strong AI invented--All humans killed 1464275028-20160526.png (684×632) http://www.smbc-comics.com/comics/1464275028-20160526.png\n",
      "PAVLOK Store - Break Bad Habits With Pavlovian Conditioning | PAVLOK Breaks Bad Habits http://pavlok.com/\n",
      "Paperclip maximizer - Lesswrongwiki https://wiki.lesswrong.com/wiki/Paperclip_maximizer\n",
      "Imagine Discovering That Your Teaching Assistant Really Is a Robot - WSJ http://www.wsj.com/articles/if-your-teacher-sounds-like-a-robot-you-might-be-on-to-something-1462546621\n",
      "Driverless cars will lead to more sex behind the wheel, says expert - CNET http://www.cnet.com/news/driverless-cars-will-lead-to-more-sex-behind-the-wheel-says-expert/\n",
      "Juristbranschen nästa för IBM:s Watson - Legaltech.se http://www.legaltech.se/blogg/ibm-vi-kommer-kodifiera-rattvisa\n",
      "Krönika: Ska bilen kunna offra sin ägare? | Forskning & Framsteg http://fof.se/tidning/2016/1/artikel/kronika-ska-bilen-kunna-offra-sin-agare#overlay=tidning/2016/1/artikel/kronika-ska-bilen-kunna-offra-sin-agare\n",
      "Hjärnan är automatiskt främlingsfientlig - DN.SE http://www.dn.se/kultur-noje/kulturdebatt/darfor-maste-vi-lura-hjarnan-att-bli-moralisk/\n",
      "Ind.ie — Ethical Design Manifesto https://ind.ie/ethical-design/\n",
      "Ska självkörande bilar kunna välja att offra människoliv? - Legaltech.se http://www.legaltech.se/blogg/ska-sjalvkorande-bilar-kunna-valja-att-offra-manniskoliv\n",
      "KIT https://kit.se/2016/01/22/32039/barn-slass-efter-att-ha-spelat-gta-men-det-ar-inte-spelets-fel/\n",
      "Ersättliga reflektioner: 9 moralfilosofiska frågor i informationsåldern http://poagren.blogspot.se/2016/01/9-moralfilosofiska-fragor-i.html\n",
      "UR Samtiden - Robotdagen 2015: När roboten tar över - UR Play http://urplay.se/Produkter/192872-UR-Samtiden-Robotdagen-2015-Nar-roboten-tar-over\n",
      "UR Samtiden - Robotdagen 2015: Vems är skulden när en robot gör fel? - UR Play http://urplay.se/Produkter/192876-UR-Samtiden-Robotdagen-2015-Vems-ar-skulden-nar-en-robot-gor-fel\n",
      "Creepy Wi-Fi Enabled Barbie can be Hacked and Turned into your Personal Surveillance Doll - Freedom Hacker https://freedomhacker.net/creepy-wifi-barbie-can-be-hacked-turned-into-surveillance-doll-4783/\n",
      "UR Samtiden - Robotdagen 2015: Vem vill opereras av en robot? - UR Play http://urplay.se/Produkter/192877-UR-Samtiden-Robotdagen-2015-Vem-vill-opereras-av-en-robot\n",
      "Hacker Obtained Children's Headshots and Chatlogs From Toymaker VTech | Motherboard http://motherboard.vice.com/read/hacker-obtained-childrens-headshots-and-chatlogs-from-toymaker-vtech\n",
      "eprint.iacr.org http://eprint.iacr.org/2015/1162.pdf\n",
      "Shooting down drone okay because it invaded man’s privacy – judge — RT USA https://www.rt.com/usa/320015-shooting-down-drone-privacy-violation/\n",
      "Why Self-Driving Cars Must Be Programmed to Kill | MIT Technology Review http://www.technologyreview.com/view/542626/why-self-driving-cars-must-be-programmed-to-kill/\n",
      "This Military Robotics Company Vows To Never Make A Killer Robot http://www.fastcoexist.com/3037416/this-military-robotics-company-vows-to-never-make-a-killer-robot\n",
      "Vems r skulden nr din robot gr brsrkagng? - Computer Sweden http://computersweden.idg.se/2.2683/1.639374/vem-bar-ansvaret-for-robotens-agerande\n",
      "A drunk man's assault on a robot raises unusual legal issues http://www.dailydot.com/technology/robot-rights-softbank-robot-attack/\n",
      "Processes for Protecting Privacy Through Mobile Device Signature-Hopping - DoNotGeoTrack, Inc. http://www.freepatentsonline.com/y2015/0245200.html\n",
      "An ethical checklist for robot journalism — Medium https://medium.com/@tjrkent/an-ethical-checklist-for-robot-journalism-1f41dcbd7be2\n",
      "Workers in a World of Continuous Partial Employment — What’s The Future of Work? — Medium https://medium.com/the-wtf-economy/workers-in-a-world-of-continuous-partial-employment-4d7b53f18f96\n",
      "Svensk robotforskare startar kampanj mot sexrobotar - IDG.se http://www.idg.se/2.1085/1.637213/forskare-startar-kampanj-mot-sexrobotar\n",
      "I Quit Social Media for 30 Days & This Happened. | elephant journal http://www.elephantjournal.com/2015/08/i-quit-social-media-for-30-days-this-happened/\n",
      "Hatet mot godheten - Sydsvenskan http://www.sydsvenskan.se/kultur--nojen/hatet-mot-godheten/\n",
      "Sexting boy's naked selfie recorded as crime by police - BBC News http://www.bbc.com/news/uk-34136388\n",
      "Expressen och Julia Caesar http://www.dagenssamhalle.se/blogg/2015/09/expressen-och-julia-caesar-17901\n",
      "www.nytimes.com http://www.nytimes.com/2012/03/25/books/review/the-righteous-mind-by-jonathan-haidt.html?_r=2\n",
      "An ethical reality check for virtual reality journalism — Medium https://medium.com/@tjrkent/an-ethical-reality-check-for-virtual-reality-journalism-8e5230673507\n",
      "Children Beating Up Robot Inspires New Escape Maneuver System - IEEE Spectrum http://spectrum.ieee.org/automaton/robotics/artificial-intelligence/children-beating-up-robot/\n",
      "People for the Ethical Treatment of Reinforcement Learners http://petrl.org/\n",
      "Robotic Rape and Robotic Child Sexual Abuse: Should they be criminalised? | John Danaher - Academia.edu https://www.academia.edu/9640087/Robotic_Rape_and_Robotic_Child_Sexual_Abuse_Should_they_be_criminalised\n",
      "Machine ethics: The robot’s dilemma : Nature News & Comment http://www.nature.com/news/machine-ethics-the-robot-s-dilemma-1.17881?WT.mc_id=TWT_NatureNews\n",
      "www.sciencedaily.com http://www.sciencedaily.com/releases/2015/06/150615124719.htm\n",
      "Peter Singer, Princeton bioethics professor, faces calls for resignation over infanticide support - Washington Times http://www.washingtontimes.com/news/2015/jun/16/peter-singer-princeton-bioethics-professor-faces-c/#.VYUuHnF4po4.twitter\n",
      "Harming virtual bodies | Andart II http://aleph.se/andart2/ethics/harming-virtual-bodies/\n",
      "How to turn a liberal hipster into a capitalist tyrant in one evening | Comment is free | The Guardian http://www.theguardian.com/commentisfree/2015/may/24/turn-a-liberal-hipster-into-global-capitalist-world-factory?CMP=share_btn_tw\n",
      "The debate on lethal robots is starting too late | The Verge http://www.theverge.com/2015/5/29/8687229/lethal-killer-robots-military-drones\n",
      "Rationella robotar och intuitiva människor | Västerbottens-Kuriren http://www.vk.se/plus/1452000/rationella-robotar-och-intuitiva-manniskor?pak=oyPHhrSDSl79P8YDnEKBHzyKgsbrA%2F2dS%2Fy3pkgu2VflI___PR3w%2F8kyBe6emexg%3D%3D\n",
      "The Ethics of Autonomous Cars - The Atlantic http://www.theatlantic.com/technology/archive/2013/10/the-ethics-of-autonomous-cars/280360/\n",
      "IT & Etik.: Alla rusar åt samma håll...var det tårtan som lockade? http://etik.blogspot.se/2015/05/alla-rusar-at-samma-hallvar-det-tartan.html\n",
      "”Lättare om de sagt sakerna rakt ut i korridoren” - Sydsvenskan http://www.sydsvenskan.se/inpa-livet/lattare-om-de-sagt-sakerna-rakt-ut-i-korridoren/\n",
      "Läkare vägrar vårda kristna i protest mot Busch Thor - DN.SE http://www.dn.se/nyheter/sverige/lakare-vagrar-varda-kristna-i-protest-mot-busch-thor/\n",
      "Roboten – kopia eller original? - Böcker - Corren.se - Nyheter Linköping Östergötland http://corren.se/kultur-noje/bocker/roboten-kopia-eller-original-7941196.aspx\n",
      "Mobil vid middag det mest förbjudna | Inrikes | TT | Senaste nytt | Aftonbladet http://www.aftonbladet.se/senastenytt/ttnyheter/inrikes/article20692334.ab\n",
      "Ethics of artificial intelligence - Wikipedia, the free encyclopedia https://en.wikipedia.org/wiki/Ethics_of_artificial_intelligence?hc_location=ufi#Robot_rights\n",
      "Comments https://m.facebook.com/story.php?story_fbid=795799520489134&id=220586808010411\n",
      "Voldsinferno har mistet dets sjæl | Information http://www.information.dk/protokol/528368\n",
      "Trollen på webben är sadister - NyTeknik http://www.nyteknik.se/popular_teknik/teknikrevyn/article3805410.ece\n",
      "Overview of Biopolitics http://ieet.org/index.php/IEET/biopolitics\n",
      "Google's New A.I. Ethics Board Might Save Humanity From Extinction http://www.huffingtonpost.com/2014/01/29/google-ai_n_4683343.html\n",
      "opinionator.blogs.nytimes.com http://opinionator.blogs.nytimes.com/2015/03/02/why-our-children-dont-think-there-are-moral-facts/?_r=3\n",
      "Anders Rydell - Älskar denna krönika av Lina Thomsgård.... | Facebook https://www.facebook.com/andersryd/posts/10153114280470761\n",
      "Sverige skulle inte gått i täten mot barnaga i dag - DN.SE http://www.dn.se/kultur-noje/kulturdebatt/sverige-skulle-inte-gatt-i-taten-mot-barnaga-i-dag/\n",
      "I Pretended to Be a Male Gamer to Avoid Harassment — Everyday Feminism http://everydayfeminism.com/2015/02/i-pretended-to-be-male-gamer/\n",
      "Robot i äldrevård etisk utmaning | Brännpunkt | SvD http://www.svd.se/opinion/brannpunkt/robot-i-aldrevard-etisk-utmaning_4345699.svd\n",
      "”Britterna river stora hål i tabun mot mänsklig kloning” - Opinion | SVT.se http://www.svt.se/opinion/article2652668.svt\n",
      "Selfie sticks banned in several venues | Media Culpa http://www.kullin.net/2015/01/selfie-sticks-banned-in-venues/\n",
      "Here's a Terrible Idea: Robot Cars With Adjustable Ethics Settings | WIRED http://www.wired.com/2014/08/heres-a-terrible-idea-robot-cars-with-adjustable-ethics-settings/\n",
      "Meet the Dogged Researchers Who Try to Unmask Haters Online | MIT Technology Review http://www.technologyreview.com/photoessay/533426/the-troll-hunters/\n",
      "Trolljägarna - TV3 Play http://www.tv3play.se/program/trolljagarna#__federated=1\n",
      "FLI - Future of Life Institute http://futureoflife.org/misc/open_letter\n",
      "FLI - Future of Life Institute http://futureoflife.org/who\n",
      "Objectively evil technology | Andart II http://aleph.se/andart2/ethics/objectively-evil-technology/\n",
      "Cool Experiment Puts Asimov's First Law Of Robotics To The Test http://io9.com/cool-experiment-puts-asimovs-first-law-of-robotics-to-t-1634921913\n",
      "Steve Jobs Was a Low-Tech Parent - NYTimes.com http://www.nytimes.com/2014/09/11/fashion/steve-jobs-apple-was-a-low-tech-parent.html?_r=0\n",
      "I was taking pictures of my daughters. A stranger thought I was exploiting them. - The Washington Post http://www.washingtonpost.com/opinions/i-was-taking-pictures-of-my-daughters-but-a-stranger-thought-i-was-exploiting-them/2014/08/29/34831bb8-2c6c-11e4-994d-202962a9150c_story.html?tid=sm_fb\n",
      "Call of Duty: Advanced Warfare Attempts to Create Photorealism : SegmentNext http://segmentnext.com/2014/08/04/call-duty-advanced-warfare-attempts-create-photorealism/\n",
      "Jail time doubled for parents of children left alone in cars or homes http://www.theage.com.au/victoria/jail-time-doubled-for-parents-of-children-left-alone-in-cars-or-homes-20140806-100vn5.html\n",
      "Förarlösa bilar kan bli dödliga vapen enligt FBI | SvD http://www.svd.se/naringsliv/motor/forarlosa-bilar-kan-bli-dodliga-vapen-enligt-fbi_3788978.svd\n",
      "| Open Roboethics Initiative http://www.openroboethics.org/\n",
      "Prosecutors In 'Sexting' Case Apparently Obtained Search Warrant To Photograph Teen's Penis | Techdirt https://www.techdirt.com/articles/20140709/07330027823/prosecutors-sexting-case-apparently-obtained-search-warrant-to-photograph-teens-penis.shtml\n",
      "Vita fick stå längst bak i Almedalen | Fria Tider http://www.friatider.se/vita-fick-st-l-ngst-bak-i-almedalen\n",
      "Killer robots: If no one pulls the trigger, who's to blame? - The Week http://theweek.com/article/index/254565/killer-robots-if-no-one-pulls-the-trigger-whos-to-blame\n",
      "Är det självklart eller inte att det första en terrorist tänker när hen hör… https://plus.google.com/+SimonWinter/posts/56CJnzfJQhc\n",
      "Kodapor https://www.facebook.com/groups/utvecklare.stockholm/permalink/696844037031338/\n",
      "Frigående robotar kräver riskanalys - NyTeknik http://www.nyteknik.se/nyheter/automation/verkstadsautomation/article3829542.ece\n",
      "Woman Violently Attacks Photographer on Beach for Using a Quadcopter http://petapixel.com/2014/06/09/woman-violently-attacks-photographer-beach-using-quadcopter/\n",
      "▶ John Cleese SDP/Liberal Alliance political broadcast 1987 - YouTube https://www.youtube.com/watch?v=VKp7HDv01hk\n",
      "Instagram defends nipple policy as celebs step up pressure - Channel 4 News http://www.channel4.com/news/instagram-defends-nipple-policy-nudity-rihanna-scout-willis-topless\n",
      "The secret of self-control : The New Yorker http://www.newyorker.com/reporting/2009/05/18/090518fa_fact_lehrer?currentPage=all&mobify=0\n",
      "Should Robot Cars Be Programmed To Kill You If It Will Save More Lives? http://www.huffingtonpost.co.uk/2014/05/13/should-robot-cars-be-prog_n_5314843.html\n",
      "Having a Sense of Purpose May Add Years to Your Life - Association for Psychological Science http://www.psychologicalscience.org/index.php/news/releases/having-a-sense-of-purpose-in-life-may-add-years-to-your-life.html\n",
      "Purpose in Life as a Predictor of Mortality Across Adulthood http://pss.sagepub.com/content/early/2014/05/06/0956797614531799.abstract\n",
      "Cristian Norlin - Hello Memeto. I was thinking about your product... https://www.facebook.com/GetNarrative/posts/341354402631977\n",
      "The Robot Car of Tomorrow May Just Be Programmed to Hit You | Autopia | WIRED http://www.wired.com/2014/05/the-robot-car-of-tomorrow-might-just-be-programmed-to-hit-you\n",
      "Nintendo says there’s no place for gay marriage in its “playful alternate world” · Newswire · The A.V. Club http://www.avclub.com/article/nintendo-says-theres-no-place-gay-marriage-its-pla-204343\n",
      "Näthatarna ger uttryck för de bortsorterades röst - DN.SE http://www.dn.se/kultur-noje/kulturdebatt/nathatarna-ger-uttryck-for-de-bortsorterades-rost/\n",
      "Siri's Psychological Effects on Children | New Republic http://www.newrepublic.com/article/117242/siris-psychological-effects-children\n",
      "Erkänn oss resande som ett eget folk | Debatt | Aftonbladet http://www.aftonbladet.se/debatt/article18667504.ab\n",
      "Nu det läge att börja prata om gränsdragningar - Computer Sweden http://computersweden.idg.se/2.2683/1.551244?mv=pass\n",
      "Barnpornografi lånas ut på bibliotek | Inrikes | SvD http://www.svd.se/nyheter/inrikes/barnpornografi-lanas-ut-pa-bibliotek_3345136.svd\n",
      "Michael Shermer om att tro på underliga saker | Video on TED.com http://www.ted.com/talks/michael_shermer_on_believing_strange_things.html\n",
      "Toyota Case: Single Bit Flip That Killed | EE Times http://www.eetimes.com/document.asp?doc_id=1319903\n",
      "Peter Sunde: Facebook är en oreglerad drog | Debatt | Aftonbladet http://www.aftonbladet.se/debatt/article16932102.ab\n",
      "Johnny Olsson–Google - Fundering: Brew Dog får, välförtjänt, massor med kärlek i… https://plus.google.com/+JohnnyOlsson/posts/53PVi2YY3Gr\n",
      "BBC News - Should the rules of war be included in computer games? http://www.bbc.co.uk/news/technology-24318061\n",
      "Kan ni hjälpa mig? Skrev lite för mycket hat på en tjejs sida, kallade henne hora, bad henne att dö, lite sånt.. Hon ska tydligen anmäla mig imorn, men hur ska ja göra för att komma undan? Jag var inloggad på mitt konto när ja skrev de men anony http://ask.fm/ungaonline/answer/106985380063\n",
      "NJ court takes ‘child neglect’ to extremes | New York Post http://nypost.com/2014/01/21/nj-court-takes-child-neglect-to-extremes/\n",
      "Vuxenmobbing i postapokalypsen | Nöjesguiden http://nojesguiden.se/blogg/spel-michael-gill/vuxenmobbing-i-postapokalypsen\n",
      "Kvinna åtalas efter falsk anmälan om våldtäkt - Länet - www.na.se http://na.se/nyheter/lanet/1.2336372-kvinna-atalas-efter-falsk-anmalan-om-valdtakt\n",
      "COPYRIOT | Om hur begreppet “våldsbejakande” har uppstått och varför det bör förkastas http://copyriot.se/2013/12/26/om-hur-begreppet-valdsbejakande-har-uppstatt-och-varfor-det-bor-forkastas/\n",
      "Vad är det med invandringen som är så stötande? | Johan Hakelius | Kolumnister | Nyheter | Aftonbladet http://www.aftonbladet.se/nyheter/kolumnister/johanhakelius/article18029121.ab\n",
      "Sweden - Geert Hofstede http://geert-hofstede.com/sweden.html\n",
      "Terminal Cornucopia by Evan Booth http://terminalcornucopia.com/\n",
      "Dockpyssel, styckmord och rasande föräldrar - TVdags.se http://tvdags.se/artikel/dockpyssel-styckmord-och-rasande-foraldrar\n",
      "Fula lampor största problemet med SVT:s dockmord | Debatt | svt.se http://debatt.svt.se/2013/11/19/fula-lampor-storsta-problemet-med-svts-dockmord/\n",
      "Sluta recensera andras kroppar - Kultur & Nöjen - Sydsvenskan-Nyheter Dygnet Runt http://www.sydsvenskan.se/kultur--nojen/sluta-recensera-andras-kroppar/\n",
      "Stoppa spridning av vinterkräksjukan http://www.orebroll.se/sv/Om-landstinget/Information-och-kommunikation/Tebladet/Artiklar---Tebladet1/Stoppa-spridning-av-vinterkraksjukan/\n",
      "Just känslan av obehag visar att övning behövs | Johan Hakelius | Kolumnister | Nyheter | Aftonbladet http://www.aftonbladet.se/nyheter/kolumnister/johanhakelius/article17777317.ab\n",
      "Mina bröst är andras pattar http://opassande.se/2013/10/03/mina-brost-ar-andras-pattar/\n",
      "Are Machines Humans? « Netopia http://www.netopia.eu/2013/09/29/are-machines-humans/\n",
      "PLOS ONE: Divergent Effects of Beliefs in Heaven and Hell on National Crime Rates http://www.plosone.org/article/info%3Adoi%2F10.1371%2Fjournal.pone.0039048\n",
      "Belief in an angry God is the strongest predictor of a country's crime rate http://io9.com/5919873/belief-in-an-angry-god-is-the-strongest-predictor-of-a-countrys-crime-rate\n",
      "Two Monkeys Were Paid Unequally: Excerpt from Frans de Waal's TED Talk - YouTube http://www.youtube.com/watch?v=meiU6TxysCg\n",
      "FUNNIEST Banned Commercials 2013 - YouTube https://www.youtube.com/watch?v=bqbcYbq13Ow#t=43\n",
      "Kunskapens pris V: En rätt att inte veta? | Nicklas Noterar http://noisesociety.com/nicklaslundblad.se/?p=1477\n",
      "How Can Smart, Ethical Individuals Form Dumb, Amoral Government Agencies? | American Civil Liberties Union https://www.aclu.org/blog/criminal-law-reform-national-security-technology-and-liberty/how-do-smart-ethical-individuals\n",
      "Jag är en förälder som är väldigt upprörd över detta fenomen. Ask vill säga. Är inte detta att UPPMUNTRA unga som helt saknar omdöme att man är trygg och anonym och kan skriva vad som helst! Detta har just hänt min dotter som är 13 och jag ä http://ask.fm/ungaonline/answer/39877390815\n",
      "Danni Efraim–Google+ - We should all do our part, to be more tolerant, here's how… https://plus.google.com/u/0/103698681510334421883/posts/WAbiKzZMU2p\n",
      "FYI (if you’re a teenage girl) | Given Breath http://givenbreath.com/2013/09/03/fyi-if-youre-a-teenage-girl/\n",
      "Words banned from Bing and Google’s autocomplete algorithms. - Slate Magazine http://www.slate.com/articles/technology/future_tense/2013/08/words_banned_from_bing_and_google_s_autocomplete_algorithms.html\n",
      "12 föräldrar som kanske inte borde vara föräldrar | David Sundin http://david.cafe.se/12-foraldrar-som-kanske-inte-borde-vara-foraldrar/\n",
      "Dansk Kvindesamfund: Sådan giver du kvinder komplimenter - Politiken.dk http://politiken.dk/debat/debatindlaeg/ECE2041959/dansk-kvindesamfund-saadan-giver-du-kvinder-komplimenter/\n",
      "Ask.fm Is the New Way for Teens to Cyberbully Each Other to Death - Alexander Abad-Santos - The Atlantic Wire http://www.theatlanticwire.com/global/2013/08/twitter-bullying-over-ask-new-way-people-be-awful/68074/\n",
      "Roten i tillvaron | Kultur | Konst Litteratur Kulturartiklar | Expressen http://www.expressen.se/kultur/roten-i-tillvaron/\n",
      "No Kids Allowed: How Our Street Design Is Killing Play - Sarah Goodyear - The Atlantic Cities http://www.theatlanticcities.com/neighborhoods/2013/08/if-you-put-cars-first-kids-come-last/6470/\n",
      "Navy turns to Kinect game to tackle rape in the military | Polygon http://www.polygon.com/2013/7/25/4556872/navy-turns-to-kinect-game-to-tackle-rape-in-the-military\n",
      "Simon Winter - Google+ - Är ateister verkligen så förföljda i (delar av) USA som det… https://plus.google.com/u/0/101286638071378431387/posts/gzKuht9RTZC\n",
      "Feminists boycotting Twitter is not the way to end trolling - Telegraph http://www.telegraph.co.uk/women/womens-life/10207086/Feminists-boycotting-Twitter-is-not-the-way-to-end-trolling.html\n",
      "[Chpt. 1] Anything but an Atheist... - YouTube http://www.youtube.com/watch?v=6m1NfhZ8Uc0\n",
      "America's most religious cities download lots of porn - Boing Boing http://boingboing.net/2013/05/24/americas-most-religious-citi.html\n",
      "Täpp-Anders Sikvall - Google+ - Jag tycker föräldern gjorde rätt. https://plus.google.com/u/0/102607909334036717545/posts/LT3maQ4jKNK\n",
      "Masturbation Is at the Root of the Culture Wars - Hugo Schwyzer - The Atlantic http://www.theatlantic.com/sexes/archive/2013/05/masturbation-is-at-the-root-of-the-culture-wars/276110/\n",
      "Dans un message, Dominique Venner expliquait les raisons de son suicide http://www.lemonde.fr/societe/article/2013/05/21/un-homme-se-suicide-dans-la-cathedrale-notre-dame_3414854_3224.html\n",
      "Caught in the genetic social network | Practical Ethics http://blog.practicalethics.ox.ac.uk/2013/07/caught-in-the-genetic-social-network/\n",
      "Nash equilibrium - Wikipedia, the free encyclopedia https://en.wikipedia.org/wiki/Nash_equilibrium\n",
      "Volkswagen's Clever Campaign To End Texting And Driving - PSFK http://www.psfk.com/2013/07/volkswagen-texting-and-driving-ads.html\n",
      "Waldemar Ingdahl: Detox, vår tids späkelserit http://waldemaringdahl.blogspot.se/2013/07/detox-var-tids-spakelserit.html\n",
      "Tasteless in-game joke, 8 years in prison - Boing Boing http://boingboing.net/2013/06/28/tasteless-in-game-joke-8-year.html\n",
      "Ara Norenzayan http://www2.psych.ubc.ca/~ara/research.htm\n",
      "‘This Is The End’ of Non-Violent Porn — Pop of Culture — Medium https://medium.com/pop-of-culture/9d0eacc93b8b\n",
      "Moral Foundations Theory - Wikipedia, the free encyclopedia http://en.wikipedia.org/wiki/Moral_Foundations_Theory\n",
      "The Ethics of Ethical Tools | The Frailest Thing http://thefrailestthing.com/2013/05/29/the-ethics-of-ethical-tools/\n",
      "Mug shot/profile image http://induplo.tumblr.com/\n",
      "Papa Francesco: accanto a Borges, Dostoevskji e Holderlin, c’è anche Tolkien | Inoltre http://inoltreilblog.wordpress.com/2013/03/16/papa-francesco-accanto-a-borges-dostoevskji-e-holderlin-ce-anche-tolkien/\n",
      "FBI — Thirteen Correctional Officers Among 25 Black Guerilla Family Gang Members and Associates Indicted on Federal Racketeering Charges http://www.fbi.gov/baltimore/press-releases/2013/thirteen-correctional-officers-among-25-black-guerilla-family-gang-members-and-associates-indicted-on-federal-racketeering-charges\n",
      "Attacks on punks and goths are now hate crimes in Manchester - Boing Boing http://boingboing.net/2013/04/03/attacks-on-punks-and-goths-are.html\n",
      "Om någon skrev 'hoppas du dör idag, din äckliga fitta, dra åt helvete jävla horunge' till mig. Är det något man ska polisanmäla elr inte ? Är det att dom kränker mig ? | ask.fm/ungaonline http://ask.fm/ungaonline/answer/40763643103\n",
      "The Daily Dot - The fine art of trolling horny guys on Tinder http://www.dailydot.com/lol/how-to-lose-a-guy-in-one-tinder-interview/\n",
      "Sam Harris: Science can answer moral questions | Video on TED.com http://www.ted.com/talks/sam_harris_science_can_show_what_s_right.html\n",
      "Jag hade mobbat skiten ur dig - hd.se http://hd.se/mer/2013/04/30/jag-hade-mobbat-skiten-ur-dig/\n",
      "Duplicate house keys online http://shloosl.com/\n",
      "Hanna Fahl: Det är inget skämt – vi förväntas bara garva åt att de unga tjejerna skriker - DN.SE http://www.dn.se/kultur-noje/kronikor/hanna-fahl-det-ar-inget-skamt--vi-forvantas-bara-garva-at-att-de-unga-tjejerna-s\n",
      "Vad säger lagen – barnporr i DN Kultur? : Maria Abrahamsson http://www.mariaabrahamsson.nu/index.php/2013/03/23/vad-sager-lagen-barnporr-i-dn-kultur/\n",
      "I Abused The Family Dog. But It Was A Robot Dog, Which Makes It OK, Right? – ReadWrite http://readwrite.com/2013/03/27/i-abused-the-family-dog-but-it-was-a-robot-dog-that-makes-it-okay-right\n",
      "Rage Compilation - Call of Duty European Championships - Eurogamer - YouTube https://www.youtube.com/watch?feature=player_embedded&v=R7HbCkU_-cM#!\n",
      "Researcher sets up illegal 420,000 node botnet for IPv4 internet map • The Register http://www.theregister.co.uk/2013/03/19/carna_botnet_ipv4_internet_map/\n",
      "Wear someone else's face with the Face Stealer App for iPhone #DigInfo - YouTube https://www.youtube.com/watch?v=shN3-RTXX2A\n",
      "How to Stop the Bullies - Emily Bazelon - The Atlantic http://www.theatlantic.com/magazine/archive/2013/03/how-to-stop-bullies/309217/\n",
      "Näthat drabbar företag - DN.SE http://www.dn.se/ekonomi/nathatet--drabbar-naringslivet\n",
      "BBC News - Kids 'using coding skills to hack' friends on games, expert says http://www.bbc.co.uk/news/technology-21371609\n",
      "What Happens When You Walk Into a Bar Wearing Google Glasses - Alexis C. Madrigal - The Atlantic http://www.theatlantic.com/technology/archive/13/01/what-happens-when-you-walk-into-a-bar-wearing-google-glasses/272745/\n",
      "The Guilty Conscience of a Drone Pilot Who Killed a Child - Conor Friedersdorf - The Atlantic http://www.theatlantic.com/politics/archive/2012/12/the-guilty-conscience-of-a-drone-pilot-who-killed-a-child/266453/\n",
      "The New Aesthetic — “On school-day mornings, I walk my... http://new-aesthetic.tumblr.com/post/37131838444/on-school-day-mornings-i-walk-my\n",
      "Morality, the Next Frontier in Human-Computer Interaction | MIT Technology Review http://www.technologyreview.com/view/508081/morality-the-next-frontier-in-human-computer-interaction/#comments\n",
      "Pedofilnätverket som krossade Amanda Todd - Nyheter / Internet http://nyheter24.se/nyheter/internet/729675-pedofilnatverket-som-krossade-amanda-todd\n",
      "Unmasking Reddit's Violentacrez, The Biggest Troll on the Web https://gawker.com/5950981\n",
      "Putting people first » Intel annual ‘Mobile Etiquette’ study examines online sharing behaviors around the world http://www.experientia.com/blog/intel-annual-mobile-etiquette-study-examines-online-sharing-behaviors-around-the-world/\n",
      "”Skyll dig själv om du får prata med ett hårfäste!” | Åsa Erlandson | Krönikörer | Wendela | Aftonbladet http://www.aftonbladet.se/wendela/kronikorer/asaerlandson/article15427140.ab\n",
      "Putting people first » The Machine and The Ghost http://www.experientia.com/blog/the-machine-and-the-ghost/\n",
      "Colombian app encourages citizens to document illegal child labor | Springwise http://www.springwise.com/non-profit_social_cause/columbian-app-encourages-citizens-document-illegal-child-labor/\n",
      "Such questions have led to the emergence of the... - Fresser. http://slavin.tumblr.com/post/24444700952/such-questions-have-led-to-the-emergence-of-the\n",
      "Så avslöjar du en kinesisk piratshop | .SE https://www.iis.se/blogg/sa-avslojar-du-en-kinesisk-piratshop\n",
      "How Creativity Connects with Immorality: Scientific American http://www.scientificamerican.com/article.cfm?id=how-creativity-connects-immortality\n",
      "Designing Tools for the 99%? http://ieeexplore.ieee.org/stamp/stamp.jsp?reload=true&tp=&arnumber=6174324\n",
      "Goldman Sachs Exec Director quits, indicts former employer in stinging NYT editorial - Boing Boing http://boingboing.net/2012/03/14/goldman-sachs-exec-director-qu.html\n",
      "Frukostmöte: Maskin eller människa? - chamber.se http://www.chamber.se/?id=11719&eid=9772\n",
      "How Facebook decides which images to allow - Boing Boing http://boingboing.net/2012/02/22/how-facebook-decides-which-ima.html\n",
      "Canadian MP: if you oppose warrantless snooping, you \"stand with child pornographers\" - Boing Boing http://boingboing.net/2012/02/14/canadian-mp-if-you-oppose-war.html\n",
      "Eurozine - We are not alone in the universe - Jonathan Metzger http://www.eurozine.com/articles/2012-02-08-metzger-en.html\n",
      "Foxconn Workers Threaten Mass Suicide http://www.readwriteweb.com/archives/foxconn_factory_mass_suicide_averted.php\n",
      "Manga skadar inte - Kultur - Konst Litteratur Kulturartiklar | Expressen http://www.expressen.se/kultur/1.2665284/manga-skadar-inte\n",
      "Quantified Self (3/3) : Les tabous de la mesure « InternetActu.net http://www.internetactu.net/2011/12/15/quantified-self-33-les-tabous-de-la-mesure/\n",
      "Cigar lounge on wheels brings banned smoking back to social events | Springwise http://www.springwise.com/lifestyle_leisure/cigar-lounge-wheels-brings-banned-smoking-social-events/\n",
      "Politiker ska inte ha några principer | Ledarsidan | SvD http://www.svd.se/opinion/ledarsidan/politiker-ska-inte-ha-nagra-principer_6718399.svd\n",
      "Towards an Ethics of Persuasion | UX Magazine http://uxmag.com/articles/towards-an-ethics-of-persuasion\n",
      "The New Atlantis » The Problem with 'Friendly' Artificial Intelligence http://www.thenewatlantis.com/publications/the-problem-with-friendly-artificial-intelligence\n",
      "De virtuella medborgargardena | IT & Etik. http://etik.blogspot.com/2011/11/de-virtuella-medborgargardena.html\n",
      "Smartphone-Powered EEG Makes For Creepy Meetings | TechCrunch http://techcrunch.com/2011/09/19/smartphone-powered-eeg-makes-for-creepy-meetings/\n",
      "Machines hostiles, par Jean-Noël Lafargue (Le Monde diplomatique) http://www.monde-diplomatique.fr/2011/07/LAFARGUE/20788\n",
      "Italienare fälld för slag mot barn - DN.SE http://www.dn.se/nyheter/sverige/italienare-falld-for-slag-mot-barn\n",
      "Unga aningslösa på Facebook - NyTeknik http://www.nyteknik.se/nyheter/it_telekom/allmant/article3251722.ece\n",
      "HELP NEEDED: How to Calm a Parent Who Fears Danger AND Blame? « FreeRangeKids http://freerangekids.wordpress.com/2011/08/03/input-needed-how-to-help-parents-stop-fearing-blame/\n",
      "Google’s Official List of Bad Words | F.A.T. http://fffff.at/googles-official-list-of-bad-words/\n",
      "Kids on the sex-offender registry: fuelling terror and ruining lives – Boing Boing http://boingboing.net/2011/07/22/kids-on-the-sex-offe.html\n",
      "SOL Research: Look Who’s a Sex Offender Now! http://www.solresearch.org/~SOLR/rprt/LookNow.asp#Sct_1_PublicKidPics\n",
      "Putting people first » Technology and moral panic http://www.experientia.com/blog/technology-and-moral-panic/\n",
      "Baksidan av konsensus -- Per Bauhn -- Axess | Magasin http://www.axess.se/magasin/default.aspx?article=896\n",
      "All Adults Are Potential Predators (Even Ladies Eating Donuts at the Park) « FreeRangeKids http://freerangekids.wordpress.com/2011/06/08/all-adults-are-potential-predators-even-ladies-eating-donuts-at-the-park/\n",
      "Ett forskningsetiskt dilemma | Forskning & Framsteg | Populärvetenskapligt magasin http://www.fof.se/blogg/birgitta-forsman/ett-forskningsetiskt-dilemma\n",
      "Den dubbelt dömde - Kultur & Nöjen - Sydsvenskan - Nyheter dygnet runt http://www.sydsvenskan.se/kultur-och-nojen/article1475275/Den-dubbelt-domde.html\n",
      "Brit beautician Kerry Campbell gives daughter Britney, 8, Botox for beauty pageant - What's On Xiamen http://www.whatsonxiamen.com/news18138.html\n",
      "Bridging the robotics gap: bringing together ethicists and engineers -- 3TU.Centre for Ethics and Technology http://www.ethicsandtechnology.eu/subsite/bridging_the_robotics_gap_bringing_together_ethicists_and_engineers/\n",
      "Social Robots Raise Moral, Ethical Questions : NPR http://www.npr.org/2011/03/11/134448276/Social-Robots-Raise-Moral-Ethical-Questions\n",
      "Does Not Compute: IEET Readers Unsure About Robot Rights http://ieet.org/index.php/IEET/more/4542\n",
      "Ny app avslöjar pedofil i mobilen - NyTeknik http://www.nyteknik.se/nyheter/it_telekom/mobiltele/article3082366.ece\n",
      "August, 6, nekades trissvinst | Nyheter | Aftonbladet http://www.aftonbladet.se/nyheter/article8484123.ab\n",
      "School District Bans Dictionaries Over Definitions | Strollerderby http://blogs.babble.com/strollerderby/2010/01/25/school-district-bans-dictionaries-over-definitions/\n",
      "MY PHONE IS OFF FOR YOU http://myphoneisoff.com/\n",
      "Tonårsflickor hängs ut på ny internetsajt | Nyheter | Aftonbladet http://www.aftonbladet.se/nyheter/article8111501.ab\n",
      "Nude photos and cruel messages, teen digital dating abuse grows - CNN.com http://edition.cnn.com/2010/LIVING/10/26/teens.digital.dating.abuse/index.html?iref=NS1\n",
      "Techrisk » Illusionen av skydd är farligare än ingen skydd http://techrisk.se/?p=2176\n",
      "Så enkelt kollar du vad din tonåring gör på nätet - IDG.se http://www.idg.se/2.1085/1.339062/sa-enkelt-kollar-du-vad-din-tonaring-gor-pa-natet?ref=bjn220\n",
      "Sociala medier » Datainspektionen publicerar vägledning för myndigheter på Facebook och Twitter http://www.socialamedier.com/2010/09/07/datainspektionen-vagledning-myndigheter-facebook-twitter/\n",
      "Oscar Swartz :: Texplorer: Se de förbjudna mangabilderna http://swartz.typepad.com/texplorer/2010/08/se-de-f%C3%B6rbjudna-mangabilderna.html?utm_source=feedburner&utm_medium=feed&utm_campaign=Feed%3A+texplorer+(Oscar+Swartz+%3A%3A+Texplorer)\n",
      "Deepedition » Sex är alltså värre än våld om barn är inblandade http://deepedition.com/2010/08/02/sex-ar-alltsa-varre-an-vald-om-barn-ar-inblandade/\n",
      "Medical professionalism in the age of online social networking -- Guseh et al. 35 (9): 584 -- Journal of Medical Ethics http://jme.bmj.com/content/35/9/584.abstract\n",
      "Den dömde uttalar sig - manga, ecpat http://knuff.se/u/982069\n",
      "Tankens frihet » 之乎者也 http://blogg.tianmi.info/2010/07/27/tankens-frihet/\n",
      "Who watches the watchmen?: Den dömde uttalar sig http://vembevakarbevakarna.blogspot.com/2010/07/den-domde-uttalar-sig.html\n",
      "Employees Ignore Social Media Policies, Play \"FarmVille\" on Company Time [STUDY] http://mashable.com/2010/07/23/cisco-security-report/\n",
      "Jan Myrdal: Barnporrlagen är en omoralisk absurditet - Debatt - Expressen.se http://www.expressen.se/debatt/1.2075456/jan-myrdal-barnporrlagen-ar-en-omoralisk-absurditet\n",
      "Du vill inte veta hur lagar tillverkas « No size fits all http://hagwall.wordpress.com/2010/07/24/du-vill-inte-veta-hur-lagar-tillverkas/\n",
      "Deepedition » Absurditeterna inom lagstiftningen http://deepedition.com/2010/07/23/absurditeterna-inom-lagstiftningen/\n",
      "Oscar Swartz :: Texplorer: Intervju: Barnporrdömde mangamannen http://swartz.typepad.com/texplorer/2010/07/intervju-barnporrd%C3%B6mde-mangamannen.html?utm_source=feedburner&utm_medium=feed&utm_campaign=Feed%3A+texplorer+(Oscar+Swartz+%3A%3A+Texplorer)\n",
      "På tre millisekunder blev jag en brottsling… | jardenberg unedited http://jardenberg.se/b/pa-tre-millisekunder-blev-jag-en-brottsling/\n",
      "COPYRIOT | Kränkt http://copyriot.se/2010/01/29/krankt/\n",
      "collision detection: Is it ethical to eat plants -- when they're fighting for their lives? http://www.collisiondetection.net/mt/archives/2010/01/is_it_ethical_t.php\n",
      "The littlest YouTube sensation - Salon.com http://www.salon.com/mwt/feature/2010/01/06/youtube_porn_day/index.html?source=rss&aim=/mwt/feature\n",
      "Gränsen mellan spel och verklighet suddas ut | iPhonefeber http://iphone.feber.se/art/171076/grnsen_mellan_spel_och_verklig/\n",
      "Studio S om videovåld - Öppet arkiv | SVT Play http://svtplay.se/v/1520449/oppet_arkiv/studio_s_om_videovald\n",
      "GoodGuide lets you scan barcodes to find the most ethical products | VentureBeat http://digital.venturebeat.com/2009/11/18/goodguide-lets-you-scan-barcodes-to-find-the-best-products/\n",
      "Radioinslag om anonymitet, fildelning och Cybernormer : Cybernormer.se http://cybernormer.se/2009/11/13/radioinslag-om-cybernormer/\n",
      "Duke University official concerned that sex toy study will make students want to \"just sit around and masturbate\" - Boing Boing http://www.boingboing.net/2009/11/09/duke-university-offi.html\n",
      "Household Robots Do Not Protect Users' Security And Privacy, Researchers Say http://www.sciencedaily.com/releases/2009/10/091008161900.htm\n",
      "Techrisk » Med bärbar dator på toaletten http://techrisk.se/?p=1117\n",
      "michaelzimmer.org » The Internet as Playground and Factory: A Conference on Digital Labor http://michaelzimmer.org/2009/10/17/the-internet-as-playground-and-factory/\n",
      "How Dangerous Could a Hacked Robot Possibly Be? - NYTimes.com http://www.nytimes.com/external/idg/2009/10/08/08idg-how-dangerous-could-a-hacked-robot-possibly-be-72478.html\n",
      "Smart Mobs » Blog Archive » Hugh Jackman stops Broadway Show for phone ringing http://www.smartmobs.com/2009/09/29/hugh-jackman-stops-broadway-show-for-phone-ringing/\n",
      "Oscar Swartz :: Texplorer: Hur tips blev sajter - Barnporr del 2 http://swartz.typepad.com/texplorer/2009/09/hur-tips-blev-sajter---barnporr-del-2.html\n",
      "Experter betalar för att vara med i TV4 - DN.se http://www.dn.se/kultur-noje/nyheter/experter-betalar-for-att-vara-med-i-tv4-1.956729\n",
      "Smokescreen privacy game uses fun missions to show kids how data on social services can be used against them - Boing Boing http://www.boingboing.net/2009/09/18/smokescreen-privacy.html\n",
      "Company Denies its Robots Feed on the Dead | Danger Room | Wired.com http://www.wired.com/dangerroom/2009/07/company-denies-its-robots-feed-on-the-dead/\n",
      "Er det i orden at bruge oprigtighed som genvej til opmærksomhed? | Socialsquare - we make participation happen http://socialsquare.dk/2009/09/13/er-det-i-orden-at-bruge-oprigtighed-som-genvej-til-opmaerksomhed/\n",
      "Ung Kommunikations blogg - E-tik och moral på den digitala arenan http://ungkommunikation.blogg.se/2009/september/etik-och-moral-pa-den-digitala-arenan.html\n",
      "Obama's Speech to Kids: Want to Be President? Be Careful on Facebook http://mashable.com/2009/09/08/obama-advice-to-kids/\n",
      "Art Fag City » IMG MGMT: The Nine Eyes of Google Street View http://www.artfagcity.com/2009/08/12/img-mgmt-the-nine-eyes-of-google-street-view/\n",
      "Ethics of robots that kill - Boing Boing http://www.boingboing.net/2009/07/28/ethics-of-robots-tha.html\n",
      "Worst families in Britain will be put in 'sin bins' - Telegraph http://www.telegraph.co.uk/news/uknews/5888162/Worst-families-in-Britain-will-be-put-in-sin-bins.html\n",
      "Putting people first » Glued to the machine and going for broke http://www.experientia.com/blog/glued-to-the-machine-and-going-for-broke/\n",
      "Manga collector faces 15 years in jail because some of his comics included sexual images of children - Boing Boing http://www.boingboing.net/2009/05/27/manga-collector-face.html\n",
      "Hur uppstod människans moralkänsla? - Vetenskapsnyheter - P1 - sr.se http://www.sr.se/cgi-bin/p1/program/artikel.asp?programid=406&nyheter=1&Artikel=2821308\n",
      "Copyriot › Musik är odemokratiskt och exkluderande http://copyriot.se/2009/04/25/musik-ar-odemokratiskt-och-exkluderande/\n",
      "IT viewed through a moral prism - 09 Apr 2009 - Computing http://www.computing.co.uk/computing/analysis/2240155/viewed-moral-prism-4593333\n",
      "Parent of gamer asks his son to honor the Geneva Conventions - Boing Boing http://www.boingboing.net/2009/02/22/parent-of-gamer-asks.html\n",
      "snyggast.se -- Joinna - http://joonnajonna.blogg.se/2008/november/snyggastse.html\n",
      "IT & Etik: Squill läggs ned http://etik.blogspot.com/2008/12/squill-lggs-ned.html\n",
      "Torture in video-games -- a moral dilemma - Boing Boing http://www.boingboing.net/2008/12/08/torture-in-videogame.html\n",
      "Do Atheists Pose a Threat to Morality? | Psychology Today Blogs http://blogs.psychologytoday.com/blog/experiments-in-philosophy/200806/do-atheists-pose-a-threat-morality\n",
      "Moral vs moral — Copy me happy http://blog.brokep.com/2008/10/14/moral-vs-moral/\n",
      "michaelzimmer.org » Archives » More On the “Anonymity” of the Facebook Dataset - It’s Harvard College http://michaelzimmer.org/2008/10/03/more-on-the-%E2%80%9Canonymity%E2%80%9D-of-the-facebook-dataset-its-harvard-college/\n",
      "SweClockers.com - Nyhet: Dopade datorspelare http://www.sweclockers.com/nyhet/8200-dopade_datorspelare/\n",
      "Nätkulturer: En handling säger mer än 1000 ord http://www.kulturer.net/blog/2008/06/en-handling-sger-mer-n-1000-ord.html\n",
      "\"Utvecklare saknar yrkesetik\" saknar yrkesetik\" - Computer Sweden http://computersweden.idg.se/2.2683/1.155502\n",
      "SvD » Inrikes » Många ratar okänt nummer http://www.svd.se/nyheter/inrikes/artikel_999545.svd\n",
      "Debate around brain enhancement drugs - Boing Boing http://www.boingboing.net/2008/03/09/debate-around-brain.html\n",
      "Documentary: Videogame Violence & Effects on Youth -- VIDEOLUDICA http://www.videoludica.com/news.php?news=658&lang=it\n",
      "Nätkulturer: Kulturnavigering i skolan http://www.kulturer.net/blog/2008/01/kulturnavigering-i-skolan.html\n",
      "collision detection: My life as suicide bomber in <em>Halo 3</em> http://www.collisiondetection.net/mt/archives/2008/01/_suicide_bombin.html\n",
      "Warren Ellis's angry, profane Three Laws of Robotics - Boing Boing http://www.boingboing.net/2008/01/05/warren-elliss-angry.html\n",
      "IT & Etik: Ungdomsstyrelsen: Unga som spelar datorspel dricker mindre alkohol http://etik.blogspot.com/2007/12/ungdomsstyrelsen-unga-som-spelar.html\n",
      "Anders Mildner - Får jag inte vara otrevlig tänker jag heller inte vara social http://w2.sydsvenskan.se/mildner/2007/12/12/far-jag-inte-vara-otrevlig-tanker-jag-heller-inte-vara-social/\n",
      "Center- och sd-toppar är vänner - kristianstadsbladet.se http://www.kristianstadsbladet.se/article/20071102/KRISTIANSTAD/711020050/\n",
      "How to Change the World: 23andme Party http://blog.guykawasaki.com/2007/11/23andme-party.html\n",
      "IT & Etik: Var tionde har gjort slut med sin partner via ett chattprogram http://etik.blogspot.com/2007/11/var-tionde-har-gjort-slut-med-sin.html\n",
      "Smart Mobs » Blog Archive » Will you one day marry a robot? http://www.smartmobs.com/2007/10/19/will-you-one-day-marry-a-robot/\n",
      "Etik under press - Computer Sweden http://computersweden.idg.se/2.2683/1.125045\n",
      "The Facebook commandments. - By Reihan Salam - Slate Magazine http://www.slate.com/id/2174439/pagenum/all/#page_start\n",
      "Oscar Swartz :: Texplorer: Fritt porrsurfande = fackligt krav ? http://swartz.typepad.com/texplorer/2007/09/fritt-porrsurfa.html\n",
      "Save Face on Facebook: Facebook Etiquette / Wired How To's http://howto.wired.com/wiredhowtos/index.cgi?page_name=save_face_on_facebook_facebook_etiquette;action=display;category=Play\n",
      "Are people more polite in virtual worlds? | CNET News.com http://news.com.com/2100-1043_3-6200287.html\n",
      "BitoS etiska råd http://www.bitos.org/Article.jsp?article=89\n",
      "Smart Mobs: PONAR: Rethinking the Online Abuse Defense http://www.smartmobs.com/archive/2007/06/24/ponar_rethinkin....html\n",
      "IT & Etik: Fusk vid Onlineprov, kanske en kamera löser det - USATODAY.com http://etik.blogspot.com/2007/06/fusk-vid-onlineprov-kanske-en-kamera.html\n",
      "michaelzimmer.org » Archives » Perspectives on Surveillance http://michaelzimmer.org/2007/06/20/perspectives-on-surveillance/\n",
      "Boing Boing: Robot rights activist attacked by human superiority bigots http://www.boingboing.net/2007/06/11/robot_rights_activis.html\n",
      "IT & Etik: Katedral i datorspel http://etik.blogspot.com/2007/06/katedral-i-datorspel.html\n",
      "HUMlab researcher on robot ethic http://blog.humlab.umu.se/?p=517\n",
      "Boing Boing: UK police to using hovering spy drone to record unruly behavior http://www.boingboing.net/2007/05/21/uk_police_to_using_h.html\n",
      "JS Online: Robo-quandary http://www.jsonline.com/story/index.aspx?id=603228&format=print\n",
      "Boing Boing: TSA donates potentially explosive liquids to homeless http://www.boingboing.net/2007/05/13/tsa_donates_potentia.html\n",
      "collision detection: Soldier-robot love http://www.collisiondetection.net/mt/archives/2007/05/soldierrobot_lo.html\n",
      "Ny bilddiagnostik ger svar på allt - och lite till - Sverige - Sydsvenskan - Nyheter dygnet runt http://sydsvenskan.se/sverige/article236571.ece\n",
      "ELEKTRONIKTIDNINGEN - Robotar är snart som barn http://www.etn.se/index.php?option=com_content&task=view&id=20966&Itemid=142\n",
      "BBC NEWS | Technology | Robot future poses hard questions http://news.bbc.co.uk/2/hi/technology/6583893.stm\n",
      "Boing Boing: Old encyclopedia says comic books make kids do \"wicked acts\" http://www.boingboing.net/2007/04/20/old_encyclopedia_say.html\n",
      "Stöldmärkning av nyfödda - sr.se http://www.sr.se/cgi-bin/p1/program/artikel.asp?ProgramID=406&Nyheter=1&artikel=1317480\n",
      "stationsvakt: Doften av död lockar gamar http://stationsvakt.blogspot.com/2007/04/doften-av-dd-lockar-gamar.html\n",
      "The art of science - Haaretz - Israel News http://www.haaretz.com/hasen/spages/846339.html\n",
      "michaelzimmer.org » Archives » All Eyes On You: Cellphone cameras & cyber-shaming http://michaelzimmer.org/2007/03/04/all-eyes-on-you-cellphone-cameras-cyber-shaming/\n",
      "Putting people first » UNESCO publishes survey on ethical implications of emerging technologies http://www.experientia.com/blog/unesco-publishes-survey-on-ethical-implications-of-emerging-technologies/\n",
      "Neuroscience - Law - The Brain on the Stand - Jeffrey Rosen - New York Times http://www.nytimes.com/2007/03/11/magazine/11Neurolaw.t.html?ei=5090&en=bbdc98dde5800cd7&ex=1331269200&partner=rssuserland&emc=rss&pagewanted=all\n",
      "Digitala spottloskor http://www.dn.se/DNet/jsp/polopoly.jsp?d=577&a=618181\n",
      "Spelkriget som moralbärare - IDG.se http://www.idg.se/2.1085/1.94163\n",
      "Aftonbladet: ”Fuck?” Nej tack! http://www.aftonbladet.se/vss/rss/story/0,2789,986937,00.html\n",
      "Google: Det var vi som länkade sajterna till \"horor\" - Dagens Media http://www.dagensmedia.se/mallar/dagensmedia_mall.asp?version=96306\n",
      "Beta Alfa » Microsoft ville betala bloggare för att redigera artiklar hos Wikipedia http://betaalfa.polymono.net/2007/01/24/microsoft-ville-betala-bloggare-for-att-redigera-artiklar-hos-wikipedia/\n",
      "Bilfeber: Udda statussymbol http://bil.feber.se/feber/art/8496/udda_statussymbol/\n",
      "Dagens Medicin: Ändringar i journaler kan göras utan att de upptäcks http://www.dagensmedicin.se//nyheter/2007/01/16/andringar-i-journaler-kan-/index.xml\n",
      "Boing Boing: Zombie pigs genetically altered to not mind being food http://www.boingboing.net/2007/01/12/zombie_pigs_genetica.html\n",
      "news @ nature.com - Virtual reality shocker - Torturing even a lifeless computer character makes volunteers upset. http://www.nature.com/news/2006/061218/full/061218-17.html\n",
      "mymarkup.net: Hel- och halvhjärtade försök till öppen granskning http://mymarkup.net/blog/archives/010980.html\n",
      "Liberalism and neurology | Free to choose? | Economist.com http://www.economist.com/opinion/displaystory.cfm?story_id=8453850\n",
      "michaelzimmer.org » Archives » Polar Rose: More Amateur Facial Recognition http://michaelzimmer.org/2006/12/23/polar-rose-more-amateur-facial-recognition/\n",
      "Framtidstanken - » Naiv framtidsbild ger robotar rättigheter http://www.softwaresweden.com/framtidstanken/?p=988\n",
      "Robotic pets may be bad medicine for melancholy - MIT News Office http://web.mit.edu/newsoffice/2006/turkle.html\n",
      "Robotic pets may be bad medicine for melancholy http://www.physorg.com/news84121434.html\n",
      "Oscar Swartz :: Texplorer: Oscar Swartz i barnporrskandal (?) http://swartz.typepad.com/texplorer/2006/11/oscar_swartz_i_.html\n",
      "Med eller utan filter - KK-stiftelsen - Beställ/hämta publikationer http://www.kks.se/templates/Publications/PublicationPage.aspx?id=554\n",
      "IT & Etik: Skolungdomar dödförklaras i mobbning på internet - Trakasserier på internet ska in i klassrummen http://etik.blogspot.com/2006/11/skolungdomar-ddfrklaras-i-mobbning-p.html\n",
      "IT & Etik: Småflickor jagar gubbar på nätet http://etik.blogspot.com/2006/11/smflickor-jagar-gubbar-p-ntet.html\n",
      "IT & Etik, Jan Svärdhagen http://etik.blogspot.com/index.html\n",
      "Wired News: Delete Your Bad Web Rep http://www.wired.com/news/technology/0,72063-0.html?tw=rss.index\n",
      "Computer Sweden - Sveriges IT-tidning - dagliga nyheter om it-branschen, telekom mm - Del av IDG.se http://computersweden1.idg.se/2.139/1.77869\n",
      "collision detection: \"On July 28th, 2009 Skynet achieved self-awareness ...\" http://www.collisiondetection.net/mt/archives/2006/09/on_july_28th_20.html\n",
      "ulrika funderar... - mars 2006 http://frugan.webblogg.se/m_032006.html\n",
      "Northwest advised workers to see treasure in trash | Reuters.com http://today.reuters.com/news/articleinvesting.aspx?view=CN&storyID=2006-08-15T201649Z_01_N15420743_RTRIDST_0_AIRLINES-NORTHWEST.XML&rpc=66&type=qcna\n",
      "DN - Ledare - Jakten på hjärnans innersta hemligheter http://www.dn.se/DNet/jsp/polopoly.jsp?d=578&a=348017&previousRenderType=2\n",
      "Smart Mobs: Americans' telephone records http://www.smartmobs.com/archive/2006/06/21/americans_tele.html\n",
      "Framtidstanken - Accelererande förändring i en global ekonomi » Blog Archive » “Please fix Scooby Doo because he saved my life” http://www.softwaresweden.com/framtidstanken/?p=798\n",
      "Boing Boing: Do Not Resuscitate tattoo http://www.boingboing.net/2006/05/17/do_not_resuscitate_t.html\n",
      "Pokerpremiären nära för Svenska Spel - Internetworld - En del av IDG.se http://internetworld.idg.se/ArticlePages/200603/27/20060327160441_IW340/20060327160441_IW340.dbp.asp\n",
      "Techdirt: Mobile Phone Data Used To Place Murder Suspect Near Crime http://techdirt.com/articles/20060327/0127227.shtml\n",
      "Boing Boing: Misbehaving players to be crucified in MMORPG http://www.boingboing.net/2006/03/23/misbehaving_players_.html\n",
      "URBAN, lärarmobbning på nätet http://www.urban.dk/apps/pbcs.dll/article?AID=/20060302/URBAN/103020002/1001/URBAN\n",
      "Ny Teknik - Fingeravtryck ska ge SAS säkrare flyg http://www.nyteknik.se/art/44207\n",
      "Rfid-märkningar stoppar förfalskad Viagra - Computer Sweden - En del av IDG.se http://computersweden.idg.se/ArticlePages/200601/16/20060116100016_CS492/20060116100016_CS492.dbp.asp\n",
      "Face value | St Lawrence of Google | Economist.com http://www.economist.com/business/displaystory.cfm?story_id=5382048\n",
      "EducationGuardian.co.uk | Higher | Richard Dawkins: Beyond belief http://education.guardian.co.uk/higher/profile/story/0,11109,1682655,00.html\n",
      "Boing Boing: Flickr set of people seeing Goatse photo for the first time http://www.boingboing.net/2006/01/10/flickr_set_of_people.html\n",
      "Techdirt:Trolling Is Now Illegal: Two Years In Jail http://techdirt.com/articles/20060109/1012239_F.shtml\n",
      "Personal Appeal - Wikimedia Foundation http://wikimediafoundation.org/wiki/Personal_Appeal\n",
      "Boing Boing: German gov blocks domestic access to body mod websites http://www.boingboing.net/2005/12/19/german_gov_blocks_do.html\n",
      "Boing Boing: Photographer <span style=\"text-decoration: line-through;\">arrested</span> is chided for not warning pothole victim http://www.boingboing.net/2005/12/27/photographer_arreste.html\n",
      "collision detection: Telepresence paintball game lets you shoot chicks in bikinis over the Internet http://www.collisiondetection.net/mt/archives/2005/12/telepresence_pa.html\n",
      "Paintball Live Online in Real Time at Live-Paintball.com ! http://www.live-paintball.com/paintball.cfm\n",
      "The Observer | International | They play games for 10 hours - and earn £2.80 in a 'virtual sweatshop' http://observer.guardian.co.uk/international/story/0,6903,1436411,00.html\n",
      "HubLog: Mechanical Turking http://hublog.hubmed.org/archives/001253.html\n",
      "Guardian Unlimited | Guardian daily comment | Owning ideas http://www.guardian.co.uk/comment/story/0,3604,1646125,00.html\n",
      "Meet the IT Gigolo http://www.syncmag.com/article2/0,1895,1887761,00.asp\n",
      "Edge: TURING'S CATHEDRAL by George Dyson http://www.edge.org/3rd_culture/dyson05/dyson05_index.html\n",
      "DN - Ledare - Fusk på högskolan är ett systemfel http://www.dn.se/DNet/jsp/polopoly.jsp?d=576&a=471571&previousRenderType=2\n"
     ]
    }
   ],
   "source": [
    "for post in all_posts:\n",
    "    print (post.description, post.url)"
   ]
  },
  {
   "cell_type": "code",
   "execution_count": 102,
   "metadata": {},
   "outputs": [
    {
     "data": {
      "text/plain": [
       "True"
      ]
     },
     "execution_count": 102,
     "metadata": {},
     "output_type": "execute_result"
    }
   ],
   "source": [
    "pb.posts.delete(url=\"http://www.etsy.com/view_listing.php?listing_id=42373589\")"
   ]
  },
  {
   "cell_type": "code",
   "execution_count": 19,
   "metadata": {},
   "outputs": [
    {
     "data": {
      "text/plain": [
       "{'result': 'done'}"
      ]
     },
     "execution_count": 19,
     "metadata": {},
     "output_type": "execute_result"
    }
   ],
   "source": [
    "pb.tags.rename(old='grammars', new='grammar')"
   ]
  },
  {
   "cell_type": "code",
   "execution_count": 17,
   "metadata": {},
   "outputs": [
    {
     "data": {
      "text/plain": [
       "{'result': 'done'}"
      ]
     },
     "execution_count": 17,
     "metadata": {},
     "output_type": "execute_result"
    }
   ],
   "source": [
    "pb.tags.delete(tag=\"cognitive\")"
   ]
  },
  {
   "cell_type": "code",
   "execution_count": 177,
   "metadata": {},
   "outputs": [
    {
     "data": {
      "text/plain": [
       "[<Tag name=\"\"relationship\"\" count=15>,\n",
       " <Tag name=\"3d\" count=346>,\n",
       " <Tag name=\"9\" count=14>,\n",
       " <Tag name=\"Trends\" count=1>,\n",
       " <Tag name=\"abduction\" count=1>,\n",
       " <Tag name=\"accessibility\" count=5>,\n",
       " <Tag name=\"accountability\" count=4>,\n",
       " <Tag name=\"activism\" count=134>,\n",
       " <Tag name=\"addiction\" count=85>,\n",
       " <Tag name=\"adversarial\" count=1>,\n",
       " <Tag name=\"advertising\" count=155>,\n",
       " <Tag name=\"affordances\" count=3>,\n",
       " <Tag name=\"agent_target_analysis\" count=3>,\n",
       " <Tag name=\"agents\" count=3>,\n",
       " <Tag name=\"aggression\" count=3>,\n",
       " <Tag name=\"aging\" count=31>,\n",
       " <Tag name=\"algorithmic_bias\" count=3>,\n",
       " <Tag name=\"algorithmic_culture\" count=15>,\n",
       " <Tag name=\"algorithmic_decisionmaking\" count=1>,\n",
       " <Tag name=\"algorithms\" count=19>,\n",
       " <Tag name=\"altered_consciousness\" count=2>,\n",
       " <Tag name=\"alternate_reality_games\" count=3>,\n",
       " <Tag name=\"alternative_societies\" count=10>,\n",
       " <Tag name=\"amplification\" count=1>,\n",
       " <Tag name=\"analysis\" count=1>,\n",
       " <Tag name=\"anonymity\" count=47>,\n",
       " <Tag name=\"anthropomorphism\" count=1>,\n",
       " <Tag name=\"antifragile\" count=4>,\n",
       " <Tag name=\"api\" count=3>,\n",
       " <Tag name=\"architecture\" count=31>,\n",
       " <Tag name=\"argument\" count=3>,\n",
       " <Tag name=\"arms_race\" count=6>,\n",
       " <Tag name=\"art\" count=345>,\n",
       " <Tag name=\"artificial_agents\" count=1>,\n",
       " <Tag name=\"artificial_intelligence\" count=313>,\n",
       " <Tag name=\"artificial_life\" count=7>,\n",
       " <Tag name=\"attention\" count=14>,\n",
       " <Tag name=\"attitude_towards_strangers\" count=4>,\n",
       " <Tag name=\"attribution\" count=1>,\n",
       " <Tag name=\"auctions\" count=1>,\n",
       " <Tag name=\"augmented_reality\" count=130>,\n",
       " <Tag name=\"authenticity\" count=10>,\n",
       " <Tag name=\"autism\" count=1>,\n",
       " <Tag name=\"automation\" count=9>,\n",
       " <Tag name=\"autonomous_corporations\" count=2>,\n",
       " <Tag name=\"balkenius\" count=1>,\n",
       " <Tag name=\"barcodes\" count=13>,\n",
       " <Tag name=\"basic_income\" count=8>,\n",
       " <Tag name=\"behavior\" count=18>,\n",
       " <Tag name=\"beyond_fiction\" count=1>,\n",
       " <Tag name=\"bias\" count=15>,\n",
       " <Tag name=\"big_data\" count=3>,\n",
       " <Tag name=\"biohacking\" count=4>,\n",
       " <Tag name=\"biometrics\" count=119>,\n",
       " <Tag name=\"biotech\" count=5>,\n",
       " <Tag name=\"blockchain\" count=12>,\n",
       " <Tag name=\"blogglördag\" count=8>,\n",
       " <Tag name=\"body\" count=439>,\n",
       " <Tag name=\"books\" count=51>,\n",
       " <Tag name=\"bots\" count=117>,\n",
       " <Tag name=\"brain\" count=4>,\n",
       " <Tag name=\"bret_victor\" count=2>,\n",
       " <Tag name=\"bridle\" count=2>,\n",
       " <Tag name=\"bruce_sterling\" count=1>,\n",
       " <Tag name=\"bureaucracy\" count=10>,\n",
       " <Tag name=\"business\" count=178>,\n",
       " <Tag name=\"business_models\" count=714>,\n",
       " <Tag name=\"cars\" count=221>,\n",
       " <Tag name=\"censorship\" count=144>,\n",
       " <Tag name=\"charity\" count=5>,\n",
       " <Tag name=\"china\" count=8>,\n",
       " <Tag name=\"choice\" count=1>,\n",
       " <Tag name=\"citizen_journalism\" count=31>,\n",
       " <Tag name=\"citizen_science\" count=1>,\n",
       " <Tag name=\"citizenship\" count=115>,\n",
       " <Tag name=\"climate\" count=210>,\n",
       " <Tag name=\"clothes\" count=3>,\n",
       " <Tag name=\"cloud_computing\" count=2>,\n",
       " <Tag name=\"co-production\" count=1>,\n",
       " <Tag name=\"cognition\" count=19>,\n",
       " <Tag name=\"cognitive_surplus\" count=1>,\n",
       " <Tag name=\"collaboration\" count=41>,\n",
       " <Tag name=\"color\" count=3>,\n",
       " <Tag name=\"common_knowledge\" count=2>,\n",
       " <Tag name=\"communication\" count=81>,\n",
       " <Tag name=\"community\" count=4>,\n",
       " <Tag name=\"compensatory_technology\" count=5>,\n",
       " <Tag name=\"competing_technology\" count=14>,\n",
       " <Tag name=\"complexity\" count=31>,\n",
       " <Tag name=\"computational_design\" count=10>,\n",
       " <Tag name=\"computational_thinking\" count=518>,\n",
       " <Tag name=\"computational_x\" count=46>,\n",
       " <Tag name=\"computer_model\" count=10>,\n",
       " <Tag name=\"concepts\" count=2>,\n",
       " <Tag name=\"consciousness\" count=6>,\n",
       " <Tag name=\"consumers\" count=6>,\n",
       " <Tag name=\"context\" count=17>,\n",
       " <Tag name=\"continent\" count=1>,\n",
       " <Tag name=\"control\" count=2>,\n",
       " <Tag name=\"conversation\" count=2>,\n",
       " <Tag name=\"cooperation\" count=5>,\n",
       " <Tag name=\"coordination\" count=1>,\n",
       " <Tag name=\"copyright\" count=308>,\n",
       " <Tag name=\"correspondance\" count=1>,\n",
       " <Tag name=\"could_have_been_killed\" count=1>,\n",
       " <Tag name=\"craft\" count=29>,\n",
       " <Tag name=\"creation\" count=1>,\n",
       " <Tag name=\"creative_commons\" count=35>,\n",
       " <Tag name=\"creativity\" count=74>,\n",
       " <Tag name=\"crime\" count=15>,\n",
       " <Tag name=\"crisis\" count=15>,\n",
       " <Tag name=\"crowdfunding\" count=25>,\n",
       " <Tag name=\"crowdsourcing\" count=114>,\n",
       " <Tag name=\"crypto_currencies\" count=1>,\n",
       " <Tag name=\"crypto_currency\" count=14>,\n",
       " <Tag name=\"cryptography\" count=2>,\n",
       " <Tag name=\"csr\" count=1>,\n",
       " <Tag name=\"cultural_sustainability\" count=13>,\n",
       " <Tag name=\"culture\" count=1247>,\n",
       " <Tag name=\"culture_preservation\" count=28>,\n",
       " <Tag name=\"curiosity\" count=1>,\n",
       " <Tag name=\"cyber_law\" count=4>,\n",
       " <Tag name=\"cyberlawyer\" count=2>,\n",
       " <Tag name=\"cyborgs\" count=18>,\n",
       " <Tag name=\"data\" count=1>,\n",
       " <Tag name=\"data_deluge\" count=50>,\n",
       " <Tag name=\"data_journalism\" count=38>,\n",
       " <Tag name=\"data_mining\" count=11>,\n",
       " <Tag name=\"data_science\" count=3>,\n",
       " <Tag name=\"dead_link\" count=1>,\n",
       " <Tag name=\"death\" count=142>,\n",
       " <Tag name=\"deliberation\" count=1>,\n",
       " <Tag name=\"democracy\" count=65>,\n",
       " <Tag name=\"depth\" count=1>,\n",
       " <Tag name=\"design\" count=487>,\n",
       " <Tag name=\"desires\" count=15>,\n",
       " <Tag name=\"destroy_win\" count=1>,\n",
       " <Tag name=\"determinism\" count=1>,\n",
       " <Tag name=\"developers\" count=2>,\n",
       " <Tag name=\"developing_countries\" count=13>,\n",
       " <Tag name=\"digital_borders\" count=3>,\n",
       " <Tag name=\"digital_currency\" count=43>,\n",
       " <Tag name=\"digital_divide\" count=1>,\n",
       " <Tag name=\"digital_infrastructure\" count=610>,\n",
       " <Tag name=\"digital_jurisdiction\" count=410>,\n",
       " <Tag name=\"digital_person\" count=111>,\n",
       " <Tag name=\"dignity\" count=1>,\n",
       " <Tag name=\"discretionary_effort\" count=5>,\n",
       " <Tag name=\"discrimination\" count=18>,\n",
       " <Tag name=\"disruptive_technology\" count=1>,\n",
       " <Tag name=\"distance_action\" count=23>,\n",
       " <Tag name=\"distinction\" count=1>,\n",
       " <Tag name=\"diversity\" count=1>,\n",
       " <Tag name=\"diy\" count=380>,\n",
       " <Tag name=\"drm\" count=2>,\n",
       " <Tag name=\"drugs\" count=18>,\n",
       " <Tag name=\"dyi\" count=25>,\n",
       " <Tag name=\"dystopia\" count=298>,\n",
       " <Tag name=\"ecologism\" count=1>,\n",
       " <Tag name=\"education\" count=1218>,\n",
       " <Tag name=\"emergence\" count=1>,\n",
       " <Tag name=\"emergencies\" count=4>,\n",
       " <Tag name=\"emotions\" count=93>,\n",
       " <Tag name=\"empathizing\" count=2>,\n",
       " <Tag name=\"encryption\" count=1>,\n",
       " <Tag name=\"energy\" count=63>,\n",
       " <Tag name=\"entrepreneurship\" count=13>,\n",
       " <Tag name=\"environment\" count=8>,\n",
       " <Tag name=\"erosion_of_precaution\" count=2>,\n",
       " <Tag name=\"erroneous_belief\" count=5>,\n",
       " <Tag name=\"escher\" count=1>,\n",
       " <Tag name=\"ethics\" count=522>,\n",
       " <Tag name=\"etiquette\" count=1>,\n",
       " <Tag name=\"eula\" count=34>,\n",
       " <Tag name=\"evolution\" count=118>,\n",
       " <Tag name=\"expectations\" count=23>,\n",
       " <Tag name=\"experts\" count=3>,\n",
       " <Tag name=\"explanations\" count=5>,\n",
       " <Tag name=\"explorable_explanations\" count=1>,\n",
       " <Tag name=\"extension_of_self\" count=1>,\n",
       " <Tag name=\"face_recognition\" count=37>,\n",
       " <Tag name=\"faith_in_technology\" count=1>,\n",
       " <Tag name=\"fake_facts\" count=624>,\n",
       " <Tag name=\"feature_creep\" count=1>,\n",
       " <Tag name=\"filter_bubble\" count=8>,\n",
       " <Tag name=\"fire\" count=1>,\n",
       " <Tag name=\"fitness\" count=17>,\n",
       " <Tag name=\"flow\" count=4>,\n",
       " <Tag name=\"focal_points\" count=5>,\n",
       " <Tag name=\"food\" count=417>,\n",
       " <Tag name=\"for_the_lulz\" count=1>,\n",
       " <Tag name=\"forecasts\" count=7>,\n",
       " <Tag name=\"fourier\" count=10>,\n",
       " <Tag name=\"fractals\" count=1>,\n",
       " <Tag name=\"frame_of_reference\" count=2>,\n",
       " <Tag name=\"freedom\" count=10>,\n",
       " <Tag name=\"friction\" count=1>,\n",
       " <Tag name=\"fun\" count=132>,\n",
       " <Tag name=\"fungi\" count=1>,\n",
       " <Tag name=\"future\" count=344>,\n",
       " <Tag name=\"future_history\" count=8>,\n",
       " <Tag name=\"gait_recognition\" count=1>,\n",
       " <Tag name=\"games\" count=370>,\n",
       " <Tag name=\"gardening\" count=108>,\n",
       " <Tag name=\"gatherings\" count=2>,\n",
       " <Tag name=\"geeks\" count=1>,\n",
       " <Tag name=\"gender\" count=177>,\n",
       " <Tag name=\"generations\" count=2>,\n",
       " <Tag name=\"generative_design\" count=5>,\n",
       " <Tag name=\"generatives\" count=3>,\n",
       " <Tag name=\"genetic_algorithms\" count=4>,\n",
       " <Tag name=\"genetics\" count=73>,\n",
       " <Tag name=\"gesture_interface\" count=4>,\n",
       " <Tag name=\"gglass\" count=40>,\n",
       " <Tag name=\"gift_economy\" count=1>,\n",
       " <Tag name=\"globalization\" count=208>,\n",
       " <Tag name=\"gnothi_seauton\" count=1>,\n",
       " <Tag name=\"good_bad\" count=3>,\n",
       " <Tag name=\"goodiepal\" count=2>,\n",
       " <Tag name=\"google\" count=2>,\n",
       " <Tag name=\"grammar\" count=4>,\n",
       " <Tag name=\"gratis\" count=6>,\n",
       " <Tag name=\"hackers\" count=100>,\n",
       " <Tag name=\"happiness\" count=2>,\n",
       " <Tag name=\"harari\" count=20>,\n",
       " <Tag name=\"health_care\" count=483>,\n",
       " <Tag name=\"history\" count=370>,\n",
       " <Tag name=\"homophily\" count=19>,\n",
       " <Tag name=\"how_stuff_works\" count=1>,\n",
       " <Tag name=\"human\" count=14>,\n",
       " <Tag name=\"human_computing\" count=1>,\n",
       " <Tag name=\"human_condition\" count=6>,\n",
       " <Tag name=\"human_factor\" count=12>,\n",
       " <Tag name=\"human_judgment\" count=5>,\n",
       " <Tag name=\"human_value\" count=2>,\n",
       " <Tag name=\"humanism\" count=17>,\n",
       " <Tag name=\"humans_in_loop\" count=2>,\n",
       " <Tag name=\"ideals\" count=1>,\n",
       " <Tag name=\"identification\" count=4>,\n",
       " <Tag name=\"identity\" count=25>,\n",
       " <Tag name=\"identity_theft\" count=23>,\n",
       " <Tag name=\"illness\" count=2>,\n",
       " <Tag name=\"illusions\" count=9>,\n",
       " <Tag name=\"image_recognition\" count=13>,\n",
       " <Tag name=\"imagination\" count=11>,\n",
       " <Tag name=\"individualism\" count=12>,\n",
       " <Tag name=\"inefficiency\" count=1>,\n",
       " <Tag name=\"inequality\" count=3>,\n",
       " <Tag name=\"influence\" count=2>,\n",
       " <Tag name=\"infontology\" count=311>,\n",
       " <Tag name=\"information\" count=22>,\n",
       " <Tag name=\"information_dissemination\" count=1>,\n",
       " <Tag name=\"infrastructure\" count=100>,\n",
       " <Tag name=\"innovation\" count=230>,\n",
       " <Tag name=\"insurance\" count=38>,\n",
       " <Tag name=\"intelligence\" count=15>,\n",
       " <Tag name=\"intelligence_transfer\" count=2>,\n",
       " <Tag name=\"intelligent_design\" count=3>,\n",
       " <Tag name=\"interaction_design\" count=313>,\n",
       " <Tag name=\"interactive_micro_tv\" count=22>,\n",
       " <Tag name=\"intuition\" count=1>,\n",
       " <Tag name=\"irony\" count=2>,\n",
       " <Tag name=\"japan\" count=30>,\n",
       " <Tag name=\"jobs\" count=208>,\n",
       " <Tag name=\"jordan_peterson\" count=10>,\n",
       " <Tag name=\"kevin_kelly\" count=1>,\n",
       " <Tag name=\"kim\" count=21>,\n",
       " <Tag name=\"knowledge\" count=9>,\n",
       " <Tag name=\"langreal\" count=32>,\n",
       " <Tag name=\"language\" count=485>,\n",
       " <Tag name=\"legislation\" count=1>,\n",
       " <Tag name=\"libraries\" count=23>,\n",
       " <Tag name=\"life\" count=7>,\n",
       " <Tag name=\"lifelogging\" count=7>,\n",
       " <Tag name=\"literacy\" count=11>,\n",
       " <Tag name=\"litigation\" count=13>,\n",
       " <Tag name=\"local\" count=47>,\n",
       " <Tag name=\"local_transit\" count=2>,\n",
       " <Tag name=\"location_based_services\" count=386>,\n",
       " <Tag name=\"low_high_tech\" count=87>,\n",
       " <Tag name=\"luddism\" count=7>,\n",
       " <Tag name=\"machine_learning\" count=151>,\n",
       " <Tag name=\"machinima\" count=1>,\n",
       " <Tag name=\"magic\" count=10>,\n",
       " <Tag name=\"manifest\" count=1>,\n",
       " <Tag name=\"market\" count=20>,\n",
       " <Tag name=\"markets\" count=49>,\n",
       " <Tag name=\"mass_customization\" count=2>,\n",
       " <Tag name=\"mathematics\" count=76>,\n",
       " <Tag name=\"mcgilchrist\" count=1>,\n",
       " <Tag name=\"meaning\" count=7>,\n",
       " <Tag name=\"measurement\" count=1>,\n",
       " <Tag name=\"measurements\" count=3>,\n",
       " <Tag name=\"media_war\" count=281>,\n",
       " <Tag name=\"memetics\" count=2>,\n",
       " <Tag name=\"memory\" count=38>,\n",
       " <Tag name=\"mental_models\" count=630>,\n",
       " <Tag name=\"metabolic_rift\" count=1>,\n",
       " <Tag name=\"metadata\" count=70>,\n",
       " <Tag name=\"metadesign\" count=1>,\n",
       " <Tag name=\"methods\" count=1>,\n",
       " <Tag name=\"micro_offence\" count=27>,\n",
       " <Tag name=\"microbiome\" count=78>,\n",
       " <Tag name=\"micropublishing\" count=1>,\n",
       " <Tag name=\"migragion\" count=1>,\n",
       " <Tag name=\"migration\" count=288>,\n",
       " <Tag name=\"mobbing\" count=27>,\n",
       " <Tag name=\"mobile\" count=29>,\n",
       " <Tag name=\"mobile_phones\" count=309>,\n",
       " <Tag name=\"mobile_servers\" count=4>,\n",
       " <Tag name=\"models\" count=73>,\n",
       " <Tag name=\"modernism\" count=1>,\n",
       " <Tag name=\"money\" count=5>,\n",
       " <Tag name=\"mooc\" count=19>,\n",
       " <Tag name=\"moralism\" count=2>,\n",
       " <Tag name=\"morozov\" count=6>,\n",
       " <Tag name=\"motivation\" count=10>,\n",
       " <Tag name=\"multimedia\" count=2>,\n",
       " <Tag name=\"multitasking\" count=1>,\n",
       " <Tag name=\"museums\" count=18>,\n",
       " <Tag name=\"music\" count=432>,\n",
       " <Tag name=\"mythology\" count=4>,\n",
       " <Tag name=\"natural_language_processing\" count=2>,\n",
       " <Tag name=\"nature\" count=11>,\n",
       " <Tag name=\"negotiation\" count=1>,\n",
       " <Tag name=\"neighbors\" count=2>,\n",
       " <Tag name=\"neo-feudalism\" count=1>,\n",
       " <Tag name=\"nerds\" count=2>,\n",
       " <Tag name=\"neuro\" count=8>,\n",
       " <Tag name=\"neurotheology\" count=1>,\n",
       " <Tag name=\"new_aesthetic\" count=59>,\n",
       " <Tag name=\"norm_systems\" count=2>,\n",
       " <Tag name=\"oblivion\" count=9>,\n",
       " <Tag name=\"obscenity\" count=1>,\n",
       " <Tag name=\"obvious\" count=2>,\n",
       " <Tag name=\"old_news\" count=3>,\n",
       " <Tag name=\"omnipotence\" count=1>,\n",
       " <Tag name=\"ontology\" count=8>,\n",
       " <Tag name=\"open_computation\" count=221>,\n",
       " <Tag name=\"organized_crime\" count=66>,\n",
       " <Tag name=\"ornaments\" count=2>,\n",
       " <Tag name=\"outsourcing\" count=1>,\n",
       " <Tag name=\"own_data\" count=1>,\n",
       " <Tag name=\"ownership\" count=2>,\n",
       " <Tag name=\"parametric_design\" count=2>,\n",
       " <Tag name=\"participation\" count=8>,\n",
       " <Tag name=\"past_future\" count=33>,\n",
       " <Tag name=\"patent\" count=58>,\n",
       " <Tag name=\"patents\" count=11>,\n",
       " <Tag name=\"pattern_recognition\" count=8>,\n",
       " <Tag name=\"persistence\" count=1>,\n",
       " <Tag name=\"personal_myth\" count=6>,\n",
       " <Tag name=\"personalization\" count=2>,\n",
       " <Tag name=\"perspective\" count=9>,\n",
       " <Tag name=\"persuasive_technology\" count=12>,\n",
       " <Tag name=\"pets\" count=2>,\n",
       " <Tag name=\"photography\" count=2>,\n",
       " <Tag name=\"phrenology\" count=1>,\n",
       " <Tag name=\"physical_computing\" count=4>,\n",
       " <Tag name=\"physical_distance\" count=2>,\n",
       " <Tag name=\"physical_education\" count=7>,\n",
       " <Tag name=\"physics\" count=199>,\n",
       " <Tag name=\"piggybacking\" count=1>,\n",
       " <Tag name=\"plagiarism\" count=14>,\n",
       " <Tag name=\"play\" count=32>,\n",
       " <Tag name=\"political_correctness\" count=39>,\n",
       " <Tag name=\"politics\" count=759>,\n",
       " <Tag name=\"population\" count=5>,\n",
       " <Tag name=\"post_digital\" count=2>,\n",
       " <Tag name=\"post_factum\" count=1>,\n",
       " <Tag name=\"posthumanism\" count=3>,\n",
       " <Tag name=\"predictions\" count=82>,\n",
       " <Tag name=\"prejudice\" count=47>,\n",
       " <Tag name=\"presence\" count=2>,\n",
       " <Tag name=\"price_discrimination\" count=1>,\n",
       " <Tag name=\"privacy\" count=609>,\n",
       " <Tag name=\"pro_am\" count=11>,\n",
       " <Tag name=\"probability\" count=2>,\n",
       " <Tag name=\"processes\" count=1>,\n",
       " <Tag name=\"processing\" count=3>,\n",
       " <Tag name=\"prosocial\" count=1>,\n",
       " <Tag name=\"public\" count=102>,\n",
       " <Tag name=\"public_alert\" count=1>,\n",
       " <Tag name=\"purpose\" count=12>,\n",
       " <Tag name=\"purpose_creep\" count=38>,\n",
       " <Tag name=\"python\" count=9>,\n",
       " <Tag name=\"quantitative_regimes\" count=1>,\n",
       " <Tag name=\"radio\" count=22>,\n",
       " <Tag name=\"randomness\" count=2>,\n",
       " <Tag name=\"ransomware\" count=1>,\n",
       " <Tag name=\"rasmus_fleischer\" count=1>,\n",
       " <Tag name=\"ratings\" count=1>,\n",
       " <Tag name=\"rationalism\" count=17>,\n",
       " <Tag name=\"real_virtual\" count=495>,\n",
       " <Tag name=\"reality\" count=35>,\n",
       " <Tag name=\"realtime\" count=4>,\n",
       " <Tag name=\"recommendations\" count=4>,\n",
       " <Tag name=\"reenchantment\" count=1>,\n",
       " <Tag name=\"references\" count=1>,\n",
       " <Tag name=\"relationship\" count=60>,\n",
       " <Tag name=\"religion\" count=276>,\n",
       " <Tag name=\"remix\" count=1>,\n",
       " <Tag name=\"reputation\" count=16>,\n",
       " <Tag name=\"research\" count=679>,\n",
       " <Tag name=\"resilience\" count=5>,\n",
       " <Tag name=\"resources\" count=3>,\n",
       " <Tag name=\"responsibility\" count=13>,\n",
       " <Tag name=\"retail\" count=1>,\n",
       " <Tag name=\"rfid\" count=22>,\n",
       " <Tag name=\"risk\" count=29>,\n",
       " <Tag name=\"robolawyer\" count=2>,\n",
       " <Tag name=\"robot\" count=2>,\n",
       " <Tag name=\"robots\" count=300>,\n",
       " <Tag name=\"rules\" count=26>,\n",
       " <Tag name=\"rushkoff\" count=9>,\n",
       " <Tag name=\"scenarios\" count=6>,\n",
       " <Tag name=\"schelling\" count=1>,\n",
       " <Tag name=\"scientism\" count=2>,\n",
       " <Tag name=\"sdr\" count=2>,\n",
       " <Tag name=\"secret\" count=2>,\n",
       " <Tag name=\"security\" count=466>,\n",
       " <Tag name=\"segregation\" count=2>,\n",
       " <Tag name=\"self-fulfilling_prophecies\" count=6>,\n",
       " <Tag name=\"semantics\" count=39>,\n",
       " <Tag name=\"sensors\" count=147>,\n",
       " <Tag name=\"sensory_experience\" count=55>,\n",
       " <Tag name=\"sex\" count=318>,\n",
       " <Tag name=\"sharing_economy\" count=8>,\n",
       " <Tag name=\"shortsightedness\" count=18>,\n",
       " <Tag name=\"simulation\" count=51>,\n",
       " <Tag name=\"singularity\" count=27>,\n",
       " <Tag name=\"sitting\" count=1>,\n",
       " <Tag name=\"situated_cognition\" count=1>,\n",
       " <Tag name=\"skepticism\" count=1>,\n",
       " <Tag name=\"slaves_to_virtual_systems\" count=16>,\n",
       " <Tag name=\"sleep\" count=3>,\n",
       " <Tag name=\"smwt\" count=13>,\n",
       " <Tag name=\"social\" count=3>,\n",
       " <Tag name=\"social_dilemma\" count=6>,\n",
       " <Tag name=\"social_engineering\" count=20>,\n",
       " <Tag name=\"social_entrepreneurship\" count=2>,\n",
       " <Tag name=\"social_marketing\" count=15>,\n",
       " <Tag name=\"social_networks\" count=660>,\n",
       " <Tag name=\"social_objects\" count=3>,\n",
       " <Tag name=\"socio_technical_systems\" count=1>,\n",
       " <Tag name=\"software_rage\" count=2>,\n",
       " <Tag name=\"software_studies\" count=3>,\n",
       " <Tag name=\"soul\" count=1>,\n",
       " <Tag name=\"spam\" count=11>,\n",
       " <Tag name=\"speech_recognition\" count=3>,\n",
       " <Tag name=\"spime\" count=5>,\n",
       " <Tag name=\"språk\" count=1>,\n",
       " <Tag name=\"standardization\" count=1>,\n",
       " <Tag name=\"storytelling\" count=19>,\n",
       " <Tag name=\"substitution_of_humans\" count=885>,\n",
       " <Tag name=\"superstition\" count=1>,\n",
       " <Tag name=\"sustainability\" count=4>,\n",
       " <Tag name=\"symmetry\" count=13>,\n",
       " <Tag name=\"synthetic_biology\" count=1>,\n",
       " <Tag name=\"systems\" count=1>,\n",
       " <Tag name=\"tablet\" count=17>,\n",
       " <Tag name=\"tablets\" count=16>,\n",
       " <Tag name=\"tactile_feedback\" count=2>,\n",
       " <Tag name=\"technium\" count=20>,\n",
       " <Tag name=\"technology\" count=844>,\n",
       " <Tag name=\"teledildonics\" count=2>,\n",
       " <Tag name=\"telepresence\" count=3>,\n",
       " <Tag name=\"television\" count=4>,\n",
       " <Tag name=\"test\" count=1>,\n",
       " <Tag name=\"the_continent\" count=3>,\n",
       " <Tag name=\"the_machine_sees\" count=9>,\n",
       " <Tag name=\"theconf\" count=3>,\n",
       " <Tag name=\"theories\" count=1>,\n",
       " <Tag name=\"threats\" count=2>,\n",
       " <Tag name=\"time\" count=70>,\n",
       " <Tag name=\"tools\" count=833>,\n",
       " <Tag name=\"toys\" count=3>,\n",
       " <Tag name=\"tracking\" count=366>,\n",
       " <Tag name=\"traffic\" count=81>,\n",
       " <Tag name=\"training_data\" count=1>,\n",
       " <Tag name=\"transcendence\" count=6>,\n",
       " <Tag name=\"transhumanism\" count=120>,\n",
       " <Tag name=\"translation\" count=2>,\n",
       " <Tag name=\"transparency\" count=18>,\n",
       " <Tag name=\"travel\" count=78>,\n",
       " <Tag name=\"trust\" count=54>,\n",
       " <Tag name=\"truth\" count=6>,\n",
       " <Tag name=\"turing_test\" count=1>,\n",
       " <Tag name=\"turkle\" count=1>,\n",
       " <Tag name=\"typography\" count=3>,\n",
       " <Tag name=\"uav\" count=100>,\n",
       " <Tag name=\"ubiquitous_computing\" count=198>,\n",
       " <Tag name=\"umwelt\" count=4>,\n",
       " <Tag name=\"uncanny_valley\" count=1>,\n",
       " <Tag name=\"unevenly_distributed_future\" count=1>,\n",
       " <Tag name=\"unintended_consequences\" count=247>,\n",
       " <Tag name=\"unplugging\" count=1>,\n",
       " <Tag name=\"unproductive_computer_systems\" count=176>,\n",
       " <Tag name=\"unrequested_information\" count=1>,\n",
       " <Tag name=\"urbanism\" count=162>,\n",
       " <Tag name=\"usability\" count=37>,\n",
       " <Tag name=\"usage_data\" count=2>,\n",
       " <Tag name=\"user_experience\" count=73>,\n",
       " <Tag name=\"valued_objects\" count=295>,\n",
       " <Tag name=\"values\" count=39>,\n",
       " <Tag name=\"video\" count=49>,\n",
       " <Tag name=\"violence\" count=1>,\n",
       " <Tag name=\"vision\" count=4>,\n",
       " <Tag name=\"visualization\" count=1049>,\n",
       " <Tag name=\"warfare\" count=589>,\n",
       " <Tag name=\"weather\" count=20>,\n",
       " <Tag name=\"websmurf\" count=11>,\n",
       " <Tag name=\"what_becomes_information\" count=5>,\n",
       " <Tag name=\"women\" count=1>,\n",
       " <Tag name=\"workarounds\" count=38>,\n",
       " <Tag name=\"workflow\" count=1>,\n",
       " <Tag name=\"world\" count=278>,\n",
       " <Tag name=\"writing\" count=2>,\n",
       " <Tag name=\"wylie\" count=1>,\n",
       " <Tag name=\"youth\" count=310>]"
      ]
     },
     "execution_count": 177,
     "metadata": {},
     "output_type": "execute_result"
    }
   ],
   "source": [
    "response = pb.tags.get()\n",
    "response"
   ]
  },
  {
   "cell_type": "code",
   "execution_count": 43,
   "metadata": {},
   "outputs": [
    {
     "data": {
      "text/plain": [
       "<Tag name=\"\"relationship\"\" count=15>"
      ]
     },
     "execution_count": 43,
     "metadata": {},
     "output_type": "execute_result"
    }
   ],
   "source": [
    "response[0]"
   ]
  },
  {
   "cell_type": "code",
   "execution_count": 215,
   "metadata": {},
   "outputs": [],
   "source": [
    "dates = pb.posts.dates(tag=[\"ethics\"])"
   ]
  },
  {
   "cell_type": "code",
   "execution_count": 216,
   "metadata": {},
   "outputs": [],
   "source": [
    "d = list(dates['dates'].items())"
   ]
  },
  {
   "cell_type": "code",
   "execution_count": 217,
   "metadata": {},
   "outputs": [],
   "source": [
    "year_counts = [[date[0].year, date[1]] for date in d]"
   ]
  },
  {
   "cell_type": "code",
   "execution_count": 218,
   "metadata": {},
   "outputs": [
    {
     "data": {
      "text/plain": [
       "[[2019, 1], [2019, 3], [2019, 1], [2019, 1], [2019, 1]]"
      ]
     },
     "execution_count": 218,
     "metadata": {},
     "output_type": "execute_result"
    }
   ],
   "source": [
    "year_counts[:5]"
   ]
  },
  {
   "cell_type": "code",
   "execution_count": 219,
   "metadata": {},
   "outputs": [],
   "source": [
    "set_of_years=set([year[0] for year in year_counts])"
   ]
  },
  {
   "cell_type": "code",
   "execution_count": 220,
   "metadata": {},
   "outputs": [
    {
     "data": {
      "text/plain": [
       "{2005,\n",
       " 2006,\n",
       " 2007,\n",
       " 2008,\n",
       " 2009,\n",
       " 2010,\n",
       " 2011,\n",
       " 2012,\n",
       " 2013,\n",
       " 2014,\n",
       " 2015,\n",
       " 2016,\n",
       " 2017,\n",
       " 2018,\n",
       " 2019}"
      ]
     },
     "execution_count": 220,
     "metadata": {},
     "output_type": "execute_result"
    }
   ],
   "source": [
    "set_of_years"
   ]
  },
  {
   "cell_type": "code",
   "execution_count": 206,
   "metadata": {},
   "outputs": [],
   "source": [
    "# Skapa en tom. Behövs denna?\n",
    "per_year = {year:0 for year in set_of_years}"
   ]
  },
  {
   "cell_type": "code",
   "execution_count": 207,
   "metadata": {},
   "outputs": [
    {
     "data": {
      "text/plain": [
       "{2016: 36,\n",
       " 2017: 24,\n",
       " 2018: 20,\n",
       " 2019: 7,\n",
       " 2007: 4,\n",
       " 2008: 5,\n",
       " 2009: 5,\n",
       " 2010: 13,\n",
       " 2011: 11,\n",
       " 2012: 7,\n",
       " 2013: 17,\n",
       " 2014: 29,\n",
       " 2015: 43}"
      ]
     },
     "execution_count": 207,
     "metadata": {},
     "output_type": "execute_result"
    }
   ],
   "source": [
    "for year in set_of_years:\n",
    "    for item in year_counts:\n",
    "        if item[0]==year:\n",
    "            per_year[year]+=item[1]\n",
    "            \n",
    "per_year"
   ]
  },
  {
   "cell_type": "code",
   "execution_count": 223,
   "metadata": {},
   "outputs": [],
   "source": [
    "def get_tag_distribution(tag):\n",
    "    dates = pb.posts.dates(tag=[tag])\n",
    "    d = list(dates['dates'].items())\n",
    "    year_counts = [[date[0].year, date[1]] for date in d]\n",
    "    set_of_years=set([year[0] for year in year_counts])\n",
    "    per_year = {year:0 for year in set_of_years}\n",
    "    for year in set_of_years:\n",
    "        for item in year_counts:\n",
    "            if item[0]==year:\n",
    "                per_year[year]+=item[1]\n",
    "    return per_year"
   ]
  },
  {
   "cell_type": "code",
   "execution_count": 226,
   "metadata": {},
   "outputs": [
    {
     "data": {
      "text/plain": [
       "{2016: 2, 2017: 4, 2018: 2, 2015: 12}"
      ]
     },
     "execution_count": 226,
     "metadata": {},
     "output_type": "execute_result"
    }
   ],
   "source": [
    "dist = get_tag_distribution('harari')\n",
    "dist"
   ]
  },
  {
   "cell_type": "code",
   "execution_count": null,
   "metadata": {},
   "outputs": [],
   "source": []
  },
  {
   "cell_type": "code",
   "execution_count": 124,
   "metadata": {},
   "outputs": [
    {
     "data": {
      "text/plain": [
       "124"
      ]
     },
     "execution_count": 124,
     "metadata": {},
     "output_type": "execute_result"
    }
   ],
   "source": [
    "len(ensam[0])"
   ]
  },
  {
   "cell_type": "code",
   "execution_count": 28,
   "metadata": {},
   "outputs": [
    {
     "data": {
      "text/plain": [
       "[{'popular': ['cars', 'ethics', 'substitution_of_humans']},\n",
       " {'recommended': ['cars',\n",
       "   'ethics',\n",
       "   'germany',\n",
       "   'self-driving',\n",
       "   'substitution_of_humans']}]"
      ]
     },
     "execution_count": 28,
     "metadata": {},
     "output_type": "execute_result"
    }
   ],
   "source": [
    "pb.posts.suggest(url=\"https://www.bmvi.de/SharedDocs/EN/Documents/G/ethic-commission-report.pdf?__blob=publicationFile\")"
   ]
  },
  {
   "cell_type": "code",
   "execution_count": 37,
   "metadata": {
    "collapsed": true
   },
   "outputs": [],
   "source": [
    "bookmark = pb.posts.get(url='https://copenhagenletter.org/')"
   ]
  },
  {
   "cell_type": "code",
   "execution_count": 55,
   "metadata": {},
   "outputs": [
    {
     "data": {
      "text/plain": [
       "<bound method Bookmark.save of <Bookmark description=\"b'The Copenhagen Letter, 2017'\" url=\"copenhagenletter.org\">>"
      ]
     },
     "execution_count": 55,
     "metadata": {},
     "output_type": "execute_result"
    }
   ],
   "source": [
    "bookmark['posts'][0].save"
   ]
  },
  {
   "cell_type": "code",
   "execution_count": 12,
   "metadata": {},
   "outputs": [
    {
     "data": {
      "text/plain": [
       "array([['Glass', '1'],\n",
       "       ['Trends', '1'],\n",
       "       ['adversarial', '1'],\n",
       "       ['algorithmic_bias', '1'],\n",
       "       ['amplification', '1'],\n",
       "       ['analysis', '1'],\n",
       "       ['anthropomorphism', '1'],\n",
       "       ['artificial_agents', '1'],\n",
       "       ['attribution', '1'],\n",
       "       ['auctions', '1'],\n",
       "       ['autism', '1'],\n",
       "       ['balkenius', '1'],\n",
       "       ['beyond_fiction', '1'],\n",
       "       ['bruce_sterling', '1'],\n",
       "       ['choice', '1'],\n",
       "       ['citizen_science', '1'],\n",
       "       ['co-production', '1'],\n",
       "       ['cognitive', '1'],\n",
       "       ['cognitive_surplus', '1'],\n",
       "       ['continent', '1'],\n",
       "       ['coordination', '1'],\n",
       "       ['correspondance', '1'],\n",
       "       ['could_have_been_killed', '1'],\n",
       "       ['creation', '1'],\n",
       "       ['crypto_currencies', '1'],\n",
       "       ['csr', '1'],\n",
       "       ['data', '1'],\n",
       "       ['data_science', '1'],\n",
       "       ['dead_link', '1'],\n",
       "       ['deliberation', '1'],\n",
       "       ['depth', '1'],\n",
       "       ['destroy_win', '1'],\n",
       "       ['determinism', '1'],\n",
       "       ['digital_divide', '1'],\n",
       "       ['dignity', '1'],\n",
       "       ['disruptive_technology', '1'],\n",
       "       ['distinction', '1'],\n",
       "       ['diversity', '1'],\n",
       "       ['ecologism', '1'],\n",
       "       ['emergence', '1'],\n",
       "       ['empathizing', '1'],\n",
       "       ['encryption', '1'],\n",
       "       ['etiquette', '1'],\n",
       "       ['experts', '1'],\n",
       "       ['explorable_explanations', '1'],\n",
       "       ['extension_of_self', '1'],\n",
       "       ['faith_in_technology', '1'],\n",
       "       ['feature_creep', '1'],\n",
       "       ['fire', '1'],\n",
       "       ['for_the_lulz', '1'],\n",
       "       ['fourier', '1'],\n",
       "       ['fractals', '1'],\n",
       "       ['frame_of_reference', '1'],\n",
       "       ['friction', '1'],\n",
       "       ['fungi', '1'],\n",
       "       ['gait_recognition', '1'],\n",
       "       ['geeks', '1'],\n",
       "       ['gift_economy', '1'],\n",
       "       ['gnothi_seauton', '1'],\n",
       "       ['grammars', '1'],\n",
       "       ['how_stuff_works', '1'],\n",
       "       ['human_computing', '1'],\n",
       "       ['ideals', '1'],\n",
       "       ['inefficiency', '1'],\n",
       "       ['information_dissemination', '1'],\n",
       "       ['kevin_kelly', '1'],\n",
       "       ['legislation', '1'],\n",
       "       ['machinima', '1'],\n",
       "       ['manifest', '1'],\n",
       "       ['measurement', '1'],\n",
       "       ['metabolic_rift', '1'],\n",
       "       ['metadesign', '1'],\n",
       "       ['methods', '1'],\n",
       "       ['micropublishing', '1'],\n",
       "       ['migragion', '1'],\n",
       "       ['modernism', '1'],\n",
       "       ['multitasking', '1'],\n",
       "       ['negotiation', '1'],\n",
       "       ['neurotheology', '1'],\n",
       "       ['obscenity', '1'],\n",
       "       ['omnipotence', '1'],\n",
       "       ['outsourcing', '1'],\n",
       "       ['own_data', '1'],\n",
       "       ['ownership', '1'],\n",
       "       ['persistence', '1'],\n",
       "       ['piggybacking', '1'],\n",
       "       ['post_factum', '1'],\n",
       "       ['price_discrimination', '1'],\n",
       "       ['processes', '1'],\n",
       "       ['prosocial', '1'],\n",
       "       ['public_alert', '1'],\n",
       "       ['quantitative_regimes', '1'],\n",
       "       ['ransomware', '1'],\n",
       "       ['rasmus_fleischer', '1'],\n",
       "       ['ratings', '1'],\n",
       "       ['references', '1'],\n",
       "       ['remix', '1'],\n",
       "       ['retail', '1'],\n",
       "       ['schelling', '1'],\n",
       "       ['sitting', '1'],\n",
       "       ['situated_cognition', '1'],\n",
       "       ['skepticism', '1'],\n",
       "       ['socio_technical_systems', '1'],\n",
       "       ['soul', '1'],\n",
       "       ['standardization', '1'],\n",
       "       ['superstition', '1'],\n",
       "       ['synthetic_biology', '1'],\n",
       "       ['systems', '1'],\n",
       "       ['test', '1'],\n",
       "       ['theory', '1'],\n",
       "       ['training_data', '1'],\n",
       "       ['turing_test', '1'],\n",
       "       ['turkle', '1'],\n",
       "       ['uncanny_valley', '1'],\n",
       "       ['unevenly_distributed_future', '1'],\n",
       "       ['unplugging', '1'],\n",
       "       ['unrequested_information', '1'],\n",
       "       ['violence', '1'],\n",
       "       ['women', '1'],\n",
       "       ['workflow', '1']],\n",
       "      dtype='<U32')"
      ]
     },
     "execution_count": 12,
     "metadata": {},
     "output_type": "execute_result"
    }
   ],
   "source": [
    "taggarna[ensam[0]]"
   ]
  },
  {
   "cell_type": "code",
   "execution_count": 15,
   "metadata": {},
   "outputs": [
    {
     "data": {
      "text/plain": [
       "array(['analysis', '1'],\n",
       "      dtype='<U32')"
      ]
     },
     "execution_count": 15,
     "metadata": {},
     "output_type": "execute_result"
    }
   ],
   "source": [
    "taggarna[ensam[0][5]]"
   ]
  },
  {
   "cell_type": "code",
   "execution_count": 63,
   "metadata": {},
   "outputs": [
    {
     "name": "stdout",
     "output_type": "stream",
     "text": [
      "http://bits.blogs.nytimes.com/2012/08/07/one-on-one-steve-mann-wearable-computing-pioneer/ One on One: Steve Mann, Wearable Computing Pioneer - NYTimes.com ['Glass' '1'] \n",
      " ['cyborgs', 'Glass', 'future'] ['Bits', 'interview', 'NYT']\n",
      "http://mashable.com/2010/08/20/social-media-monitoring-tools-smarter/ Why Social Media Monitoring Tools Are About to Get Smarter ['analysis' '1'] \n",
      " ['analysis'] ['socialmedia', 'analytics', 'monitoring', 'semantic', 'social', 'measurement', 'metrics', 'tools', 'tracking']\n",
      "http://boingboing.net/2017/03/18/ive-seen-the-future-baby-it-is.html Bruce Sterling's SXSW 2017 keynote: what should humans do? / Boing Boing ['bruce_sterling' '1'] \n",
      " ['bruce_sterling'] ['IFTTT', '#_listen', 'book4', 'Feedly', 'interesting', 'miniflux', 'Pocket', 'Unread']\n",
      "http://www.experientia.com/blog/people-powered-health-co-production-catalogue/ Putting people first » People-powered health co-production catalogue ['co-production' '1'] \n",
      " ['health_care', 'co-production'] ['co-creation', 'gigaom_book', 'health', 'nesta']\n",
      "http://www.gartner.com/newsroom/id/2621915 Gartner Says by 2017 Your Smartphone Will Be Smarter Than You ['cognitive' '1'] \n",
      " ['cognitive', 'artificial_intelligence', 'singularity'] ['Samsung', 'Work']\n",
      "http://www.thelemapedia.org/index.php/Magick Thelemapedia: The Encyclopedia of Thelema & Magick | Magick ['correspondance' '1'] \n",
      " ['correspondance', 'language'] ['Magick']\n",
      "http://www.sfgate.com/business/article/Controversial-DNA-startup-wants-to-let-customers-5992426.php#photo-7342818 Controversial DNA startup wants to let customers create creatures - SFGate ['creation' '1'] \n",
      " ['creation', 'artificial_life', 'innovation'] ['Backdrop', 'Biohack', 'Biotech', 'Bookmarks_bar', 'diy', 'genetics', 'Innoseq_Clinical_Research_01']\n",
      "http://www.wired.com/opinion/2014/03/decentralized-applications-built-bitcoin-great-except-whos-responsible-outcomes/ Tomorrow's Apps Will Come From Brilliant (And Risky) Bitcoin Code | Wired Opinion | Wired.com ['crypto_currencies' '1'] \n",
      " ['crypto_currencies', 'digital_currency'] ['bitcoin', 'apps', 'a', 'Archive', 'building', 'Business', 'ethereum', 'favorite']\n",
      "http://www.nytimes.com/2012/05/30/us/new-digital-divide-seen-in-wasting-time-online.html?_r=1 New ‘Digital Divide’ Seen in Wasting Time Online - NYTimes.com ['digital_divide' '1'] \n",
      " ['addiction', 'culture', 'digital_divide'] ['digital', 'education', 'society', 'time', 'children', 'discipline', 'disparity']\n",
      "http://www.nytimes.com/2010/02/27/business/27shop.html?emc=eta1&utm_source=feedburner&utm_medium=feed&utm_campaign=Feed%3A+unclecjplus+(Uncle+CJs+plus+feed)&utm_content=Twitter Cellphone Applications Let Shoppers Point, Click and Buy - NYTimes.com ['disruptive_technology' '1'] \n",
      " ['barcodes', 'mobile_phones', 'disruptive_technology'] ['ifttt', 'twitter', 'facebook', 'WSH', 'objective-c', 'twitterlink', '1960s', '@codepo8', 'Aiviq', 'art']\n",
      "http://www.kk.org/thetechnium/archives/2009/05/increasing_dive.php The Technium: Increasing Diversity ['diversity' '1'] \n",
      " ['diversity', 'evolution'] ['kevinkelly', 'toread', 'complexity', 'context', 'essay', 'future', 'impulse_services', 'science']\n",
      "http://www.treehugger.com/natural-sciences/indias-bans-exploitation-dolphins-says-they-should-be-seen-non-human-persons.html India bans captive dolphin shows, says dolphins should be seen as ‘non-human persons’ : TreeHugger ['ecologism' '1'] \n",
      " ['posthumanism', 'ecologism', 'human_condition', 'human'] ['dolphin', 'ethics', 'from', 'india', 'twitter']\n",
      "http://redcrosschat.org/2011/02/16/twitter-faux-pas/ » Twitter Faux Pas ['etiquette' '1'] \n",
      " ['social_networks', 'etiquette'] ['twitter', 'socialmedia', 'redcross', 'pr', 'casestudy', 'bestpractices', 'nonprofit', 'via:packrati.us', 'crisis', 'mistakes']\n",
      "http://teropa.info/loop/#/title How Generative Music Works ['explorable_explanations' '1'] \n",
      " ['music', 'computational_thinking', 'explorable_explanations'] ['Art', 'presentation', 'Generative', 'programming', '!music', 'AI', 'brian-eno', 'electronic-music']\n",
      "http://www.micropersuasion.com/2007/07/undocumented-ha.html Micro Persuasion: Turn Your iPhone into a Mobile Nerve Center ['extension_of_self' '1'] \n",
      " ['extension_of_self'] ['googlereader', 'iphone', 'productivity', 'tips', 'twitter']\n",
      "http://babieswithlasereyes.com/ Babies with Laser Eyes! ['for_the_lulz' '1'] \n",
      " ['for_the_lulz', 'art'] ['babies', 'laser', 'baby', 'blog', 'humor', 'lasers', 'blogs', 'funny', 'humour', 'images']\n",
      "http://www.falstad.com/fourier/ Fourier Series Applet ['fourier' '1'] \n",
      " ['fourier', 'visualization'] ['audio', 'math', 'applet', 'java', 'Lesezeichenleiste', 'signals', 'application', 'Aus_Firefox_importiert']\n",
      "http://dood.al/ Doodal ['fractals' '1'] \n",
      " ['mathematics', 'visualization', 'tools', 'world', 'fractals'] ['art', 'fractal', 'cool', 'draw', 'flash', 'drawing', 'interactive', 'painter', 'design']\n",
      "http://www.ecrans.fr/Google-vous-connait-mieux-que-vous,8527.html « Google vous connaît mieux que vous-même »- Ecrans ['gnothi_seauton' '1'] \n",
      " ['gnothi_seauton'] ['google', 'mémoire']\n",
      "http://www.boingboing.net/2010/12/17/story-of-evolution-o.html Story of evolution of life on earth, as told through fingers - Boing Boing ['how_stuff_works' '1'] \n",
      " ['evolution', 'how_stuff_works', 'visualization'] ['animation', 'video', 'cool', 'cyriak', 'Entertainment', 'fingers', 'hands', 'Science']\n",
      "http://www.technologyreview.com/Infotech/18962/ Technology Review: Human-Aided Computing ['human_computing' '1'] \n",
      " ['substitution_of_humans', 'human_computing'] ['brain', 'computing', '2007', 'Microsoft', 'technology']\n",
      "http://www.telegraph.co.uk/news/worldnews/europe/eu/11061538/EU-to-ban-high-energy-hair-dryers-smartphones-and-kettles.html EU to ban high-energy hair dryers, smartphones and kettles - Telegraph ['legislation' '1'] \n",
      " ['energy', 'legislation'] ['Other_bookmarks']\n",
      "http://www.vimeo.com/609147 The Dumb Man on Vimeo ['machinima' '1'] \n",
      " ['machinima'] ['animation', 'art', 'fiction', 'inf385r', 'movie', 'multimedia', 'secondlife', 'top', 'vids']\n",
      "http://www.ethanzuckerman.com/blog/2011/05/29/kevin-kelly-on-context-for-the-quantified-self/ …My heart’s in Accra » Kevin Kelly on context for the quantified self ['measurement' '1'] \n",
      " ['measurement', 'digital_person'] ['Kevin_Kelly', 'data', 'Marshall_McLuhan', 'personal_informatics', 'via:preoccupations', '2011', 'Ethan_Zuckerman', 'Google', 'history_of_science', 'information']\n",
      "http://www.edge.org/conversation/whats-the-question-about-your-field-that-you-dread-being-asked WHAT'S THE QUESTION ABOUT YOUR FIELD THAT YOU DREAD BEING ASKED? | Edge.org ['methods' '1'] \n",
      " ['methods', 'research'] ['academia', 'astro', 'econbasics', 'economics', 'edge', 'physics', 'toread', 'wcatw']\n",
      "http://www.janchipchase.com/blog/archives/2009/02/stickier-uncomplicated-relatio.html Stickier, Less Complicated Relationships - Jan Chipchase - Future Perfect ['micropublishing' '1'] \n",
      " ['social_networks', 'micropublishing'] ['twitter', '2.0', 'a:Jan-Chipchase★★', 'advertising', 'business', 'good', 'idea', 'janchipchase', 'little', 'marketing']\n",
      "http://microaggressions.tumblr.com/ power, privilege, and everyday life. ['migragion' '1'] \n",
      " ['micro_offence', 'gender', 'migragion'] ['culture', 'blog', 'activism', 'feminism', 'race', 'politics', 'Privilege', 'racism', 'microagressions']\n",
      "http://blogs.hbr.org/bregman/2010/05/how-and-why-to-stop-multitaski.html How (and Why) to Stop Multitasking - Peter Bregman - Harvard Business Review ['multitasking' '1'] \n",
      " ['multitasking'] ['Productivity', 'management', 'work', 'brain', 'gtd', 'multitask', 'time_management', 'time', 'article']\n",
      "http://www.cs.utexas.edu/~aim/ AIM: Autonomous Intersection Management - Project Home Page ['negotiation' '1'] \n",
      " ['substitution_of_humans', 'cars', 'models', 'negotiation'] ['autonomous', 'AutonomousVehicle', 'driving', 'intersection', 'transit']\n",
      "http://www.telegraph.co.uk/culture/books/10914137/What-God-does-to-your-brain.html What God does to your brain - Telegraph ['neurotheology' '1'] \n",
      " ['religion', 'neurotheology'] ['brain', 'Pocket', 'Atheism', 'god', 'IFTTT', 'psychology', 'articles', 'christianity', 'GodIs']\n",
      "http://thenextweb.com/shareables/2013/01/16/verizon-finds-developer-outsourced-his-work-to-china-so-he-could-surf-reddit-and-watch-cat-videos/ Verizon finds US developer outsourced his job to China so he could surf Reddit and watch cat videos - The Next Web ['outsourcing' '1'] \n",
      " ['outsourcing', 'jobs'] ['humor', 'news', 'Web', '2013', 'Asia', 'awesome', '»', 'fb', 'funny']\n"
     ]
    },
    {
     "name": "stdout",
     "output_type": "stream",
     "text": [
      "http://boingboing.net/2012/09/28/why-cant-pacemaker-users-rea.html Why can't pacemaker users read their own medical data? - Boing Boing ['own_data' '1'] \n",
      " ['health_care', 'own_data', 'digital_person'] ['googlereader', 'health', 'ifttt', 'Boing', 'civil_war_over_general_purpose_computers', 'data', 'Gadgets']\n"
     ]
    },
    {
     "ename": "KeyboardInterrupt",
     "evalue": "",
     "output_type": "error",
     "traceback": [
      "\u001b[0;31m---------------------------------------------------------------------------\u001b[0m",
      "\u001b[0;31mKeyboardInterrupt\u001b[0m                         Traceback (most recent call last)",
      "\u001b[0;32m<ipython-input-63-e61ff205cc39>\u001b[0m in \u001b[0;36m<module>\u001b[0;34m()\u001b[0m\n\u001b[1;32m      1\u001b[0m \u001b[0;32mfor\u001b[0m \u001b[0mtag\u001b[0m \u001b[0;32min\u001b[0m \u001b[0mtaggarna\u001b[0m\u001b[0;34m[\u001b[0m\u001b[0mensam\u001b[0m\u001b[0;34m[\u001b[0m\u001b[0;36m0\u001b[0m\u001b[0;34m]\u001b[0m\u001b[0;34m]\u001b[0m\u001b[0;34m:\u001b[0m\u001b[0;34m\u001b[0m\u001b[0m\n\u001b[1;32m      2\u001b[0m     \u001b[0mpost\u001b[0m \u001b[0;34m=\u001b[0m \u001b[0mpb\u001b[0m\u001b[0;34m.\u001b[0m\u001b[0mposts\u001b[0m\u001b[0;34m.\u001b[0m\u001b[0mall\u001b[0m\u001b[0;34m(\u001b[0m\u001b[0mtag\u001b[0m\u001b[0;34m=\u001b[0m\u001b[0mtag\u001b[0m\u001b[0;34m[\u001b[0m\u001b[0;36m0\u001b[0m\u001b[0;34m]\u001b[0m\u001b[0;34m)\u001b[0m\u001b[0;34m\u001b[0m\u001b[0m\n\u001b[0;32m----> 3\u001b[0;31m     \u001b[0msuggestions\u001b[0m \u001b[0;34m=\u001b[0m \u001b[0mpb\u001b[0m\u001b[0;34m.\u001b[0m\u001b[0mposts\u001b[0m\u001b[0;34m.\u001b[0m\u001b[0msuggest\u001b[0m\u001b[0;34m(\u001b[0m\u001b[0murl\u001b[0m\u001b[0;34m=\u001b[0m\u001b[0mpost\u001b[0m\u001b[0;34m[\u001b[0m\u001b[0;36m0\u001b[0m\u001b[0;34m]\u001b[0m\u001b[0;34m.\u001b[0m\u001b[0murl\u001b[0m\u001b[0;34m)\u001b[0m\u001b[0;34m\u001b[0m\u001b[0m\n\u001b[0m\u001b[1;32m      4\u001b[0m     \u001b[0mrecommended\u001b[0m \u001b[0;34m=\u001b[0m \u001b[0msuggestions\u001b[0m\u001b[0;34m[\u001b[0m\u001b[0;36m1\u001b[0m\u001b[0;34m]\u001b[0m\u001b[0;34m[\u001b[0m\u001b[0;34m'recommended'\u001b[0m\u001b[0;34m]\u001b[0m\u001b[0;34m\u001b[0m\u001b[0m\n\u001b[1;32m      5\u001b[0m     \u001b[0mpopular\u001b[0m \u001b[0;34m=\u001b[0m \u001b[0msuggestions\u001b[0m\u001b[0;34m[\u001b[0m\u001b[0;36m0\u001b[0m\u001b[0;34m]\u001b[0m\u001b[0;34m[\u001b[0m\u001b[0;34m'popular'\u001b[0m\u001b[0;34m]\u001b[0m\u001b[0;34m\u001b[0m\u001b[0m\n",
      "\u001b[0;32m~/anaconda/lib/python3.6/site-packages/pinboard/pinboard.py\u001b[0m in \u001b[0;36m__call__\u001b[0;34m(self, *args, **kwargs)\u001b[0m\n\u001b[1;32m    181\u001b[0m             \u001b[0mrequest\u001b[0m \u001b[0;34m=\u001b[0m \u001b[0murllib\u001b[0m\u001b[0;34m.\u001b[0m\u001b[0mrequest\u001b[0m\u001b[0;34m.\u001b[0m\u001b[0mRequest\u001b[0m\u001b[0;34m(\u001b[0m\u001b[0mfinal_url\u001b[0m\u001b[0;34m)\u001b[0m\u001b[0;34m\u001b[0m\u001b[0m\n\u001b[1;32m    182\u001b[0m             \u001b[0mopener\u001b[0m \u001b[0;34m=\u001b[0m \u001b[0murllib\u001b[0m\u001b[0;34m.\u001b[0m\u001b[0mrequest\u001b[0m\u001b[0;34m.\u001b[0m\u001b[0mbuild_opener\u001b[0m\u001b[0;34m(\u001b[0m\u001b[0murllib\u001b[0m\u001b[0;34m.\u001b[0m\u001b[0mrequest\u001b[0m\u001b[0;34m.\u001b[0m\u001b[0mHTTPSHandler\u001b[0m\u001b[0;34m)\u001b[0m\u001b[0;34m\u001b[0m\u001b[0m\n\u001b[0;32m--> 183\u001b[0;31m             \u001b[0mresponse\u001b[0m \u001b[0;34m=\u001b[0m \u001b[0mopener\u001b[0m\u001b[0;34m.\u001b[0m\u001b[0mopen\u001b[0m\u001b[0;34m(\u001b[0m\u001b[0mrequest\u001b[0m\u001b[0;34m)\u001b[0m\u001b[0;34m\u001b[0m\u001b[0m\n\u001b[0m\u001b[1;32m    184\u001b[0m         \u001b[0;32mexcept\u001b[0m \u001b[0murllib\u001b[0m\u001b[0;34m.\u001b[0m\u001b[0merror\u001b[0m\u001b[0;34m.\u001b[0m\u001b[0mHTTPError\u001b[0m \u001b[0;32mas\u001b[0m \u001b[0me\u001b[0m\u001b[0;34m:\u001b[0m\u001b[0;34m\u001b[0m\u001b[0m\n\u001b[1;32m    185\u001b[0m             error_mappings = {\n",
      "\u001b[0;32m~/anaconda/lib/python3.6/urllib/request.py\u001b[0m in \u001b[0;36mopen\u001b[0;34m(self, fullurl, data, timeout)\u001b[0m\n\u001b[1;32m    524\u001b[0m             \u001b[0mreq\u001b[0m \u001b[0;34m=\u001b[0m \u001b[0mmeth\u001b[0m\u001b[0;34m(\u001b[0m\u001b[0mreq\u001b[0m\u001b[0;34m)\u001b[0m\u001b[0;34m\u001b[0m\u001b[0m\n\u001b[1;32m    525\u001b[0m \u001b[0;34m\u001b[0m\u001b[0m\n\u001b[0;32m--> 526\u001b[0;31m         \u001b[0mresponse\u001b[0m \u001b[0;34m=\u001b[0m \u001b[0mself\u001b[0m\u001b[0;34m.\u001b[0m\u001b[0m_open\u001b[0m\u001b[0;34m(\u001b[0m\u001b[0mreq\u001b[0m\u001b[0;34m,\u001b[0m \u001b[0mdata\u001b[0m\u001b[0;34m)\u001b[0m\u001b[0;34m\u001b[0m\u001b[0m\n\u001b[0m\u001b[1;32m    527\u001b[0m \u001b[0;34m\u001b[0m\u001b[0m\n\u001b[1;32m    528\u001b[0m         \u001b[0;31m# post-process response\u001b[0m\u001b[0;34m\u001b[0m\u001b[0;34m\u001b[0m\u001b[0m\n",
      "\u001b[0;32m~/anaconda/lib/python3.6/urllib/request.py\u001b[0m in \u001b[0;36m_open\u001b[0;34m(self, req, data)\u001b[0m\n\u001b[1;32m    542\u001b[0m         \u001b[0mprotocol\u001b[0m \u001b[0;34m=\u001b[0m \u001b[0mreq\u001b[0m\u001b[0;34m.\u001b[0m\u001b[0mtype\u001b[0m\u001b[0;34m\u001b[0m\u001b[0m\n\u001b[1;32m    543\u001b[0m         result = self._call_chain(self.handle_open, protocol, protocol +\n\u001b[0;32m--> 544\u001b[0;31m                                   '_open', req)\n\u001b[0m\u001b[1;32m    545\u001b[0m         \u001b[0;32mif\u001b[0m \u001b[0mresult\u001b[0m\u001b[0;34m:\u001b[0m\u001b[0;34m\u001b[0m\u001b[0m\n\u001b[1;32m    546\u001b[0m             \u001b[0;32mreturn\u001b[0m \u001b[0mresult\u001b[0m\u001b[0;34m\u001b[0m\u001b[0m\n",
      "\u001b[0;32m~/anaconda/lib/python3.6/urllib/request.py\u001b[0m in \u001b[0;36m_call_chain\u001b[0;34m(self, chain, kind, meth_name, *args)\u001b[0m\n\u001b[1;32m    502\u001b[0m         \u001b[0;32mfor\u001b[0m \u001b[0mhandler\u001b[0m \u001b[0;32min\u001b[0m \u001b[0mhandlers\u001b[0m\u001b[0;34m:\u001b[0m\u001b[0;34m\u001b[0m\u001b[0m\n\u001b[1;32m    503\u001b[0m             \u001b[0mfunc\u001b[0m \u001b[0;34m=\u001b[0m \u001b[0mgetattr\u001b[0m\u001b[0;34m(\u001b[0m\u001b[0mhandler\u001b[0m\u001b[0;34m,\u001b[0m \u001b[0mmeth_name\u001b[0m\u001b[0;34m)\u001b[0m\u001b[0;34m\u001b[0m\u001b[0m\n\u001b[0;32m--> 504\u001b[0;31m             \u001b[0mresult\u001b[0m \u001b[0;34m=\u001b[0m \u001b[0mfunc\u001b[0m\u001b[0;34m(\u001b[0m\u001b[0;34m*\u001b[0m\u001b[0margs\u001b[0m\u001b[0;34m)\u001b[0m\u001b[0;34m\u001b[0m\u001b[0m\n\u001b[0m\u001b[1;32m    505\u001b[0m             \u001b[0;32mif\u001b[0m \u001b[0mresult\u001b[0m \u001b[0;32mis\u001b[0m \u001b[0;32mnot\u001b[0m \u001b[0;32mNone\u001b[0m\u001b[0;34m:\u001b[0m\u001b[0;34m\u001b[0m\u001b[0m\n\u001b[1;32m    506\u001b[0m                 \u001b[0;32mreturn\u001b[0m \u001b[0mresult\u001b[0m\u001b[0;34m\u001b[0m\u001b[0m\n",
      "\u001b[0;32m~/anaconda/lib/python3.6/urllib/request.py\u001b[0m in \u001b[0;36mhttps_open\u001b[0;34m(self, req)\u001b[0m\n\u001b[1;32m   1359\u001b[0m         \u001b[0;32mdef\u001b[0m \u001b[0mhttps_open\u001b[0m\u001b[0;34m(\u001b[0m\u001b[0mself\u001b[0m\u001b[0;34m,\u001b[0m \u001b[0mreq\u001b[0m\u001b[0;34m)\u001b[0m\u001b[0;34m:\u001b[0m\u001b[0;34m\u001b[0m\u001b[0m\n\u001b[1;32m   1360\u001b[0m             return self.do_open(http.client.HTTPSConnection, req,\n\u001b[0;32m-> 1361\u001b[0;31m                 context=self._context, check_hostname=self._check_hostname)\n\u001b[0m\u001b[1;32m   1362\u001b[0m \u001b[0;34m\u001b[0m\u001b[0m\n\u001b[1;32m   1363\u001b[0m         \u001b[0mhttps_request\u001b[0m \u001b[0;34m=\u001b[0m \u001b[0mAbstractHTTPHandler\u001b[0m\u001b[0;34m.\u001b[0m\u001b[0mdo_request_\u001b[0m\u001b[0;34m\u001b[0m\u001b[0m\n",
      "\u001b[0;32m~/anaconda/lib/python3.6/urllib/request.py\u001b[0m in \u001b[0;36mdo_open\u001b[0;34m(self, http_class, req, **http_conn_args)\u001b[0m\n\u001b[1;32m   1316\u001b[0m             \u001b[0;32mtry\u001b[0m\u001b[0;34m:\u001b[0m\u001b[0;34m\u001b[0m\u001b[0m\n\u001b[1;32m   1317\u001b[0m                 h.request(req.get_method(), req.selector, req.data, headers,\n\u001b[0;32m-> 1318\u001b[0;31m                           encode_chunked=req.has_header('Transfer-encoding'))\n\u001b[0m\u001b[1;32m   1319\u001b[0m             \u001b[0;32mexcept\u001b[0m \u001b[0mOSError\u001b[0m \u001b[0;32mas\u001b[0m \u001b[0merr\u001b[0m\u001b[0;34m:\u001b[0m \u001b[0;31m# timeout error\u001b[0m\u001b[0;34m\u001b[0m\u001b[0m\n\u001b[1;32m   1320\u001b[0m                 \u001b[0;32mraise\u001b[0m \u001b[0mURLError\u001b[0m\u001b[0;34m(\u001b[0m\u001b[0merr\u001b[0m\u001b[0;34m)\u001b[0m\u001b[0;34m\u001b[0m\u001b[0m\n",
      "\u001b[0;32m~/anaconda/lib/python3.6/http/client.py\u001b[0m in \u001b[0;36mrequest\u001b[0;34m(self, method, url, body, headers, encode_chunked)\u001b[0m\n\u001b[1;32m   1237\u001b[0m                 encode_chunked=False):\n\u001b[1;32m   1238\u001b[0m         \u001b[0;34m\"\"\"Send a complete request to the server.\"\"\"\u001b[0m\u001b[0;34m\u001b[0m\u001b[0m\n\u001b[0;32m-> 1239\u001b[0;31m         \u001b[0mself\u001b[0m\u001b[0;34m.\u001b[0m\u001b[0m_send_request\u001b[0m\u001b[0;34m(\u001b[0m\u001b[0mmethod\u001b[0m\u001b[0;34m,\u001b[0m \u001b[0murl\u001b[0m\u001b[0;34m,\u001b[0m \u001b[0mbody\u001b[0m\u001b[0;34m,\u001b[0m \u001b[0mheaders\u001b[0m\u001b[0;34m,\u001b[0m \u001b[0mencode_chunked\u001b[0m\u001b[0;34m)\u001b[0m\u001b[0;34m\u001b[0m\u001b[0m\n\u001b[0m\u001b[1;32m   1240\u001b[0m \u001b[0;34m\u001b[0m\u001b[0m\n\u001b[1;32m   1241\u001b[0m     \u001b[0;32mdef\u001b[0m \u001b[0m_send_request\u001b[0m\u001b[0;34m(\u001b[0m\u001b[0mself\u001b[0m\u001b[0;34m,\u001b[0m \u001b[0mmethod\u001b[0m\u001b[0;34m,\u001b[0m \u001b[0murl\u001b[0m\u001b[0;34m,\u001b[0m \u001b[0mbody\u001b[0m\u001b[0;34m,\u001b[0m \u001b[0mheaders\u001b[0m\u001b[0;34m,\u001b[0m \u001b[0mencode_chunked\u001b[0m\u001b[0;34m)\u001b[0m\u001b[0;34m:\u001b[0m\u001b[0;34m\u001b[0m\u001b[0m\n",
      "\u001b[0;32m~/anaconda/lib/python3.6/http/client.py\u001b[0m in \u001b[0;36m_send_request\u001b[0;34m(self, method, url, body, headers, encode_chunked)\u001b[0m\n\u001b[1;32m   1283\u001b[0m             \u001b[0;31m# default charset of iso-8859-1.\u001b[0m\u001b[0;34m\u001b[0m\u001b[0;34m\u001b[0m\u001b[0m\n\u001b[1;32m   1284\u001b[0m             \u001b[0mbody\u001b[0m \u001b[0;34m=\u001b[0m \u001b[0m_encode\u001b[0m\u001b[0;34m(\u001b[0m\u001b[0mbody\u001b[0m\u001b[0;34m,\u001b[0m \u001b[0;34m'body'\u001b[0m\u001b[0;34m)\u001b[0m\u001b[0;34m\u001b[0m\u001b[0m\n\u001b[0;32m-> 1285\u001b[0;31m         \u001b[0mself\u001b[0m\u001b[0;34m.\u001b[0m\u001b[0mendheaders\u001b[0m\u001b[0;34m(\u001b[0m\u001b[0mbody\u001b[0m\u001b[0;34m,\u001b[0m \u001b[0mencode_chunked\u001b[0m\u001b[0;34m=\u001b[0m\u001b[0mencode_chunked\u001b[0m\u001b[0;34m)\u001b[0m\u001b[0;34m\u001b[0m\u001b[0m\n\u001b[0m\u001b[1;32m   1286\u001b[0m \u001b[0;34m\u001b[0m\u001b[0m\n\u001b[1;32m   1287\u001b[0m     \u001b[0;32mdef\u001b[0m \u001b[0mgetresponse\u001b[0m\u001b[0;34m(\u001b[0m\u001b[0mself\u001b[0m\u001b[0;34m)\u001b[0m\u001b[0;34m:\u001b[0m\u001b[0;34m\u001b[0m\u001b[0m\n",
      "\u001b[0;32m~/anaconda/lib/python3.6/http/client.py\u001b[0m in \u001b[0;36mendheaders\u001b[0;34m(self, message_body, encode_chunked)\u001b[0m\n\u001b[1;32m   1232\u001b[0m         \u001b[0;32melse\u001b[0m\u001b[0;34m:\u001b[0m\u001b[0;34m\u001b[0m\u001b[0m\n\u001b[1;32m   1233\u001b[0m             \u001b[0;32mraise\u001b[0m \u001b[0mCannotSendHeader\u001b[0m\u001b[0;34m(\u001b[0m\u001b[0;34m)\u001b[0m\u001b[0;34m\u001b[0m\u001b[0m\n\u001b[0;32m-> 1234\u001b[0;31m         \u001b[0mself\u001b[0m\u001b[0;34m.\u001b[0m\u001b[0m_send_output\u001b[0m\u001b[0;34m(\u001b[0m\u001b[0mmessage_body\u001b[0m\u001b[0;34m,\u001b[0m \u001b[0mencode_chunked\u001b[0m\u001b[0;34m=\u001b[0m\u001b[0mencode_chunked\u001b[0m\u001b[0;34m)\u001b[0m\u001b[0;34m\u001b[0m\u001b[0m\n\u001b[0m\u001b[1;32m   1235\u001b[0m \u001b[0;34m\u001b[0m\u001b[0m\n\u001b[1;32m   1236\u001b[0m     def request(self, method, url, body=None, headers={}, *,\n",
      "\u001b[0;32m~/anaconda/lib/python3.6/http/client.py\u001b[0m in \u001b[0;36m_send_output\u001b[0;34m(self, message_body, encode_chunked)\u001b[0m\n\u001b[1;32m   1024\u001b[0m         \u001b[0mmsg\u001b[0m \u001b[0;34m=\u001b[0m \u001b[0;34mb\"\\r\\n\"\u001b[0m\u001b[0;34m.\u001b[0m\u001b[0mjoin\u001b[0m\u001b[0;34m(\u001b[0m\u001b[0mself\u001b[0m\u001b[0;34m.\u001b[0m\u001b[0m_buffer\u001b[0m\u001b[0;34m)\u001b[0m\u001b[0;34m\u001b[0m\u001b[0m\n\u001b[1;32m   1025\u001b[0m         \u001b[0;32mdel\u001b[0m \u001b[0mself\u001b[0m\u001b[0;34m.\u001b[0m\u001b[0m_buffer\u001b[0m\u001b[0;34m[\u001b[0m\u001b[0;34m:\u001b[0m\u001b[0;34m]\u001b[0m\u001b[0;34m\u001b[0m\u001b[0m\n\u001b[0;32m-> 1026\u001b[0;31m         \u001b[0mself\u001b[0m\u001b[0;34m.\u001b[0m\u001b[0msend\u001b[0m\u001b[0;34m(\u001b[0m\u001b[0mmsg\u001b[0m\u001b[0;34m)\u001b[0m\u001b[0;34m\u001b[0m\u001b[0m\n\u001b[0m\u001b[1;32m   1027\u001b[0m \u001b[0;34m\u001b[0m\u001b[0m\n\u001b[1;32m   1028\u001b[0m         \u001b[0;32mif\u001b[0m \u001b[0mmessage_body\u001b[0m \u001b[0;32mis\u001b[0m \u001b[0;32mnot\u001b[0m \u001b[0;32mNone\u001b[0m\u001b[0;34m:\u001b[0m\u001b[0;34m\u001b[0m\u001b[0m\n",
      "\u001b[0;32m~/anaconda/lib/python3.6/http/client.py\u001b[0m in \u001b[0;36msend\u001b[0;34m(self, data)\u001b[0m\n\u001b[1;32m    962\u001b[0m         \u001b[0;32mif\u001b[0m \u001b[0mself\u001b[0m\u001b[0;34m.\u001b[0m\u001b[0msock\u001b[0m \u001b[0;32mis\u001b[0m \u001b[0;32mNone\u001b[0m\u001b[0;34m:\u001b[0m\u001b[0;34m\u001b[0m\u001b[0m\n\u001b[1;32m    963\u001b[0m             \u001b[0;32mif\u001b[0m \u001b[0mself\u001b[0m\u001b[0;34m.\u001b[0m\u001b[0mauto_open\u001b[0m\u001b[0;34m:\u001b[0m\u001b[0;34m\u001b[0m\u001b[0m\n\u001b[0;32m--> 964\u001b[0;31m                 \u001b[0mself\u001b[0m\u001b[0;34m.\u001b[0m\u001b[0mconnect\u001b[0m\u001b[0;34m(\u001b[0m\u001b[0;34m)\u001b[0m\u001b[0;34m\u001b[0m\u001b[0m\n\u001b[0m\u001b[1;32m    965\u001b[0m             \u001b[0;32melse\u001b[0m\u001b[0;34m:\u001b[0m\u001b[0;34m\u001b[0m\u001b[0m\n\u001b[1;32m    966\u001b[0m                 \u001b[0;32mraise\u001b[0m \u001b[0mNotConnected\u001b[0m\u001b[0;34m(\u001b[0m\u001b[0;34m)\u001b[0m\u001b[0;34m\u001b[0m\u001b[0m\n",
      "\u001b[0;32m~/anaconda/lib/python3.6/http/client.py\u001b[0m in \u001b[0;36mconnect\u001b[0;34m(self)\u001b[0m\n\u001b[1;32m   1398\u001b[0m \u001b[0;34m\u001b[0m\u001b[0m\n\u001b[1;32m   1399\u001b[0m             self.sock = self._context.wrap_socket(self.sock,\n\u001b[0;32m-> 1400\u001b[0;31m                                                   server_hostname=server_hostname)\n\u001b[0m\u001b[1;32m   1401\u001b[0m             \u001b[0;32mif\u001b[0m \u001b[0;32mnot\u001b[0m \u001b[0mself\u001b[0m\u001b[0;34m.\u001b[0m\u001b[0m_context\u001b[0m\u001b[0;34m.\u001b[0m\u001b[0mcheck_hostname\u001b[0m \u001b[0;32mand\u001b[0m \u001b[0mself\u001b[0m\u001b[0;34m.\u001b[0m\u001b[0m_check_hostname\u001b[0m\u001b[0;34m:\u001b[0m\u001b[0;34m\u001b[0m\u001b[0m\n\u001b[1;32m   1402\u001b[0m                 \u001b[0;32mtry\u001b[0m\u001b[0;34m:\u001b[0m\u001b[0;34m\u001b[0m\u001b[0m\n",
      "\u001b[0;32m~/anaconda/lib/python3.6/ssl.py\u001b[0m in \u001b[0;36mwrap_socket\u001b[0;34m(self, sock, server_side, do_handshake_on_connect, suppress_ragged_eofs, server_hostname, session)\u001b[0m\n\u001b[1;32m    399\u001b[0m                          \u001b[0msuppress_ragged_eofs\u001b[0m\u001b[0;34m=\u001b[0m\u001b[0msuppress_ragged_eofs\u001b[0m\u001b[0;34m,\u001b[0m\u001b[0;34m\u001b[0m\u001b[0m\n\u001b[1;32m    400\u001b[0m                          \u001b[0mserver_hostname\u001b[0m\u001b[0;34m=\u001b[0m\u001b[0mserver_hostname\u001b[0m\u001b[0;34m,\u001b[0m\u001b[0;34m\u001b[0m\u001b[0m\n\u001b[0;32m--> 401\u001b[0;31m                          _context=self, _session=session)\n\u001b[0m\u001b[1;32m    402\u001b[0m \u001b[0;34m\u001b[0m\u001b[0m\n\u001b[1;32m    403\u001b[0m     def wrap_bio(self, incoming, outgoing, server_side=False,\n",
      "\u001b[0;32m~/anaconda/lib/python3.6/ssl.py\u001b[0m in \u001b[0;36m__init__\u001b[0;34m(self, sock, keyfile, certfile, server_side, cert_reqs, ssl_version, ca_certs, do_handshake_on_connect, family, type, proto, fileno, suppress_ragged_eofs, npn_protocols, ciphers, server_hostname, _context, _session)\u001b[0m\n\u001b[1;32m    806\u001b[0m                         \u001b[0;31m# non-blocking\u001b[0m\u001b[0;34m\u001b[0m\u001b[0;34m\u001b[0m\u001b[0m\n\u001b[1;32m    807\u001b[0m                         \u001b[0;32mraise\u001b[0m \u001b[0mValueError\u001b[0m\u001b[0;34m(\u001b[0m\u001b[0;34m\"do_handshake_on_connect should not be specified for non-blocking sockets\"\u001b[0m\u001b[0;34m)\u001b[0m\u001b[0;34m\u001b[0m\u001b[0m\n\u001b[0;32m--> 808\u001b[0;31m                     \u001b[0mself\u001b[0m\u001b[0;34m.\u001b[0m\u001b[0mdo_handshake\u001b[0m\u001b[0;34m(\u001b[0m\u001b[0;34m)\u001b[0m\u001b[0;34m\u001b[0m\u001b[0m\n\u001b[0m\u001b[1;32m    809\u001b[0m \u001b[0;34m\u001b[0m\u001b[0m\n\u001b[1;32m    810\u001b[0m             \u001b[0;32mexcept\u001b[0m \u001b[0;34m(\u001b[0m\u001b[0mOSError\u001b[0m\u001b[0;34m,\u001b[0m \u001b[0mValueError\u001b[0m\u001b[0;34m)\u001b[0m\u001b[0;34m:\u001b[0m\u001b[0;34m\u001b[0m\u001b[0m\n",
      "\u001b[0;32m~/anaconda/lib/python3.6/ssl.py\u001b[0m in \u001b[0;36mdo_handshake\u001b[0;34m(self, block)\u001b[0m\n\u001b[1;32m   1059\u001b[0m             \u001b[0;32mif\u001b[0m \u001b[0mtimeout\u001b[0m \u001b[0;34m==\u001b[0m \u001b[0;36m0.0\u001b[0m \u001b[0;32mand\u001b[0m \u001b[0mblock\u001b[0m\u001b[0;34m:\u001b[0m\u001b[0;34m\u001b[0m\u001b[0m\n\u001b[1;32m   1060\u001b[0m                 \u001b[0mself\u001b[0m\u001b[0;34m.\u001b[0m\u001b[0msettimeout\u001b[0m\u001b[0;34m(\u001b[0m\u001b[0;32mNone\u001b[0m\u001b[0;34m)\u001b[0m\u001b[0;34m\u001b[0m\u001b[0m\n\u001b[0;32m-> 1061\u001b[0;31m             \u001b[0mself\u001b[0m\u001b[0;34m.\u001b[0m\u001b[0m_sslobj\u001b[0m\u001b[0;34m.\u001b[0m\u001b[0mdo_handshake\u001b[0m\u001b[0;34m(\u001b[0m\u001b[0;34m)\u001b[0m\u001b[0;34m\u001b[0m\u001b[0m\n\u001b[0m\u001b[1;32m   1062\u001b[0m         \u001b[0;32mfinally\u001b[0m\u001b[0;34m:\u001b[0m\u001b[0;34m\u001b[0m\u001b[0m\n\u001b[1;32m   1063\u001b[0m             \u001b[0mself\u001b[0m\u001b[0;34m.\u001b[0m\u001b[0msettimeout\u001b[0m\u001b[0;34m(\u001b[0m\u001b[0mtimeout\u001b[0m\u001b[0;34m)\u001b[0m\u001b[0;34m\u001b[0m\u001b[0m\n",
      "\u001b[0;32m~/anaconda/lib/python3.6/ssl.py\u001b[0m in \u001b[0;36mdo_handshake\u001b[0;34m(self)\u001b[0m\n\u001b[1;32m    681\u001b[0m     \u001b[0;32mdef\u001b[0m \u001b[0mdo_handshake\u001b[0m\u001b[0;34m(\u001b[0m\u001b[0mself\u001b[0m\u001b[0;34m)\u001b[0m\u001b[0;34m:\u001b[0m\u001b[0;34m\u001b[0m\u001b[0m\n\u001b[1;32m    682\u001b[0m         \u001b[0;34m\"\"\"Start the SSL/TLS handshake.\"\"\"\u001b[0m\u001b[0;34m\u001b[0m\u001b[0m\n\u001b[0;32m--> 683\u001b[0;31m         \u001b[0mself\u001b[0m\u001b[0;34m.\u001b[0m\u001b[0m_sslobj\u001b[0m\u001b[0;34m.\u001b[0m\u001b[0mdo_handshake\u001b[0m\u001b[0;34m(\u001b[0m\u001b[0;34m)\u001b[0m\u001b[0;34m\u001b[0m\u001b[0m\n\u001b[0m\u001b[1;32m    684\u001b[0m         \u001b[0;32mif\u001b[0m \u001b[0mself\u001b[0m\u001b[0;34m.\u001b[0m\u001b[0mcontext\u001b[0m\u001b[0;34m.\u001b[0m\u001b[0mcheck_hostname\u001b[0m\u001b[0;34m:\u001b[0m\u001b[0;34m\u001b[0m\u001b[0m\n\u001b[1;32m    685\u001b[0m             \u001b[0;32mif\u001b[0m \u001b[0;32mnot\u001b[0m \u001b[0mself\u001b[0m\u001b[0;34m.\u001b[0m\u001b[0mserver_hostname\u001b[0m\u001b[0;34m:\u001b[0m\u001b[0;34m\u001b[0m\u001b[0m\n",
      "\u001b[0;31mKeyboardInterrupt\u001b[0m: "
     ]
    }
   ],
   "source": [
    "for tag in taggarna[ensam[0]]:\n",
    "    post = pb.posts.all(tag=tag[0])\n",
    "    suggestions = pb.posts.suggest(url=post[0].url)\n",
    "    recommended = suggestions[1]['recommended']\n",
    "    popular = suggestions[0]['popular']\n",
    "    add_tags = []\n",
    "    add_tags = [tag for tag in recommended if tag not in post[0].tags]\n",
    "    if add_tags: \n",
    "        print (post[0].url, post[0].description, tag, '\\n', post[0].tags, add_tags)\n"
   ]
  },
  {
   "cell_type": "code",
   "execution_count": 31,
   "metadata": {},
   "outputs": [
    {
     "data": {
      "text/plain": [
       "[{'popular': ['analysis']},\n",
       " {'recommended': ['socialmedia',\n",
       "   'analysis',\n",
       "   'analytics',\n",
       "   'monitoring',\n",
       "   'semantic',\n",
       "   'social',\n",
       "   'measurement',\n",
       "   'metrics',\n",
       "   'tools',\n",
       "   'tracking']}]"
      ]
     },
     "execution_count": 31,
     "metadata": {},
     "output_type": "execute_result"
    }
   ],
   "source": [
    "suggestions"
   ]
  },
  {
   "cell_type": "code",
   "execution_count": 45,
   "metadata": {},
   "outputs": [
    {
     "data": {
      "text/plain": [
       "['socialmedia',\n",
       " 'analysis',\n",
       " 'analytics',\n",
       " 'monitoring',\n",
       " 'semantic',\n",
       " 'social',\n",
       " 'measurement',\n",
       " 'metrics',\n",
       " 'tools',\n",
       " 'tracking']"
      ]
     },
     "execution_count": 45,
     "metadata": {},
     "output_type": "execute_result"
    }
   ],
   "source": [
    "recommended"
   ]
  },
  {
   "cell_type": "code",
   "execution_count": 42,
   "metadata": {},
   "outputs": [],
   "source": [
    "popular = suggestions[0]['popular']"
   ]
  },
  {
   "cell_type": "code",
   "execution_count": 58,
   "metadata": {},
   "outputs": [
    {
     "data": {
      "text/plain": [
       "['socialmedia',\n",
       " 'analytics',\n",
       " 'monitoring',\n",
       " 'semantic',\n",
       " 'social',\n",
       " 'measurement',\n",
       " 'metrics',\n",
       " 'tools',\n",
       " 'tracking']"
      ]
     },
     "execution_count": 58,
     "metadata": {},
     "output_type": "execute_result"
    }
   ],
   "source": [
    "add_tags = [tag for tag in recommended if tag not in post[0].tags]"
   ]
  },
  {
   "cell_type": "code",
   "execution_count": 64,
   "metadata": {
    "collapsed": true
   },
   "outputs": [],
   "source": [
    "x = post[0].tags in recommended"
   ]
  },
  {
   "cell_type": "code",
   "execution_count": 65,
   "metadata": {},
   "outputs": [
    {
     "data": {
      "text/plain": [
       "False"
      ]
     },
     "execution_count": 65,
     "metadata": {},
     "output_type": "execute_result"
    }
   ],
   "source": [
    "x"
   ]
  },
  {
   "cell_type": "code",
   "execution_count": 66,
   "metadata": {
    "collapsed": true
   },
   "outputs": [],
   "source": [
    "y = list(set(post[0].tags).difference(recommended))"
   ]
  },
  {
   "cell_type": "code",
   "execution_count": 67,
   "metadata": {},
   "outputs": [
    {
     "data": {
      "text/plain": [
       "['future', 'digital_jurisdiction', 'ownership', 'business_models']"
      ]
     },
     "execution_count": 67,
     "metadata": {},
     "output_type": "execute_result"
    }
   ],
   "source": [
    "y"
   ]
  },
  {
   "cell_type": "code",
   "execution_count": 68,
   "metadata": {},
   "outputs": [
    {
     "data": {
      "text/plain": [
       "['ownership', 'digital_jurisdiction', 'future', 'business_models']"
      ]
     },
     "execution_count": 68,
     "metadata": {},
     "output_type": "execute_result"
    }
   ],
   "source": [
    "post[0].tags"
   ]
  },
  {
   "cell_type": "code",
   "execution_count": null,
   "metadata": {
    "collapsed": true
   },
   "outputs": [],
   "source": []
  }
 ],
 "metadata": {
  "kernelspec": {
   "display_name": "Python 3",
   "language": "python",
   "name": "python3"
  },
  "language_info": {
   "codemirror_mode": {
    "name": "ipython",
    "version": 3
   },
   "file_extension": ".py",
   "mimetype": "text/x-python",
   "name": "python",
   "nbconvert_exporter": "python",
   "pygments_lexer": "ipython3",
   "version": "3.7.3"
  }
 },
 "nbformat": 4,
 "nbformat_minor": 2
}
